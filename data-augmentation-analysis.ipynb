{
 "cells": [
  {
   "cell_type": "code",
   "execution_count": 1,
   "metadata": {},
   "outputs": [],
   "source": [
    "import logging\n",
    "import pandas as pd\n",
    "import numpy as np\n",
    "import gensim.downloader as api\n",
    "from pathlib import Path\n",
    "from scipy.spatial.distance import cosine\n",
    "\n",
    "\n",
    "# Set up logging\n",
    "logging.basicConfig(format='%(asctime)s - %(message)s',\n",
    "                    datefmt='%Y-%m-%d %H:%M:%S',\n",
    "                    level=logging.INFO)"
   ]
  },
  {
   "cell_type": "code",
   "execution_count": 2,
   "metadata": {},
   "outputs": [],
   "source": [
    "# Path configuration\n",
    "DATA_DIR = Path('./data')\n",
    "TRAIN_PATH = DATA_DIR / 'train.csv'\n",
    "DEV_PATH = DATA_DIR / 'dev.csv'\n",
    "AUGMENTED_DATA_PATH = DATA_DIR / 'train_augmented.csv'"
   ]
  },
  {
   "cell_type": "code",
   "execution_count": 3,
   "metadata": {},
   "outputs": [
    {
     "name": "stdout",
     "output_type": "stream",
     "text": [
      "1509\n"
     ]
    }
   ],
   "source": [
    "augmented_data = pd.read_csv(AUGMENTED_DATA_PATH)\n",
    "print(len(augmented_data))"
   ]
  },
  {
   "cell_type": "code",
   "execution_count": 6,
   "metadata": {},
   "outputs": [
    {
     "name": "stderr",
     "output_type": "stream",
     "text": [
      "2025-03-27 10:03:38 - loading projection weights from C:\\Users\\willi/gensim-data\\glove-wiki-gigaword-300\\glove-wiki-gigaword-300.gz\n",
      "2025-03-27 10:04:40 - KeyedVectors lifecycle event {'msg': 'loaded (400000, 300) matrix of type float32 from C:\\\\Users\\\\willi/gensim-data\\\\glove-wiki-gigaword-300\\\\glove-wiki-gigaword-300.gz', 'binary': False, 'encoding': 'utf8', 'datetime': '2025-03-27T10:04:40.016144', 'gensim': '4.3.3', 'python': '3.11.2 (tags/v3.11.2:878ead1, Feb  7 2023, 16:38:35) [MSC v.1934 64 bit (AMD64)]', 'platform': 'Windows-10-10.0.26100-SP0', 'event': 'load_word2vec_format'}\n"
     ]
    }
   ],
   "source": [
    "# Load pre-trained word vectors\n",
    "word_vectors = api.load('glove-wiki-gigaword-300')"
   ]
  },
  {
   "cell_type": "code",
   "execution_count": 7,
   "metadata": {},
   "outputs": [],
   "source": [
    "def text_to_vec(text):\n",
    "    # Split text into words and get vector for each word\n",
    "    words = text.lower().split()\n",
    "    \n",
    "    word_vecs = [word_vectors[word] for word in words if word in word_vectors]\n",
    "    \n",
    "    if not word_vecs: return np.zeros(300)\n",
    "\n",
    "    return np.mean(word_vecs, axis=0)\n",
    "\n",
    "# Convert to vectors\n",
    "evidence_vectors = augmented_data['Evidence'].apply(text_to_vec)\n",
    "original_vectors = augmented_data['Original Evidence'].apply(text_to_vec)\n",
    "\n",
    "# Calculate cosine similarity\n",
    "similarities = [1 - cosine(evidence_vectors[i], original_vectors[i]) for i in range(len(augmented_data))]"
   ]
  },
  {
   "cell_type": "code",
   "execution_count": 8,
   "metadata": {},
   "outputs": [
    {
     "name": "stdout",
     "output_type": "stream",
     "text": [
      "In this way, open source software provides solutions to unique or specific problems.\n",
      "In this way, open source software provides solutions to unique or specific problems.\n",
      "Prostitution abolitionists also cite similarities between prostitution and violence against women.\n",
      "Prostitution abolitionists also cite similarities between prostitution and violence against women.\n",
      "Excessive alcohol consumption can have a negative impact on aging [ref].\n",
      "Excessive alcohol consumption can have a negative impact on aging [REF].\n",
      "China prohibits human reproductive cloning but allows the creation of human embryos for research and therapeutic purposes [REF].\n",
      "China prohibits human reproductive cloning but allows the creation of human embryos for research and therapeutic purposes [REF].\n",
      "Economist Kenyan James Shikwati says in an interview with Der Spiegel: 'Aid to Africa does more harm than good'\n",
      "Kenyan economist James Shikwati says in an interview with Der Spiegel: 'aid to Africa does more harm than good' \n",
      "Some anti-abortion activists claim that having an abortion increases the risk of developing breast cancer.\n",
      "Some anti-abortion activists claim that having an abortion increases the risk of developing breast cancer.\n"
     ]
    }
   ],
   "source": [
    "for idx, similarity in enumerate(similarities):\n",
    "    if similarity == 1:\n",
    "        print(augmented_data['Evidence'][idx])\n",
    "        print(augmented_data['Original Evidence'][idx])"
   ]
  }
 ],
 "metadata": {
  "kernelspec": {
   "display_name": ".venv",
   "language": "python",
   "name": "python3"
  },
  "language_info": {
   "codemirror_mode": {
    "name": "ipython",
    "version": 3
   },
   "file_extension": ".py",
   "mimetype": "text/x-python",
   "name": "python",
   "nbconvert_exporter": "python",
   "pygments_lexer": "ipython3",
   "version": "3.11.2"
  }
 },
 "nbformat": 4,
 "nbformat_minor": 2
}
