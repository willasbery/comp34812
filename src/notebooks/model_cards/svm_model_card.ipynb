{
  "cells": [
    {
      "cell_type": "markdown",
      "metadata": {
        "id": "Puto8-5ILO2s"
      },
      "source": [
        "Required import statement"
      ]
    },
    {
      "cell_type": "code",
      "execution_count": 12,
      "metadata": {
        "id": "inUOAq0Yy_O5"
      },
      "outputs": [],
      "source": [
        "from huggingface_hub import ModelCard, ModelCardData"
      ]
    },
    {
      "cell_type": "markdown",
      "metadata": {
        "id": "TX5nkStaLTRC"
      },
      "source": [
        "Before running the cell below, upload the model card template (`COMP34812_modelcard_template.md`) provided to you using the Colab file browser (on the left-hand side)."
      ]
    },
    {
      "cell_type": "code",
      "execution_count": 13,
      "metadata": {
        "colab": {
          "base_uri": "https://localhost:8080/"
        },
        "id": "pg4o6fuPbl5X",
        "outputId": "1d1ed78f-2d19-4d0d-b9d5-9f4952d152c7"
      },
      "outputs": [
        {
          "name": "stderr",
          "output_type": "stream",
          "text": [
            "Repo card metadata block was not found. Setting CardData to empty.\n"
          ]
        }
      ],
      "source": [
        "card_data = ModelCardData(\n",
        "    language='en',\n",
        "    license='cc-by-4.0',\n",
        "    tags=['text-classification'],\n",
        "    # change the line below to specify the URL to your Github/Gitlab repo\n",
        "    repo=\"https://github.com/willasbery/comp34812\",\n",
        "    ignore_metadata_errors=True)\n",
        "\n",
        "card = ModelCard.from_template(\n",
        "    card_data = card_data,\n",
        "    template_path='./COMP34812_modelcard_template.md',\n",
        "    # change the following line to indicate your respective usernames\n",
        "    # and the abbreviation of the relevant track name, e.g., NLI, ED, AV\n",
        "    model_id = 'm17832wa-j08328hd-ED',\n",
        "\n",
        "    # the following lines were provided to give you an example value for each attribute\n",
        "    model_summary = '''This is a classification model that was trained to\n",
        "      detect whether the evidence provided supports the claim.''',\n",
        "    model_description = '''This model is an SVM classifier that was trained on 29k pairs of texts.''',\n",
        "    developers = 'Harvey Dennis and William Asbery',\n",
        "    model_type = 'Supervised',\n",
        "    model_architecture = 'SVM',\n",
        "    language = 'English',\n",
        "    training_data = 'All 21.5K pairs of texts provided as part of the ED training set and an additional 6.5K from augmentation.',\n",
        "    hyperparameters = '''\n",
        "      - embedding_dim: 300\n",
        "      - ngram: 2\n",
        "      - pca_components (SVD): 540\n",
        "      - vocab_size: 12,000\n",
        "      - C: 1.96\n",
        "      - kernel: rbf\n",
        "      - use_tf_idf_weightings: True\n",
        "      - gamma: scale\n",
        "      - seed: 42''',\n",
        "    speeds_sizes_times = '''\n",
        "      - overall training time: 3 hours\n",
        "      - model size: 500MB''',\n",
        "    testing_data = 'The entire development dataset provided, amounting to 6K pairs.',\n",
        "    testing_metrics = '''\n",
        "      - Weighted Precision\n",
        "      - Weighted Recall\n",
        "      - Weighted F1-score\n",
        "      - Accuracy\n",
        "      - MCC''',\n",
        "    results ='''\n",
        "    The model obtained:\n",
        "      - Weighted Precision of 82.7%\n",
        "      - Weighted Recall of 82.5%\n",
        "      - Weighted F1-score of 82.6%\n",
        "      - Accuracy of 82.5%\n",
        "      - MCC of 0.57\n",
        "    ''',\n",
        "    hardware_requirements = '''\n",
        "      - RAM: at least 16 GB recommended\n",
        "      - Storage: at least 1GB for model files,\n",
        "      - CPU: standard CPU sufficient (we used a M2 Macbook Pro) (no GPU required)''',\n",
        "    software = '''\n",
        "      - Scikit-learn 1.3.2\n",
        "      - Optuna 4.2.1\n",
        "      - NLTK 3.9.1\n",
        "    ''',\n",
        "    additional_information = '''The hyperparameters for model were determined by experimentation\n",
        "      with different values using Optuna and a TPE sampler.'''\n",
        ")\n",
        "\n",
        "\n",
        "with open('svm_model_card.md', 'w') as model_card:\n",
        "  model_card.write(card.content)"
      ]
    }
  ],
  "metadata": {
    "colab": {
      "provenance": []
    },
    "kernelspec": {
      "display_name": ".venv",
      "language": "python",
      "name": "python3"
    },
    "language_info": {
      "codemirror_mode": {
        "name": "ipython",
        "version": 3
      },
      "file_extension": ".py",
      "mimetype": "text/x-python",
      "name": "python",
      "nbconvert_exporter": "python",
      "pygments_lexer": "ipython3",
      "version": "3.11.2"
    }
  },
  "nbformat": 4,
  "nbformat_minor": 0
}
