{
  "cells": [
    {
      "cell_type": "markdown",
      "metadata": {
        "id": "Puto8-5ILO2s"
      },
      "source": [
        "Required import statement"
      ]
    },
    {
      "cell_type": "code",
      "execution_count": 1,
      "metadata": {
        "id": "inUOAq0Yy_O5"
      },
      "outputs": [
        {
          "name": "stderr",
          "output_type": "stream",
          "text": [
            "c:\\Users\\willi\\Desktop\\Uni\\3rd_year\\NLU\\comp38412-not-broken\\.venv\\Lib\\site-packages\\tqdm\\auto.py:21: TqdmWarning: IProgress not found. Please update jupyter and ipywidgets. See https://ipywidgets.readthedocs.io/en/stable/user_install.html\n",
            "  from .autonotebook import tqdm as notebook_tqdm\n"
          ]
        }
      ],
      "source": [
        "from huggingface_hub import ModelCard, ModelCardData"
      ]
    },
    {
      "cell_type": "markdown",
      "metadata": {
        "id": "TX5nkStaLTRC"
      },
      "source": [
        "Before running the cell below, upload the model card template (`COMP34812_modelcard_template.md`) provided to you using the Colab file browser (on the left-hand side)."
      ]
    },
    {
      "cell_type": "code",
      "execution_count": 8,
      "metadata": {
        "colab": {
          "base_uri": "https://localhost:8080/"
        },
        "id": "pg4o6fuPbl5X",
        "outputId": "1d1ed78f-2d19-4d0d-b9d5-9f4952d152c7"
      },
      "outputs": [
        {
          "name": "stderr",
          "output_type": "stream",
          "text": [
            "Repo card metadata block was not found. Setting CardData to empty.\n"
          ]
        }
      ],
      "source": [
        "card_data = ModelCardData(\n",
        "    language='en',\n",
        "    license='cc-by-4.0',\n",
        "    tags=['text-classification'],\n",
        "    # change the line below to specify the URL to your Github/Gitlab repo\n",
        "    repo=\"https://github.com/willasbery/comp34812\",\n",
        "    ignore_metadata_errors=True)\n",
        "\n",
        "card = ModelCard.from_template(\n",
        "    card_data = card_data,\n",
        "    template_path='./COMP34812_modelcard_template.md',\n",
        "    # change the following line to indicate your respective usernames\n",
        "    # and the abbreviation of the relevant track name, e.g., NLI, ED, AV\n",
        "    model_id = 'm17832wa-j08328hd-ED',\n",
        "\n",
        "    # the following lines were provided to give you an example value for each attribute\n",
        "    model_summary = '''This is a classification model that was trained to\n",
        "      detect whether the evidence provided supports the claim.''',\n",
        "    model_description = '''This model is based upon the `microsoft/deberta-v3-large` model that was fine-tuned\n",
        "      on 29k pairs of texts.''',\n",
        "    developers = 'Harvey Dennis and William Asbery',\n",
        "    base_model_repo = 'https://huggingface.co/microsoft/deberta-v3-base',\n",
        "    base_model_paper = 'https://arxiv.org/pdf/2111.09543',\n",
        "    model_type = 'Supervised',\n",
        "    model_architecture = 'Transformers',\n",
        "    language = 'English',\n",
        "    base_model = 'deberta-v3-large',\n",
        "    training_data = '29K pairs of texts drawn from emails, news articles and blog posts (21.5K are original and 6.5K are augmented from the original texts).',\n",
        "    hyperparameters = '''\n",
        "      - learning_rate: 5e-05\n",
        "      - weight_decay: 0.03\n",
        "      - warmup_ratio: 0.11\n",
        "      - dropout_rate: 0.05\n",
        "      - max_seq_length: 512\n",
        "      - batch_size: 8\n",
        "      - seed: 42\n",
        "      - num_epochs: 8 (early stopping enabled)''',\n",
        "    speeds_sizes_times = '''\n",
        "      - overall training time (early stopping occurred): 1.5 hours\n",
        "      - duration per training epoch: 30 minutes\n",
        "      - model size: 10MB''',\n",
        "    testing_data = 'The development dataset provided, amounting to 6K pairs.',\n",
        "    testing_metrics = '''\n",
        "      - Weighted Precision\n",
        "      - Weighted Recall\n",
        "      - Weighted F1-score\n",
        "      - Accuracy\n",
        "      - MCC''',\n",
        "    results = 'The model obtained an F1-score of 88.9% and an accuracy of 70%.',\n",
        "    hardware_requirements = '''\n",
        "      - RAM: at least 16 GB\n",
        "      - Storage: at least 2GB,\n",
        "      - GPU: P100''',\n",
        "    software = '''\n",
        "      - Transformers 4.18.0\n",
        "      - Pytorch 1.11.0+cu113''',\n",
        "    bias_risks_limitations = '''Any inputs (concatenation of two sequences) longer than\n",
        "      512 tokens will be truncated by the model.''',\n",
        "    additional_information = '''The hyperparameters for both the LoRA optimiser and model were determined by experimentation\n",
        "      with different values using Optuna and a TPE sampler.'''\n",
        ")\n",
        "\n",
        "# the following lines will write a markdown (.md) file; this becomes one of your model cards\n",
        "# change the filename accordingly\n",
        "with open('deberta_model_card.md', 'w') as model_card:\n",
        "  model_card.write(card.content)"
      ]
    }
  ],
  "metadata": {
    "colab": {
      "provenance": []
    },
    "kernelspec": {
      "display_name": ".venv",
      "language": "python",
      "name": "python3"
    },
    "language_info": {
      "codemirror_mode": {
        "name": "ipython",
        "version": 3
      },
      "file_extension": ".py",
      "mimetype": "text/x-python",
      "name": "python",
      "nbconvert_exporter": "python",
      "pygments_lexer": "ipython3",
      "version": "3.11.2"
    }
  },
  "nbformat": 4,
  "nbformat_minor": 0
}
