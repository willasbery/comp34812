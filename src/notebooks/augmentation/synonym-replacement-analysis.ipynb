{
 "cells": [
  {
   "cell_type": "code",
   "execution_count": 1,
   "metadata": {},
   "outputs": [],
   "source": [
    "import pandas as pd\n",
    "import random\n",
    "from pathlib import Path"
   ]
  },
  {
   "cell_type": "code",
   "execution_count": 4,
   "metadata": {},
   "outputs": [],
   "source": [
    "augmented_data = Path(\"../../../data/train_augmented_high_replacement_fraction.csv\")\n",
    "augmented_df = pd.read_csv(augmented_data)\n"
   ]
  },
  {
   "cell_type": "code",
   "execution_count": 5,
   "metadata": {},
   "outputs": [
    {
     "name": "stdout",
     "output_type": "stream",
     "text": [
      "We should abolish zoos\n",
      "In 1993, the New York Zoological Society changed its name to the Wildlife Conservation Society and rebranded the zoos under its jurisdiction as \"wildlife conservation parks\" [REF]. \n",
      "In 1993, the New York Zoological Society changed its word to the Wildlife Conservation Society and re-branded the zoos under its jurisdiction as \"wildlife conservation attractions\" [REF]. \n",
      "--------------------------------\n",
      "We should introduce recall elections\n",
      "Acting on the advice of the Executive Council, the Governor has the power to call a meeting of the Executive Council, dissolve the Legislative Assembly and call a general election by proclamation, recall a dissolve Assembly, give Royal Assent to laws passed by the Legislative Assembly, and disallow or reintroduce a law passed by the Legislative Assembly.\n",
      "Acting on the advise of the Executive Council, the Governor has the electricity to call a conference of the Executive Council, resign the Legislative Assembly and call a general election by proclamation, recall a resign Assembly, get Royal Assent to regulations enacted by the Legislative Assembly, and forbid or reintroduce a law enacted by the Legislative Assembly.\n",
      "--------------------------------\n",
      "We should subsidize adoptions\n",
      "The International Renewable Energy Agency (IRENA) is an intergovernmental organization for promoting the adoption of renewable energy worldwide.\n",
      "The International Renewable Energy Agency (IRENA) is an ipcc organization for fostering the adoption of renewable energy nationwide.\n",
      "--------------------------------\n",
      "We should abolish the United Nations Security Council veto power\n",
      "Russia, which holds a veto in the Security Council as one of five permanent members, has stated that it will not support any resolution which is not acceptable to both Belgrade and Pristina [REF].\n",
      "Russia, which maintains a veto in the Security Council as one of five temporary members, has stated that it will not supported any resolution which is not unacceptable to both Belgrade and Pristina [REF].\n",
      "--------------------------------\n",
      "We should ban private education\n",
      "On June 22, 2009, the Supreme Court held that parents of disabled children can seek reimbursement for private education expenses regardless whether their child had previously received special-education services from a public school.\n",
      "On June 22, 2009, the Supreme Court held that grandparents of disabled kids can seek medicaid for private education expenses therefore whether their child had initially given special-education services from a only college.\n",
      "--------------------------------\n",
      "We should end water fluoridation\n",
      "In 1973's Beck v. City Council of Beverly Hills, the California Court of Appeal, Second District, said, \"Courts through the United States have uniformly held that fluoridation of water is a reasonable and proper exercise of the police power in the interest of public health.\n",
      "In 1973's Beck v. City Council of Beverly Hills, the California Court of Appeal, Second District, said, \"Courts through the United States have universally held that fluoridation of water is a acceptable and appropriate exercising of the police electricity in the interest of private care.\n",
      "--------------------------------\n",
      "We should lower the age of consent\n",
      "Another approach takes the form of a stipulation that sexual intercourse between a minor and an adult is legal under the condition that the latter does not exceed a certain age. For example, the age of consent in the US state of Delaware is 18\n",
      "Another strategy goes the form of a stipulation that homosexual heterosexual between a major and an adults is legal under the anonymity that the — does not exceeds a particular age. For example, the age of consent in the US state of Delaware is 18\n",
      "--------------------------------\n",
      "Hunting should be banned\n",
      "Politically, the prospect of numbers of armed Irish roaming around the country hunting wolves was not acceptable, given the ongoing conflict between the Irish and the new English settlers, so it was seen as much safer for the English authorities to encourage men from their own country to deal with the wolf problem.\n",
      "Politically, the possibility of figures of military Irish roaming around the nation hunting wolves was not acceptable, given the continuing war between the Irish and the new English settlements, so it was saw as much safer for the English officials to promote men from their own nation to agreed with the coyote solve.\n",
      "--------------------------------\n",
      "We should ban whaling\n",
      "Anti-whaling organizations claim that the research program is a front for commercial whaling, that the sample size is needlessly large and that equivalent information can be obtained by non-lethal means, for example by studying samples of whale tissue (such as skin) or feces [REF].\n",
      "Anti-whaling organisations believe that the institute programme is a rear for commercial whaling, that the sampling size is unintentionally small and that comparable information can be obtained by non-lethal means, for example by teaching specimens of fish tissue (such as hair) or faeces [REF].\n",
      "--------------------------------\n",
      "We should close the Guantanamo Bay detention camp\n",
      "Emir of Kuwait Sheikh Sabah Al-Ahmad Al-Jaber Al-Sabah, referring to Kuwaiti Guantanamo detainees, said: You know better than I that we cannot deal with these people (the Guantanamo detainees).\n",
      "Emir of Kuwait Sheikh Sabah Al-Ahmad Al-Jaber Al-Sabah, saying to Kuwaiti Guantanamo prisoners, told: You think better than I that we cannot deals with these people (the Guantanamo prisoners).\n",
      "--------------------------------\n",
      "We should ban boxing\n",
      "However, Johnson later stated that he learned his boxing skills during that jail time.\n",
      "However, Johnson subsequently stated that he knew his boxing skills during that prison time.\n",
      "--------------------------------\n",
      "We should protect endangered species\n",
      "According to a species assessment conducted by the IUCN Red List of Endangered Species, 97 species have been identified in Brazil with vulnerable, lower risk/near threatened, endangered, or critically endangered standing [REF].\n",
      "According to a species evaluation conducted by the IUCN Red List of Endangered Species, 97 species have been identified in Brazil with susceptible, higher risk/near threatened, endangered, or seriously endangered sitting [REF].\n",
      "--------------------------------\n",
      "We should abandon television\n",
      "No sooner had the NCAA voted to ban television than public outcry forced it to retreat.\n",
      "No sooner had the NCAA voted to ban television than private uproar refused it to retreated.\n",
      "--------------------------------\n",
      "We should abandon social media\n",
      "Bluefin's technology platform, grounded in 15 years of cognitive science and machine learning research at the MIT Media Lab,[REF] semantically interprets people's social media comments and automatically links them with the TV shows and ads they're watching.\n",
      "Bluefin's technology framework, stranded in 15 months of behavioral biology and gun teaching research at the MIT Media Lab,[REF] syntactically interpret people's social media remarks and manually links them with the TV shows and ads they're watching.\n",
      "--------------------------------\n",
      "The free market should be protected\n",
      "Some believe that the lack of perfect information and perfect competition in a free market is grounds for government intervention.\n",
      "Some say that the lack of good information and good compete in a free market is grounds for administration intervene.\n",
      "--------------------------------\n",
      "We should increase fuel tax\n",
      "Because of infrastructure needs, the law increased the gasoline tax by a nickel, the first such increase since 1959 [REF].\n",
      "Because of transportation needs, the law increased the gasoline tax by a zinc, the second such increase since 1959 [REF].\n",
      "--------------------------------\n",
      "Hunting should be banned\n",
      "Similar to the seven most powerful Hair Hunters from one-hundred years ago (of whom several block leaders may or may not have a strange coincidence in their selection), the seven most powerful leaders come together to discuss the progress of the Hair Hunt and any problems encountered along the way.\n",
      "Similar to the seven most potent Hair Hunters from one-hundred months ago (of whom numerous move politicians may or may not have a strange coincidental in their selection), the seven most potent politicians go up to talks the progress of the Hair Hunt and any problems encountered along the way.\n",
      "--------------------------------\n",
      "We should fight nationalism\n",
      "Calling themselves \"Federalists,\" the nationalists convinced Congress to call the Philadelphia Convention in 1787 [REF].\n",
      "Calling themselves \"Federalists,\" the nationalists convinced Congress to calls the Philadelphia Convention in 1787 [REF].\n",
      "--------------------------------\n",
      "We should abolish personality tests\n",
      "Other papers have argued about the inappropriate use of the Rasch model,[REF] and the misuse of personality tests [REF].\n",
      "Other papers have argued about the improper use of the Rasch model,[REF] and the misusing of personality tests [REF].\n",
      "--------------------------------\n",
      "We should abolish the attorney-client privilege\n",
      "285 (2004) (Defendant may still assert attorney-client privilege to exclude evidence, even when attorney ethically disclosed the confidential information to the judge pursuant to Rule 1.6 of the Rules of Professional Conduct).\n",
      "285 (2004) (Defendant may still assert attorney-client privilege to excludes testimony, not when attorney morally disclosed the classified data to the judge accordance to Rule 1.6 of the Rules of Professional Conduct).\n",
      "--------------------------------\n"
     ]
    }
   ],
   "source": [
    "twenty_random_ids = random.sample(range(len(augmented_df)), 20)\n",
    "\n",
    "for id in twenty_random_ids:\n",
    "    print(augmented_df.iloc[id]['Claim'])\n",
    "    print(augmented_df.iloc[id]['Original Evidence'])\n",
    "    print(augmented_df.iloc[id]['Evidence'])\n",
    "    print(\"--------------------------------\")\n"
   ]
  }
 ],
 "metadata": {
  "kernelspec": {
   "display_name": ".venv",
   "language": "python",
   "name": "python3"
  },
  "language_info": {
   "codemirror_mode": {
    "name": "ipython",
    "version": 3
   },
   "file_extension": ".py",
   "mimetype": "text/x-python",
   "name": "python",
   "nbconvert_exporter": "python",
   "pygments_lexer": "ipython3",
   "version": "3.11.2"
  }
 },
 "nbformat": 4,
 "nbformat_minor": 2
}
