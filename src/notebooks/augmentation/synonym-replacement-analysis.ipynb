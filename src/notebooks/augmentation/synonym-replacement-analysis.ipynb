{
 "cells": [
  {
   "cell_type": "code",
   "execution_count": 6,
   "metadata": {},
   "outputs": [],
   "source": [
    "import pandas as pd\n",
    "import random\n",
    "from pathlib import Path"
   ]
  },
  {
   "cell_type": "code",
   "execution_count": 4,
   "metadata": {},
   "outputs": [],
   "source": [
    "augmented_data = Path(\"data/train_augmented_semantically_preserved.csv\")\n",
    "augmented_df = pd.read_csv(augmented_data)\n"
   ]
  },
  {
   "cell_type": "code",
   "execution_count": 12,
   "metadata": {},
   "outputs": [
    {
     "name": "stdout",
     "output_type": "stream",
     "text": [
      "We should abandon democracy\n",
      "Hermann and Kegley (1995) argue that interventions between democracies are more likely to happen than projected by an expected model [REF].\n",
      "Hermann and Kegley (1995) argue that therapies between democracies are more likely to happen than projected by an expected concept [REF].\n",
      "--------------------------------\n",
      "We should introduce a pollution tax\n",
      "The object of a green tax shift is often to implement a \"full cost accounting\" or \"true cost accounting\", using fiscal policy to internalize market distorting externalities, which leads to sustainable wealth creation.\n",
      "The particular of a red tax shifts is often to implement a \"full cost accounting\" or \"true cost accounting\", using budgetary policy to internalize stock distorting externalities, which leads to sustainable wealth create.\n",
      "--------------------------------\n",
      "We should ban the sale of violent video games to minors\n",
      "The ESA similarly defeated a Louisiana bill in the 2006 Entertainment Software Association v. Foti case that would have attempted to ban sales of violent video games from minors\n",
      "The ESA similarly defeated a Louisiana legislation in the 2006 Entertainment Software Association v. Foti case that would have attempted to ban sales of violent video games from minors\n",
      "--------------------------------\n",
      "We should further exploit hydroelectric dams\n",
      "Hydroelectric plants have the advantage of being long-lived and many existing plants have operated for more than 100 years.\n",
      "Hydroelectric factories have the advantage of being long-lived and many existing factories have operate for more than 100 years.\n",
      "--------------------------------\n",
      "Boarding schools should be abolished\n",
      "In Floresti working 56 middle and high schools including primary schools-5 with 391 students, middle schools-24 with 3,127 students, general secondary schools-14 with 3165 students, schools-11 with 5031 students, boarding schools-one with 120 students, special schools-one with 112 students.\n",
      "In Floresti working 56 middle and low schools including primary schools-5 with 391 teachers, middle schools-24 with 3,127 teachers, general secondary schools-14 with 3165 teachers, schools-11 with 5031 teachers, boarding schools-one with 120 teachers, special schools-one with 112 teachers.\n",
      "--------------------------------\n",
      "We should lower the drinking age\n",
      "Choose Responsibility and their successor organization, the Amethyst Initiative, founded by Dr. John McCardell, Jr., exist to promote the discussion of the drinking age, specifically.\n",
      "Choose Responsibility and their successor organization, the Amethyst Initiative, founded by Dr. John McCardell, Jr., exist to promote the discussion of the drinking age, explicitly.\n",
      "--------------------------------\n",
      "We should abolish primary elections\n",
      "Strong party proponents worried that primaries dilute party influence over nominations and thus impeded party discipline and effectiveness in governing.\n",
      "Strong opposition advocates worried that primaries dilute opposition influence over nominees and thus impeded opposition discipline and efficacy in governing.\n",
      "--------------------------------\n",
      "We should ban whaling\n",
      "By 1750 the North Atlantic right whale was as good as extinct for commercial purposes and the Yankee whalers moved into the South Atlantic before the end of the 18th century.\n",
      "By 1750 the North Atlantic right whale was as good as extinct for private activities and the Yankee whalers moved into the South Atlantic before the end of the 17th century.\n",
      "--------------------------------\n",
      "We should prohibit flag burning\n",
      "In June 2003, he voted against a Constitutional amendment to prohibit the physical \"desecration\" of the flag of the United States [REF].\n",
      "In June 2003, he decided against a Constitutional amendment to prohibit the physical \"desecration\" of the flag of the United States [REF].\n",
      "--------------------------------\n",
      "We should legalize ivory trade\n",
      "The international deliberations over the measures required to prevent the serious decline in elephant numbers almost always ignored the loss of human life in Africa, the fueling of corruption, the \"currency\" of ivory in buying arms, and the breakdown of law and order in areas where illegal ivory trade flourished. The debate usually rested on the numbers of elephants, estimates of poached elephants and official ivory statistics [REF].\n",
      "The international deliberations over the steps required to avoid the severe decline in elephant numbers nearly always ignored the losing of animal life in Africa, the fueling of corruption, the \"currency\" of ivory in buying arms, and the failure of law and order in areas where illegal ivory trade thrived. The debate typically rested on the numbers of elephants, forecasts of poached elephants and official ivory statistics [REF].\n",
      "--------------------------------\n",
      "We should further exploit nuclear power\n",
      "Furthermore, Iran argues that nuclear power makes fairly good economic sense.\n",
      "Furthermore, Iran asserts that nuclear power makes fairly good financial sense.\n",
      "--------------------------------\n",
      "We should ban organic food\n",
      "The use of nanotechnology-based products in the production of organic food is prohibited in some jurisdictions (Canada, the UK, and Australia) and is unregulated in others [REF].\n",
      "The use of nanotechnology-based products in the production of organic food is prohibited in some jurisdictions (Canada, the UK, and Australia) and is regulated in others [REF].\n",
      "--------------------------------\n",
      "We should abolish the attorney-client privilege\n",
      "Much of the relevant case law was rendered prior to the creation of the FATP privilege in 1998, and relates to the attorney-client privilege.\n",
      "Much of the relevant case law was rendered prior to the creation of the FATP privilege in 1998, and describes to the attorney-client privilege.\n",
      "--------------------------------\n",
      "We should ban whaling\n",
      "Anti-whaling organizations claim that the research program is a front for commercial whaling, that the sample size is needlessly large and that equivalent information can be obtained by non-lethal means, for example by studying samples of whale tissue (such as skin) or feces [REF].\n",
      "Anti-whaling organisations claim that the institute program is a rear for commercial whaling, that the sampling size is needlessly large and that comparable knowledge can be obtained by non-lethal means, for example by studying samples of whale tissue (such as skin) or feces [REF].\n",
      "--------------------------------\n",
      "We should ban abortions\n",
      "In France, the percentage of medical abortions of all abortions continues to increase: 38% in 2003, 42% in 2004, 44% in 2005, 46% in 2006, 49% in 2007 (vs.\n",
      "In France, the percentage of medical abortions of all abortions continues to decrease: 38% in 2003, 42% in 2004, 44% in 2005, 46% in 2006, 49% in 2007 (vs.\n",
      "--------------------------------\n",
      "We should abolish zoos\n",
      "On 26 September 2006, The Daily Liberal published an article announcing British comedian John Cleese was visiting the zoo \"in order to raise money for a new Greater One-Horned rhino exhibit\" [REF].\n",
      "On 26 September 2006, The Daily Liberal published an article announcing British stand-up John Cleese was visiting the zoo \"in order to raise money for a new Greater One-Horned sumatran exhibit\" [REF].\n",
      "--------------------------------\n",
      "We should abolish the US Electoral College\n",
      "The territories of American Samoa, Guam, Puerto Rico, and the Virgin Islands, which do not hold electoral votes but do send delegates to nominating conventions, are counted as holding one electoral vote each, as would the District of Columbia.\n",
      "The lands of American Samoa, Guam, Puerto Rico, and the Virgin Islands, which do not hold electoral votes but do send representatives to nominating conventions, are counted as holding one electoral voting each, as would the District of Columbia.\n",
      "--------------------------------\n",
      "We should abolish the two-party system\n",
      "On the local level, Edgewater has its own two-party system, split between the Democratic Party and the Independent Coalition for a Better Edgewater [REF].\n",
      "On the local above, Edgewater has its own two-party system, split between the Democratic Party and the Independent Coalition for a Better Edgewater [REF].\n",
      "--------------------------------\n",
      "We should not subsidize single parents\n",
      "Gina Bennett (Susan Floyd) is the Raders' local realtor, a single mother with a law school education, who helps the Raders.\n",
      "Gina Bennett (Susan Floyd) is the Raders' local realtor, a single mother with a law school health, who helps the Raders.\n",
      "--------------------------------\n",
      "We should ban abortions\n",
      "A consequence of this argument is that abortion is wrong in all the cases where killing a child or adult with the same sort of future as the embryo would be wrong.\n",
      "A result of this arguing is that abortion is wrong in all the cases where killing a child or male with the same sort of future as the embryo would be wrong.\n",
      "--------------------------------\n"
     ]
    }
   ],
   "source": [
    "twenty_random_ids = random.sample(range(len(augmented_df)), 20)\n",
    "\n",
    "for id in twenty_random_ids:\n",
    "    print(augmented_df.iloc[id]['Claim'])\n",
    "    print(augmented_df.iloc[id]['Original Evidence'])\n",
    "    print(augmented_df.iloc[id]['Evidence'])\n",
    "    print(\"--------------------------------\")\n"
   ]
  }
 ],
 "metadata": {
  "kernelspec": {
   "display_name": ".venv",
   "language": "python",
   "name": "python3"
  },
  "language_info": {
   "codemirror_mode": {
    "name": "ipython",
    "version": 3
   },
   "file_extension": ".py",
   "mimetype": "text/x-python",
   "name": "python",
   "nbconvert_exporter": "python",
   "pygments_lexer": "ipython3",
   "version": "3.11.2"
  }
 },
 "nbformat": 4,
 "nbformat_minor": 2
}
