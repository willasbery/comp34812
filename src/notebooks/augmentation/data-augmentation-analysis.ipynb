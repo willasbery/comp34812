{
 "cells": [
  {
   "cell_type": "code",
   "execution_count": 1,
   "metadata": {},
   "outputs": [],
   "source": [
    "import logging\n",
    "import pandas as pd\n",
    "import numpy as np\n",
    "import gensim.downloader as api\n",
    "from pathlib import Path\n",
    "from scipy.spatial.distance import cosine\n",
    "\n",
    "\n",
    "# Set up logging\n",
    "logging.basicConfig(format='%(asctime)s - %(message)s',\n",
    "                    datefmt='%Y-%m-%d %H:%M:%S',\n",
    "                    level=logging.INFO)"
   ]
  },
  {
   "cell_type": "code",
   "execution_count": 9,
   "metadata": {},
   "outputs": [],
   "source": [
    "# Path configuration\n",
    "DATA_DIR = Path('./data')\n",
    "TRAIN_PATH = DATA_DIR / 'train.csv'\n",
    "DEV_PATH = DATA_DIR / 'dev.csv'\n",
    "AUGMENTED_DATA_PATH = DATA_DIR / 'train_augmented_high_replacement_fraction.csv'"
   ]
  },
  {
   "cell_type": "code",
   "execution_count": 10,
   "metadata": {},
   "outputs": [
    {
     "name": "stdout",
     "output_type": "stream",
     "text": [
      "6035\n"
     ]
    }
   ],
   "source": [
    "augmented_data = pd.read_csv(AUGMENTED_DATA_PATH)\n",
    "print(len(augmented_data))"
   ]
  },
  {
   "cell_type": "code",
   "execution_count": 4,
   "metadata": {},
   "outputs": [
    {
     "name": "stderr",
     "output_type": "stream",
     "text": [
      "2025-03-27 17:35:46 - loading projection weights from C:\\Users\\willi/gensim-data\\glove-wiki-gigaword-300\\glove-wiki-gigaword-300.gz\n",
      "2025-03-27 17:36:53 - KeyedVectors lifecycle event {'msg': 'loaded (400000, 300) matrix of type float32 from C:\\\\Users\\\\willi/gensim-data\\\\glove-wiki-gigaword-300\\\\glove-wiki-gigaword-300.gz', 'binary': False, 'encoding': 'utf8', 'datetime': '2025-03-27T17:36:53.332254', 'gensim': '4.3.3', 'python': '3.11.2 (tags/v3.11.2:878ead1, Feb  7 2023, 16:38:35) [MSC v.1934 64 bit (AMD64)]', 'platform': 'Windows-10-10.0.26100-SP0', 'event': 'load_word2vec_format'}\n"
     ]
    }
   ],
   "source": [
    "# Load pre-trained word vectors\n",
    "word_vectors = api.load('glove-wiki-gigaword-300')"
   ]
  },
  {
   "cell_type": "code",
   "execution_count": 5,
   "metadata": {},
   "outputs": [],
   "source": [
    "def text_to_vec(text):\n",
    "    # Split text into words and get vector for each word\n",
    "    words = text.lower().split()\n",
    "    \n",
    "    word_vecs = [word_vectors[word] for word in words if word in word_vectors]\n",
    "    \n",
    "    if not word_vecs: return np.zeros(300)\n",
    "\n",
    "    return np.mean(word_vecs, axis=0)\n",
    "\n",
    "# Convert to vectors\n",
    "evidence_vectors = augmented_data['Evidence'].apply(text_to_vec)\n",
    "original_vectors = augmented_data['Original Evidence'].apply(text_to_vec)\n",
    "\n",
    "# Calculate cosine similarity\n",
    "similarities = [1 - cosine(evidence_vectors[i], original_vectors[i]) for i in range(len(augmented_data))]"
   ]
  },
  {
   "cell_type": "code",
   "execution_count": 6,
   "metadata": {},
   "outputs": [
    {
     "name": "stdout",
     "output_type": "stream",
     "text": [
      "In this way, open source software provides solutions to unique or specific problems.\n",
      "In this way, open source software provides solutions to unique or specific problems.\n",
      "Prostitution abolitionists also cite similarities between prostitution and violence against women.\n",
      "Prostitution abolitionists also cite similarities between prostitution and violence against women.\n",
      "Excessive alcohol consumption can have a negative impact on aging [ref].\n",
      "Excessive alcohol consumption can have a negative impact on aging [REF].\n",
      "China prohibits human reproductive cloning but allows the creation of human embryos for research and therapeutic purposes [REF].\n",
      "China prohibits human reproductive cloning but allows the creation of human embryos for research and therapeutic purposes [REF].\n",
      "Economist Kenyan James Shikwati says in an interview with Der Spiegel: 'Aid to Africa does more harm than good'\n",
      "Kenyan economist James Shikwati says in an interview with Der Spiegel: 'aid to Africa does more harm than good' \n",
      "Some anti-abortion activists claim that having an abortion increases the risk of developing breast cancer.\n",
      "Some anti-abortion activists claim that having an abortion increases the risk of developing breast cancer.\n",
      "Economist Kenyan James Shikwati says in an interview with Der Spiegel: 'Aid to Africa does more harm than good'\n",
      "Kenyan economist James Shikwati says in an interview with Der Spiegel: 'aid to Africa does more harm than good' \n",
      "The first proposal adopted, repealing a constitutional ban on all lotteries.\n",
      "The first proposal passed, repealing a constitutional ban on all lotteries.\n",
      "The Presbyterian Church (United States) supports 'full and equal access to contraceptive methods'.\n",
      "The Presbyterian Church (USA) supports 'full and equal access to contraceptive methods.'\n",
      "The German cancer research center concluded in 2013 that abortion and miscarriage pose no risk of breast cancer [ref].\n",
      "The German Cancer Research Center concluded in 2013 that abortion and miscarriage pose no risk of breast cancer [REF].\n",
      "On January 18, 2011, Russia reiterated (first time 1988) its support and recognition of the state of Palestine [ref].\n",
      "On January 18, 2011, Russia reiterated (first time 1988) its support and recognition of the state of Palestine [REF].\n",
      "Severe anxiety and depression are commonly induced by sustained alcohol abuse\n",
      "Severe anxiety and depression are commonly induced by sustained alcohol abuse\n",
      "The party supports a system that gives universal coverage to everyone in Oregon, a system that is not for profit.\n",
      "The party supports a system that gives universal coverage to everyone in Oregon, a system that is not for profit.\n",
      "Caster also claims that gay marriage would create a 'sick society'. [Ref]\n",
      "Caster also claims that gay marriage would create a 'sick society.'[REF]\n",
      "Higgins is a supporter of education, including early education through higher education [ref].\n",
      "Higgins is a supporter of education, including early education through higher education [REF].\n",
      "Excessive alcohol consumption leads to an increased risk of heart failure [ref].\n",
      "excessive alcohol consumption leads to an increased risk of heart failure [REF].\n",
      "Standardized tests are also used in certain countries to regulate immigration.\n",
      "Standardized tests are also used in certain countries to regulate immigration.\n",
      "CCS is a green solution that makes civil infrastructure projects more sustainable.\n",
      "CCS is a green solution that makes civil infrastructure projects more sustainable.\n",
      "Economist Kenyan James Shikwati says in an interview with Der Spiegel: 'Aid to Africa does more harm than good'\n",
      "Kenyan economist James Shikwati says in an interview with Der Spiegel: 'aid to Africa does more harm than good' \n",
      "The Presbyterian Church (United States) supports 'full and equal access to contraceptive methods'.\n",
      "The Presbyterian Church (USA) supports 'full and equal access to contraceptive methods.'\n",
      "Caster also claims that gay marriage would create a 'sick society'. [Ref]\n",
      "Caster also claims that gay marriage would create a 'sick society.'[REF]\n",
      "JM Owen, in a generally friendly review, questions Weart's conclusion that universal democracy will mean lasting peace.\n",
      "JM Owen, in a generally friendly review, questions Weart's conclusion that universal democracy will mean lasting peace.\n",
      "One of the organs most sensitive to the toxic effects of chronic alcohol consumption is the brain.\n",
      "One of the organs most sensitive to the toxic effects of chronic alcohol consumption is the brain.\n",
      "The capitalist peace thesis suggests that free markets and economic development contribute to a reduction in interstate conflicts.\n",
      "The capitalist peace thesis suggests that free markets and economic development contribute to a reduction in interstate conflict.\n",
      "At About 300 BCE in India, Kautitya, A Political Philosopher (c. 350-283 BCE), Considered Population as a Source of Political, Economic, and Military Strength\n",
      "At about 300 BCE in India, Kautilya, a political philosopher (c. 350-283 BCE), considered population as a source of political, economic, and military strength\n"
     ]
    }
   ],
   "source": [
    "for idx, similarity in enumerate(similarities):\n",
    "    if similarity == 1:\n",
    "        print(augmented_data['Evidence'][idx])\n",
    "        print(augmented_data['Original Evidence'][idx])"
   ]
  }
 ],
 "metadata": {
  "kernelspec": {
   "display_name": ".venv",
   "language": "python",
   "name": "python3"
  },
  "language_info": {
   "codemirror_mode": {
    "name": "ipython",
    "version": 3
   },
   "file_extension": ".py",
   "mimetype": "text/x-python",
   "name": "python",
   "nbconvert_exporter": "python",
   "pygments_lexer": "ipython3",
   "version": "3.11.2"
  }
 },
 "nbformat": 4,
 "nbformat_minor": 2
}
