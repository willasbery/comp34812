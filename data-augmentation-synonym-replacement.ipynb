{
 "cells": [
  {
   "cell_type": "code",
   "execution_count": 36,
   "metadata": {},
   "outputs": [
    {
     "name": "stderr",
     "output_type": "stream",
     "text": [
      "[nltk_data] Downloading package stopwords to\n",
      "[nltk_data]     C:\\Users\\willi\\AppData\\Roaming\\nltk_data...\n",
      "[nltk_data]   Package stopwords is already up-to-date!\n",
      "[nltk_data] Downloading package averaged_perceptron_tagger_eng to\n",
      "[nltk_data]     C:\\Users\\willi\\AppData\\Roaming\\nltk_data...\n",
      "[nltk_data]   Package averaged_perceptron_tagger_eng is already up-to-\n",
      "[nltk_data]       date!\n"
     ]
    }
   ],
   "source": [
    "import logging\n",
    "import pandas as pd\n",
    "import numpy as np\n",
    "import nltk\n",
    "import random\n",
    "import string\n",
    "import re\n",
    "from gensim.downloader import load as glove_embeddings_loader\n",
    "from nltk.corpus import stopwords as nltk_stopwords\n",
    "from pathlib import Path\n",
    "from tqdm import tqdm\n",
    "\n",
    "nltk.download('stopwords')\n",
    "nltk.download('averaged_perceptron_tagger_eng')\n",
    "\n",
    "# Set up logging\n",
    "logging.basicConfig(format='%(asctime)s - %(message)s',\n",
    "                    datefmt='%Y-%m-%d %H:%M:%S',\n",
    "                    level=logging.INFO)"
   ]
  },
  {
   "cell_type": "code",
   "execution_count": 29,
   "metadata": {},
   "outputs": [],
   "source": [
    "# Path configuration\n",
    "DATA_DIR = Path('./data')\n",
    "TRAIN_PATH = DATA_DIR / 'train.csv'\n",
    "DEV_PATH = DATA_DIR / 'dev.csv'\n",
    "AUGMENTED_DATA_PATH = DATA_DIR / 'train_augmented.csv'"
   ]
  },
  {
   "cell_type": "code",
   "execution_count": 3,
   "metadata": {},
   "outputs": [
    {
     "name": "stderr",
     "output_type": "stream",
     "text": [
      "2025-03-27 18:40:51 - loading projection weights from C:\\Users\\willi/gensim-data\\glove-wiki-gigaword-300\\glove-wiki-gigaword-300.gz\n"
     ]
    },
    {
     "name": "stderr",
     "output_type": "stream",
     "text": [
      "2025-03-27 18:41:56 - KeyedVectors lifecycle event {'msg': 'loaded (400000, 300) matrix of type float32 from C:\\\\Users\\\\willi/gensim-data\\\\glove-wiki-gigaword-300\\\\glove-wiki-gigaword-300.gz', 'binary': False, 'encoding': 'utf8', 'datetime': '2025-03-27T18:41:56.186043', 'gensim': '4.3.3', 'python': '3.11.2 (tags/v3.11.2:878ead1, Feb  7 2023, 16:38:35) [MSC v.1934 64 bit (AMD64)]', 'platform': 'Windows-10-10.0.26100-SP0', 'event': 'load_word2vec_format'}\n"
     ]
    }
   ],
   "source": [
    "glove_embeddings = glove_embeddings_loader('glove-wiki-gigaword-300')"
   ]
  },
  {
   "cell_type": "code",
   "execution_count": 66,
   "metadata": {},
   "outputs": [],
   "source": [
    "def get_synonyms(word: str, noise_level: float=0.005, topn: int=10):\n",
    "    # Check if the word exists in the embeddings\n",
    "    if word not in glove_embeddings:\n",
    "        return []\n",
    "    \n",
    "    # Get the word's embedding vector\n",
    "    original_vec = glove_embeddings[word]\n",
    "    \n",
    "    # Add random Gaussian noise to the vector\n",
    "    noise = np.random.normal(loc=0.0, scale=noise_level, size=original_vec.shape)\n",
    "    noisy_vec = original_vec + noise\n",
    "    \n",
    "    # Retrieve the topn + 1 words (as one of them will be the word itself) closest to the noisy vector\n",
    "    # This will return a list of tuples (word, similarity)\n",
    "    similar_words = glove_embeddings.most_similar(positive=[noisy_vec], topn=topn + 1)\n",
    "    \n",
    "    # Return just the words from the list of tuples\n",
    "    return [syn for syn, similarity in similar_words if syn != word]\n"
   ]
  },
  {
   "cell_type": "code",
   "execution_count": 79,
   "metadata": {},
   "outputs": [],
   "source": [
    "stopwords = set(nltk_stopwords.words('english'))\n",
    "\n",
    "def remove_stopwords(text):\n",
    "    text = text.lower()\n",
    "    \n",
    "    # Remove any non-alphabetic characters\n",
    "    text = re.sub(r'[^a-zA-Z0-9\\s]', '', text)\n",
    "    \n",
    "    # Split hyphenated words\n",
    "    text = re.sub(r'-', ' ', text)\n",
    "    \n",
    "    # Remove any double spaces\n",
    "    text = re.sub(r'\\s+', ' ', text)\n",
    "    \n",
    "    # Remove punctuation\n",
    "    translator = str.maketrans('', '', string.punctuation)\n",
    "    text = text.translate(translator)\n",
    "    \n",
    "    return ' '.join([word for word in text.split() if word not in stopwords])"
   ]
  },
  {
   "cell_type": "code",
   "execution_count": 80,
   "metadata": {},
   "outputs": [],
   "source": [
    "train_df = pd.read_csv(TRAIN_PATH)\n",
    "augmented_df = pd.read_csv(AUGMENTED_DATA_PATH)\n",
    "dev_df = pd.read_csv(DEV_PATH)\n",
    "\n",
    "train_df['POS'] = train_df['Evidence'].apply(lambda x: nltk.pos_tag(nltk.word_tokenize(x)))\n",
    "original_evidences_pos = train_df['POS'].tolist()\n",
    "original_evidences = train_df['Evidence'].tolist()\n",
    "\n",
    "synyonm_replaced_df: pd.DataFrame = pd.DataFrame(columns=[\"Claim\",\"Evidence\",\"label\"]) \n",
    "\n",
    "preprocessed_evidences = train_df['Evidence'].apply(remove_stopwords).tolist()\n",
    "corresponding_claim = train_df['Claim'].apply(remove_stopwords).tolist()"
   ]
  },
  {
   "cell_type": "code",
   "execution_count": 81,
   "metadata": {},
   "outputs": [
    {
     "name": "stderr",
     "output_type": "stream",
     "text": [
      "1it [00:00,  8.29it/s]"
     ]
    },
    {
     "name": "stdout",
     "output_type": "stream",
     "text": [
      "Replacement found: community -> neighborhood\n",
      "Replacement found: model -> concept\n",
      "Replacement found: intended -> meant\n",
      "Replacement found: many -> few\n",
      "Replacement found: community -> neighborhood\n",
      "Insufficient replacements found for ['securities', 'exchange']\n"
     ]
    },
    {
     "name": "stderr",
     "output_type": "stream",
     "text": [
      "7it [00:00, 16.07it/s]"
     ]
    },
    {
     "name": "stdout",
     "output_type": "stream",
     "text": [
      "Insufficient replacements found for ['tv', 'george', 'film']\n",
      "Insufficient replacements found for ['europeans']\n",
      "Replacement found: aboriginal -> indigenous\n",
      "Replacement found: ice -> hockey\n",
      "Replacement found: 2009 -> 2007\n",
      "Replacement found: less -> least\n"
     ]
    },
    {
     "name": "stderr",
     "output_type": "stream",
     "text": [
      "9it [00:00,  9.34it/s]"
     ]
    },
    {
     "name": "stdout",
     "output_type": "stream",
     "text": [
      "Replacement found: promoted -> relegated\n",
      "Replacement found: 60 -> 80\n",
      "Replacement found: peers -> colleagues\n",
      "Replacement found: mcmurdo -> antarctica\n",
      "Replacement found: zealand -> new\n",
      "Replacement found: former -> ex\n",
      "Insufficient replacements found for ['christopher', 'former']\n"
     ]
    },
    {
     "name": "stderr",
     "output_type": "stream",
     "text": [
      "11it [00:01,  9.41it/s]"
     ]
    },
    {
     "name": "stdout",
     "output_type": "stream",
     "text": [
      "Replacement found: loopholes -> exemptions\n",
      "Replacement found: another -> a\n",
      "Replacement found: using -> utilizing\n",
      "Replacement found: securities -> equities\n",
      "Replacement found: effects -> impacts\n",
      "Replacement found: ills -> evils\n",
      "Replacement found: one -> three\n"
     ]
    },
    {
     "name": "stderr",
     "output_type": "stream",
     "text": [
      "13it [00:01, 10.25it/s]"
     ]
    },
    {
     "name": "stdout",
     "output_type": "stream",
     "text": [
      "Replacement found: consumer -> product\n",
      "Replacement found: policy -> strategy\n",
      "Replacement found: existence -> exist\n",
      "Replacement found: verses -> satanic\n",
      "Replacement found: decision -> move\n",
      "Replacement found: struck -> hit\n",
      "Replacement found: engagement -> constructive\n"
     ]
    },
    {
     "name": "stderr",
     "output_type": "stream",
     "text": [
      "17it [00:01, 12.07it/s]"
     ]
    },
    {
     "name": "stdout",
     "output_type": "stream",
     "text": [
      "Replacement found: texas -> houston\n",
      "Replacement found: violated -> breached\n",
      "Replacement found: rights -> freedoms\n",
      "Replacement found: opposes -> rejects\n",
      "Replacement found: bill -> senate\n",
      "Replacement found: amendment -> bill\n"
     ]
    },
    {
     "name": "stderr",
     "output_type": "stream",
     "text": [
      "21it [00:01, 13.70it/s]"
     ]
    },
    {
     "name": "stdout",
     "output_type": "stream",
     "text": [
      "Replacement found: student -> education\n",
      "Replacement found: fundamental -> basic\n",
      "Replacement found: cause -> result\n",
      "Replacement found: 1955 -> 1957\n",
      "Replacement found: system -> mechanism\n",
      "Replacement found: stations -> broadcasts\n",
      "Replacement found: evil -> malevolent\n",
      "Replacement found: lottery -> jackpot\n"
     ]
    },
    {
     "name": "stderr",
     "output_type": "stream",
     "text": [
      "23it [00:02, 11.06it/s]"
     ]
    },
    {
     "name": "stdout",
     "output_type": "stream",
     "text": [
      "Replacement found: keep -> kept\n",
      "Replacement found: upholding -> affirming\n",
      "Replacement found: financial -> economic\n",
      "Insufficient replacements found for ['financial', 'ref']\n"
     ]
    },
    {
     "name": "stderr",
     "output_type": "stream",
     "text": [
      "25it [00:02, 10.24it/s]"
     ]
    },
    {
     "name": "stdout",
     "output_type": "stream",
     "text": [
      "Insufficient replacements found for ['mckay', 'alh84001', 'nanofossils']\n",
      "Replacement found: goal -> scoring\n",
      "Replacement found: health -> mental\n",
      "Replacement found: passed -> enacted\n",
      "Replacement found: opposition -> government\n",
      "Replacement found: drinking -> drink\n",
      "Replacement found: human -> environmental\n"
     ]
    },
    {
     "name": "stderr",
     "output_type": "stream",
     "text": [
      "27it [00:02, 10.82it/s]"
     ]
    },
    {
     "name": "stdout",
     "output_type": "stream",
     "text": [
      "Replacement found: toxic -> radioactive\n",
      "Replacement found: distort -> misrepresent\n",
      "Replacement found: suggest -> indicate\n",
      "Replacement found: blame -> blamed\n",
      "Replacement found: could -> would\n",
      "Replacement found: loyal -> faithful\n",
      "Replacement found: great -> good\n"
     ]
    },
    {
     "name": "stderr",
     "output_type": "stream",
     "text": [
      "29it [00:02, 10.69it/s]"
     ]
    },
    {
     "name": "stdout",
     "output_type": "stream",
     "text": [
      "Replacement found: acquire -> acquired\n",
      "Replacement found: could -> would\n",
      "Replacement found: lengthy -> brief\n",
      "Replacement found: statement -> saying\n",
      "Replacement found: persons -> individuals\n"
     ]
    },
    {
     "name": "stderr",
     "output_type": "stream",
     "text": [
      "34it [00:03, 13.21it/s]"
     ]
    },
    {
     "name": "stdout",
     "output_type": "stream",
     "text": [
      "Replacement found: check -> checks\n",
      "Insufficient replacements found for ['tiger', 'check']\n",
      "Replacement found: represent -> reflect\n",
      "Replacement found: practice -> time\n",
      "Replacement found: press -> briefing\n",
      "Replacement found: intervention -> intervene\n",
      "Insufficient replacements found for ['intervention', 'ref']\n",
      "Replacement found: provides -> offers\n",
      "Replacement found: war -> battle\n"
     ]
    },
    {
     "name": "stderr",
     "output_type": "stream",
     "text": [
      "36it [00:03, 10.99it/s]"
     ]
    },
    {
     "name": "stdout",
     "output_type": "stream",
     "text": [
      "Replacement found: important -> crucial\n",
      "Replacement found: power -> electricity\n",
      "Replacement found: testing -> screening\n",
      "Replacement found: upstream -> downstream\n",
      "Replacement found: legislation -> bill\n",
      "Replacement found: generally -> usually\n",
      "Insufficient replacements found for ['legislation', 'many', 'generally', 'many']\n",
      "Replacement found: well -> so\n"
     ]
    },
    {
     "name": "stderr",
     "output_type": "stream",
     "text": [
      "38it [00:03,  9.53it/s]"
     ]
    },
    {
     "name": "stdout",
     "output_type": "stream",
     "text": [
      "Replacement found: neighboring -> neighbouring\n",
      "Replacement found: practice -> practiced\n",
      "Replacement found: states -> countries\n",
      "Replacement found: violate -> violation\n"
     ]
    },
    {
     "name": "stderr",
     "output_type": "stream",
     "text": [
      "40it [00:03,  9.14it/s]"
     ]
    },
    {
     "name": "stdout",
     "output_type": "stream",
     "text": [
      "Insufficient replacements found for ['violate', 'hill', 'school', 'immediato']\n",
      "Insufficient replacements found for ['international', 'committee']\n",
      "Replacement found: bodies -> corpses\n"
     ]
    },
    {
     "name": "stderr",
     "output_type": "stream",
     "text": [
      "42it [00:04,  9.11it/s]"
     ]
    },
    {
     "name": "stdout",
     "output_type": "stream",
     "text": [
      "Insufficient replacements found for ['bodies', 'agency', 'september', 'health', 'russian']\n",
      "Replacement found: military -> army\n",
      "Insufficient replacements found for ['hundreds']\n",
      "Replacement found: considered -> deemed\n",
      "Replacement found: work -> job\n",
      "Replacement found: reduces -> lowers\n",
      "Replacement found: effect -> impact\n",
      "Replacement found: electricity -> megawatts\n"
     ]
    },
    {
     "name": "stderr",
     "output_type": "stream",
     "text": [
      "50it [00:04, 15.55it/s]"
     ]
    },
    {
     "name": "stdout",
     "output_type": "stream",
     "text": [
      "Replacement found: survival -> survive\n",
      "Replacement found: tend -> prefer\n",
      "Replacement found: exemption -> exempt\n",
      "Replacement found: develop -> build\n",
      "Replacement found: fit -> fits\n",
      "Replacement found: society -> community\n",
      "Replacement found: complex -> intricate\n",
      "Insufficient replacements found for ['police']\n"
     ]
    },
    {
     "name": "stderr",
     "output_type": "stream",
     "text": [
      "52it [00:04, 12.01it/s]"
     ]
    },
    {
     "name": "stdout",
     "output_type": "stream",
     "text": [
      "Replacement found: publicity -> promotional\n",
      "Replacement found: human -> environmental\n",
      "Replacement found: rights -> freedoms\n",
      "Replacement found: crimes -> atrocities\n",
      "Replacement found: 2011 -> 2012\n",
      "Replacement found: production -> output\n",
      "Replacement found: year -> month\n",
      "Replacement found: death -> murder\n",
      "Replacement found: 1979 -> 1978\n"
     ]
    },
    {
     "name": "stderr",
     "output_type": "stream",
     "text": [
      "54it [00:04, 10.45it/s]"
     ]
    },
    {
     "name": "stdout",
     "output_type": "stream",
     "text": [
      "Replacement found: publicly -> openly\n",
      "Replacement found: authorities -> officials\n",
      "Replacement found: 2005 -> 2007\n",
      "Replacement found: causing -> resulting\n",
      "Replacement found: reason -> fact\n"
     ]
    },
    {
     "name": "stderr",
     "output_type": "stream",
     "text": [
      "56it [00:05, 11.33it/s]"
     ]
    },
    {
     "name": "stdout",
     "output_type": "stream",
     "text": [
      "Replacement found: sexy -> seductive\n",
      "Replacement found: 2011 -> 2012\n",
      "Replacement found: equalisation -> equalization\n",
      "Replacement found: bill -> amendment\n",
      "Replacement found: 1999 -> 1997\n",
      "Replacement found: strong -> weak\n",
      "Replacement found: architecture -> design\n"
     ]
    },
    {
     "name": "stderr",
     "output_type": "stream",
     "text": [
      "61it [00:05, 13.49it/s]"
     ]
    },
    {
     "name": "stdout",
     "output_type": "stream",
     "text": [
      "Insufficient replacements found for ['opponents']\n",
      "Replacement found: know -> think\n",
      "Replacement found: important -> crucial\n",
      "Replacement found: adapted -> adaptation\n",
      "Replacement found: court -> supreme\n",
      "Insufficient replacements found for ['act', 'court']\n",
      "Replacement found: general -> army\n",
      "Replacement found: initially -> originally\n"
     ]
    },
    {
     "name": "stderr",
     "output_type": "stream",
     "text": [
      "63it [00:05, 13.89it/s]"
     ]
    },
    {
     "name": "stdout",
     "output_type": "stream",
     "text": [
      "Replacement found: dealers -> traders\n",
      "Replacement found: gases -> gasses\n"
     ]
    },
    {
     "name": "stderr",
     "output_type": "stream",
     "text": [
      "65it [00:05,  9.45it/s]"
     ]
    },
    {
     "name": "stdout",
     "output_type": "stream",
     "text": [
      "Replacement found: naturally -> quite\n",
      "Replacement found: remain -> stay\n",
      "Insufficient replacements found for ['alliance', 'found', 'gases', 'following', 'naturally', 'remain', 'priority']\n",
      "Replacement found: compensation -> pay\n",
      "Insufficient replacements found for ['court', 'compensation']\n",
      "Replacement found: gave -> got\n",
      "Replacement found: said -> told\n"
     ]
    },
    {
     "name": "stderr",
     "output_type": "stream",
     "text": [
      "67it [00:06,  9.30it/s]"
     ]
    },
    {
     "name": "stdout",
     "output_type": "stream",
     "text": [
      "Replacement found: copied -> reproduced\n",
      "Replacement found: rough -> rougher\n",
      "Replacement found: inaccurately -> erroneously\n",
      "Replacement found: 30 -> 20\n",
      "Replacement found: due -> likely\n",
      "Replacement found: summons -> summonses\n",
      "Replacement found: right -> left\n"
     ]
    },
    {
     "name": "stderr",
     "output_type": "stream",
     "text": [
      "70it [00:06, 12.03it/s]"
     ]
    },
    {
     "name": "stdout",
     "output_type": "stream",
     "text": [
      "Replacement found: purpose -> objective\n",
      "Insufficient replacements found for ['registering', 'purpose']\n",
      "Replacement found: employee -> worker\n",
      "Replacement found: upon -> on\n",
      "Replacement found: laid -> lay\n",
      "Replacement found: adjustments -> changes\n",
      "Replacement found: also -> well\n",
      "Replacement found: allowed -> permitted\n",
      "Replacement found: began -> started\n",
      "Replacement found: perspective -> context\n",
      "Replacement found: classes -> students\n"
     ]
    },
    {
     "name": "stderr",
     "output_type": "stream",
     "text": [
      "72it [00:06, 12.77it/s]"
     ]
    },
    {
     "name": "stdout",
     "output_type": "stream",
     "text": [
      "Replacement found: areas -> regions\n",
      "Replacement found: therefore -> thus\n",
      "Replacement found: wife -> husband\n",
      "Replacement found: public -> private\n",
      "Replacement found: utilities -> companies\n",
      "Replacement found: essential -> necessary\n"
     ]
    },
    {
     "name": "stderr",
     "output_type": "stream",
     "text": [
      "76it [00:06, 11.82it/s]"
     ]
    },
    {
     "name": "stdout",
     "output_type": "stream",
     "text": [
      "Replacement found: affairs -> matters\n",
      "Replacement found: partnership -> cooperation\n",
      "Replacement found: vast -> huge\n",
      "Replacement found: significant -> substantial\n",
      "Replacement found: gas -> oil\n",
      "Replacement found: trimester -> miscarriage\n",
      "Replacement found: week -> month\n",
      "Replacement found: course -> golf\n",
      "Replacement found: early -> late\n"
     ]
    },
    {
     "name": "stderr",
     "output_type": "stream",
     "text": [
      "78it [00:06, 11.27it/s]"
     ]
    },
    {
     "name": "stdout",
     "output_type": "stream",
     "text": [
      "Replacement found: later -> subsequently\n",
      "Replacement found: pregnancy -> childbirth\n",
      "Replacement found: introduction -> introduced\n",
      "Replacement found: causing -> resulting\n",
      "Replacement found: thousands -> hundreds\n",
      "Replacement found: review -> report\n",
      "Replacement found: intent -> intention\n",
      "Replacement found: regulations -> rules\n",
      "Replacement found: 2008 -> 2009\n"
     ]
    },
    {
     "name": "stderr",
     "output_type": "stream",
     "text": [
      "80it [00:07, 10.69it/s]"
     ]
    },
    {
     "name": "stdout",
     "output_type": "stream",
     "text": [
      "Replacement found: rights -> freedoms\n",
      "Replacement found: stafford -> smith\n",
      "Replacement found: phrase -> word\n",
      "Replacement found: excludes -> exempts\n",
      "Replacement found: ordination -> priesthood\n",
      "Replacement found: 21 -> 22\n",
      "Replacement found: named -> known\n"
     ]
    },
    {
     "name": "stderr",
     "output_type": "stream",
     "text": [
      "86it [00:07, 15.99it/s]"
     ]
    },
    {
     "name": "stdout",
     "output_type": "stream",
     "text": [
      "Replacement found: married -> divorced\n",
      "Replacement found: 2006 -> 2007\n",
      "Replacement found: found -> discovered\n",
      "Replacement found: ban -> prohibit\n",
      "Replacement found: council -> commission\n",
      "Replacement found: roughly -> approximately\n",
      "Replacement found: reasons -> considerations\n",
      "Replacement found: republic -> czech\n",
      "Replacement found: 19 -> 21\n"
     ]
    },
    {
     "name": "stderr",
     "output_type": "stream",
     "text": [
      "90it [00:07, 16.19it/s]"
     ]
    },
    {
     "name": "stdout",
     "output_type": "stream",
     "text": [
      "Replacement found: 72 -> 74\n",
      "Replacement found: infection -> virus\n",
      "Replacement found: study -> research\n",
      "Replacement found: slightly -> somewhat\n",
      "Replacement found: fear -> worry\n",
      "Insufficient replacements found for ['council', 'fear']\n",
      "Replacement found: times -> years\n",
      "Replacement found: coaches -> players\n",
      "Replacement found: clenbuterol -> nandrolone\n"
     ]
    },
    {
     "name": "stderr",
     "output_type": "stream",
     "text": [
      "92it [00:07, 14.90it/s]"
     ]
    },
    {
     "name": "stdout",
     "output_type": "stream",
     "text": [
      "Replacement found: trafficking -> laundering\n",
      "Replacement found: handed -> put\n",
      "Replacement found: inappropriate -> improper\n",
      "Replacement found: provided -> provide\n",
      "Replacement found: critics -> detractors\n",
      "Replacement found: popular -> favorite\n",
      "Replacement found: ideal -> suitable\n",
      "Replacement found: animals -> humans\n",
      "Replacement found: make -> take\n"
     ]
    },
    {
     "name": "stderr",
     "output_type": "stream",
     "text": [
      "97it [00:08, 16.09it/s]"
     ]
    },
    {
     "name": "stdout",
     "output_type": "stream",
     "text": [
      "Replacement found: difficult -> impossible\n",
      "Replacement found: heart -> brain\n",
      "Replacement found: together -> well\n",
      "Replacement found: specific -> particular\n",
      "Replacement found: running -> going\n",
      "Replacement found: others -> people\n",
      "Replacement found: democratic -> party\n"
     ]
    },
    {
     "name": "stderr",
     "output_type": "stream",
     "text": [
      "99it [00:08, 16.25it/s]"
     ]
    },
    {
     "name": "stdout",
     "output_type": "stream",
     "text": [
      "Replacement found: successful -> unsuccessful\n",
      "Replacement found: one -> three\n",
      "Replacement found: vilayanur -> ramachandran\n",
      "Replacement found: leaders -> politicians\n",
      "Replacement found: community -> neighborhood\n",
      "Replacement found: genuine -> sincere\n",
      "Replacement found: copyright -> patent\n"
     ]
    },
    {
     "name": "stderr",
     "output_type": "stream",
     "text": [
      "101it [00:08, 14.51it/s]"
     ]
    },
    {
     "name": "stdout",
     "output_type": "stream",
     "text": [
      "Replacement found: issuance -> issuing\n",
      "Replacement found: issued -> statement\n",
      "Replacement found: relating -> pertaining\n",
      "Replacement found: order -> allow\n",
      "Replacement found: findings -> conclusions\n"
     ]
    },
    {
     "name": "stderr",
     "output_type": "stream",
     "text": [
      "103it [00:08, 10.07it/s]"
     ]
    },
    {
     "name": "stdout",
     "output_type": "stream",
     "text": [
      "Replacement found: accordance -> pursuant\n",
      "Replacement found: authorities -> officials\n",
      "Replacement found: impartially -> objectively\n",
      "Replacement found: journalistic -> scholarly\n",
      "Replacement found: benevolent -> elks\n"
     ]
    },
    {
     "name": "stderr",
     "output_type": "stream",
     "text": [
      "105it [00:08, 10.60it/s]"
     ]
    },
    {
     "name": "stdout",
     "output_type": "stream",
     "text": [
      "Replacement found: prisoners -> detainees\n",
      "Replacement found: democratic -> democrat\n",
      "Replacement found: release -> releasing\n",
      "Replacement found: showed -> show\n",
      "Replacement found: efforts -> initiatives\n",
      "Replacement found: funded -> financed\n",
      "Replacement found: social -> political\n"
     ]
    },
    {
     "name": "stderr",
     "output_type": "stream",
     "text": [
      "107it [00:09,  9.43it/s]"
     ]
    },
    {
     "name": "stdout",
     "output_type": "stream",
     "text": [
      "Replacement found: study -> research\n",
      "Replacement found: media -> newspapers\n",
      "Replacement found: make -> made\n",
      "Replacement found: scientists -> researchers\n",
      "Replacement found: received -> awarded\n",
      "Replacement found: numerous -> several\n",
      "Replacement found: year -> month\n",
      "Replacement found: zionism -> revisionist\n",
      "Replacement found: address -> message\n",
      "Replacement found: available -> additional\n"
     ]
    },
    {
     "name": "stderr",
     "output_type": "stream",
     "text": [
      "112it [00:09, 12.11it/s]"
     ]
    },
    {
     "name": "stdout",
     "output_type": "stream",
     "text": [
      "Replacement found: well -> so\n",
      "Replacement found: 1778 -> 1779\n",
      "Insufficient replacements found for ['lucy', 'well', '1778', 'new']\n",
      "Insufficient replacements found for ['brownell']\n",
      "Replacement found: theme -> themed\n",
      "Replacement found: games -> olympics\n",
      "Replacement found: technology -> tech\n",
      "Replacement found: reality -> truth\n",
      "Insufficient replacements found for ['ref']\n"
     ]
    },
    {
     "name": "stderr",
     "output_type": "stream",
     "text": [
      "115it [00:09, 14.86it/s]"
     ]
    },
    {
     "name": "stdout",
     "output_type": "stream",
     "text": [
      "Replacement found: renewable -> geothermal\n",
      "Replacement found: total -> combined\n",
      "Replacement found: besides -> like\n",
      "Replacement found: defensively -> offensively\n",
      "Replacement found: attempt -> try\n",
      "Insufficient replacements found for ['rumble', 'defensively', 'foreman', 'attempt']\n"
     ]
    },
    {
     "name": "stderr",
     "output_type": "stream",
     "text": [
      "117it [00:09, 12.80it/s]"
     ]
    },
    {
     "name": "stdout",
     "output_type": "stream",
     "text": [
      "Replacement found: sustainable -> renewable\n",
      "Insufficient replacements found for ['sustainable', 'energy']\n",
      "Replacement found: rate -> inflation\n",
      "Replacement found: program -> programme\n"
     ]
    },
    {
     "name": "stderr",
     "output_type": "stream",
     "text": [
      "119it [00:10, 11.05it/s]"
     ]
    },
    {
     "name": "stdout",
     "output_type": "stream",
     "text": [
      "Replacement found: wages -> salaries\n",
      "Replacement found: disrupt -> disrupted\n",
      "Replacement found: visible -> noticeable\n",
      "Replacement found: could -> would\n",
      "Replacement found: could -> would\n"
     ]
    },
    {
     "name": "stderr",
     "output_type": "stream",
     "text": [
      "121it [00:10,  9.20it/s]"
     ]
    },
    {
     "name": "stdout",
     "output_type": "stream",
     "text": [
      "Replacement found: leading -> including\n",
      "Replacement found: noam -> chomsky\n",
      "Replacement found: relinquishing -> ceding\n",
      "Replacement found: us -> u.s.\n",
      "Replacement found: except -> though\n",
      "Replacement found: advertising -> marketing\n",
      "Replacement found: use -> example\n"
     ]
    },
    {
     "name": "stderr",
     "output_type": "stream",
     "text": [
      "126it [00:10, 11.01it/s]"
     ]
    },
    {
     "name": "stdout",
     "output_type": "stream",
     "text": [
      "Replacement found: fuels -> energy\n",
      "Insufficient replacements found for ['hungry', 'myths', 'fuels']\n",
      "Replacement found: entire -> whole\n",
      "Replacement found: pointed -> noted\n",
      "Replacement found: activities -> purposes\n",
      "Replacement found: restrictions -> regulations\n",
      "Replacement found: months -> weeks\n",
      "Replacement found: passed -> pass\n",
      "Replacement found: double -> twice\n",
      "Replacement found: also -> well\n"
     ]
    },
    {
     "name": "stderr",
     "output_type": "stream",
     "text": [
      "128it [00:10, 11.34it/s]"
     ]
    },
    {
     "name": "stdout",
     "output_type": "stream",
     "text": [
      "Replacement found: communities -> neighborhoods\n",
      "Replacement found: cost -> costing\n",
      "Replacement found: also -> well\n",
      "Replacement found: improve -> ensure\n",
      "Replacement found: land -> property\n",
      "Replacement found: trade -> trading\n",
      "Replacement found: latest -> newest\n",
      "Replacement found: indicated -> suggested\n",
      "Replacement found: consequences -> repercussions\n",
      "Replacement found: multiple -> variety\n",
      "Insufficient replacements found for ['armed', 'including', 'latest', 'including', 'indicated', 'consequences', 'multiple']\n"
     ]
    },
    {
     "name": "stderr",
     "output_type": "stream",
     "text": [
      "133it [00:11, 10.67it/s]"
     ]
    },
    {
     "name": "stdout",
     "output_type": "stream",
     "text": [
      "Insufficient replacements found for ['war', 'ref']\n",
      "Replacement found: 2008 -> 2009\n",
      "Replacement found: raised -> lowered\n",
      "Insufficient replacements found for ['officially']\n",
      "Replacement found: cease -> ceasefire\n",
      "Replacement found: notice -> notices\n",
      "Replacement found: laws -> regulations\n",
      "Replacement found: climate -> environment\n",
      "Replacement found: believed -> thought\n",
      "Replacement found: criticized -> criticised\n"
     ]
    },
    {
     "name": "stderr",
     "output_type": "stream",
     "text": [
      "135it [00:11, 11.19it/s]"
     ]
    },
    {
     "name": "stdout",
     "output_type": "stream",
     "text": [
      "Replacement found: villages -> towns\n",
      "Replacement found: stoves -> heaters\n",
      "Replacement found: introduced -> reintroduced\n",
      "Replacement found: fostered -> nurtured\n",
      "Replacement found: society -> community\n",
      "Insufficient replacements found for ['like', 'society']\n",
      "Replacement found: force -> air\n",
      "Replacement found: established -> formed\n",
      "Replacement found: aside -> instead\n"
     ]
    },
    {
     "name": "stderr",
     "output_type": "stream",
     "text": [
      "139it [00:12, 11.57it/s]"
     ]
    },
    {
     "name": "stdout",
     "output_type": "stream",
     "text": [
      "Replacement found: colleges -> schools\n",
      "Replacement found: admission -> admittance\n",
      "Replacement found: inequality -> disparity\n",
      "Replacement found: tell -> know\n",
      "Insufficient replacements found for ['tell', 'mahameed']\n"
     ]
    },
    {
     "name": "stderr",
     "output_type": "stream",
     "text": [
      "141it [00:12, 10.84it/s]"
     ]
    },
    {
     "name": "stdout",
     "output_type": "stream",
     "text": [
      "Insufficient replacements found for ['history', 'solutions']\n",
      "Replacement found: former -> ex\n",
      "Insufficient replacements found for ['review', 'former', 'white', 'city']\n",
      "Replacement found: exploring -> researching\n"
     ]
    },
    {
     "name": "stderr",
     "output_type": "stream",
     "text": [
      "145it [00:12, 13.31it/s]"
     ]
    },
    {
     "name": "stdout",
     "output_type": "stream",
     "text": [
      "Replacement found: public -> private\n",
      "Replacement found: policy -> strategy\n",
      "Replacement found: 2003 -> 2005\n",
      "Replacement found: nationalist -> nationalistic\n",
      "Replacement found: individual -> specific\n",
      "Replacement found: others -> people\n",
      "Replacement found: hospital -> doctor\n",
      "Insufficient replacements found for ['belz']\n",
      "Replacement found: different -> various\n"
     ]
    },
    {
     "name": "stderr",
     "output_type": "stream",
     "text": [
      "149it [00:12, 16.32it/s]"
     ]
    },
    {
     "name": "stdout",
     "output_type": "stream",
     "text": [
      "Replacement found: negative -> positive\n",
      "Replacement found: australia -> south\n",
      "Replacement found: northern -> western\n",
      "Replacement found: potential -> possible\n",
      "Replacement found: al -> qaida\n"
     ]
    },
    {
     "name": "stderr",
     "output_type": "stream",
     "text": [
      "154it [00:12, 17.23it/s]"
     ]
    },
    {
     "name": "stdout",
     "output_type": "stream",
     "text": [
      "Insufficient replacements found for ['potential', 'regarding', 'al', 'initiatives']\n",
      "Replacement found: city -> town\n",
      "Replacement found: would -> could\n",
      "Replacement found: temporary -> permanent\n",
      "Replacement found: constitutional -> legal\n",
      "Replacement found: held -> scheduled\n",
      "Replacement found: free -> freedom\n",
      "Replacement found: ordinance -> statute\n",
      "Replacement found: sugar -> cocoa\n",
      "Replacement found: cane -> sugarcane\n"
     ]
    },
    {
     "name": "stderr",
     "output_type": "stream",
     "text": [
      "157it [00:13, 17.26it/s]"
     ]
    },
    {
     "name": "stdout",
     "output_type": "stream",
     "text": [
      "Replacement found: ethanol -> biofuel\n",
      "Replacement found: wheat -> corn\n",
      "Replacement found: called -> referred\n",
      "Replacement found: kneeling -> squatting\n",
      "Replacement found: power -> electricity\n",
      "Insufficient replacements found for ['power', 'innis']\n",
      "Replacement found: classified -> unclassified\n",
      "Insufficient replacements found for ['classified', 'international']\n"
     ]
    },
    {
     "name": "stderr",
     "output_type": "stream",
     "text": [
      "159it [00:13, 17.49it/s]"
     ]
    },
    {
     "name": "stdout",
     "output_type": "stream",
     "text": [
      "Insufficient replacements found for ['president']\n",
      "Replacement found: spelled -> spelt\n",
      "Replacement found: bags -> backpacks\n",
      "Replacement found: government -> administration\n",
      "Replacement found: donations -> contributions\n",
      "Replacement found: lobbying -> lobbyist\n",
      "Replacement found: former -> longtime\n",
      "Replacement found: spent -> worked\n"
     ]
    },
    {
     "name": "stderr",
     "output_type": "stream",
     "text": [
      "164it [00:13, 15.34it/s]"
     ]
    },
    {
     "name": "stdout",
     "output_type": "stream",
     "text": [
      "Insufficient replacements found for ['gaeltex']\n",
      "Replacement found: decline -> rise\n",
      "Replacement found: fishes -> crustaceans\n",
      "Replacement found: designation -> status\n"
     ]
    },
    {
     "name": "stderr",
     "output_type": "stream",
     "text": [
      "166it [00:13, 13.08it/s]"
     ]
    },
    {
     "name": "stdout",
     "output_type": "stream",
     "text": [
      "Replacement found: suspended -> suspend\n",
      "Replacement found: 2006 -> 2007\n",
      "Insufficient replacements found for ['iq', 'suspended', 'aarhus', '2006', 'personality']\n",
      "Replacement found: cautioned -> warned\n",
      "Replacement found: challenges -> difficulties\n",
      "Replacement found: animal -> human\n",
      "Replacement found: trade -> trading\n"
     ]
    },
    {
     "name": "stderr",
     "output_type": "stream",
     "text": [
      "168it [00:13, 14.38it/s]"
     ]
    },
    {
     "name": "stdout",
     "output_type": "stream",
     "text": [
      "Insufficient replacements found for ['trade', 'meaning']\n",
      "Replacement found: absurd -> ridiculous\n",
      "Replacement found: members -> representatives\n",
      "Replacement found: low -> high\n",
      "Replacement found: already -> so\n",
      "Replacement found: transport -> transportation\n",
      "Replacement found: revenue -> profit\n"
     ]
    },
    {
     "name": "stderr",
     "output_type": "stream",
     "text": [
      "172it [00:14, 13.14it/s]"
     ]
    },
    {
     "name": "stdout",
     "output_type": "stream",
     "text": [
      "Replacement found: tests -> samples\n",
      "Insufficient replacements found for ['tests', 'ncl']\n",
      "Replacement found: fee -> pay\n",
      "Replacement found: engineering -> technology\n",
      "Replacement found: choice -> choosing\n",
      "Replacement found: came -> went\n"
     ]
    },
    {
     "name": "stderr",
     "output_type": "stream",
     "text": [
      "174it [00:14, 13.88it/s]"
     ]
    },
    {
     "name": "stdout",
     "output_type": "stream",
     "text": [
      "Replacement found: radiologists -> neurologists\n",
      "Replacement found: relationship -> friendship\n",
      "Insufficient replacements found for ['atlantic', 'relationship']\n",
      "Replacement found: selection -> selecting\n",
      "Replacement found: stated -> commented\n"
     ]
    },
    {
     "name": "stderr",
     "output_type": "stream",
     "text": [
      "176it [00:14, 10.49it/s]"
     ]
    },
    {
     "name": "stdout",
     "output_type": "stream",
     "text": [
      "Replacement found: risk -> danger\n",
      "Replacement found: argued -> contended\n",
      "Replacement found: green -> red\n",
      "Replacement found: assured -> satisfied\n",
      "Insufficient replacements found for ['awards', 'established']\n"
     ]
    },
    {
     "name": "stderr",
     "output_type": "stream",
     "text": [
      "180it [00:14, 12.15it/s]"
     ]
    },
    {
     "name": "stdout",
     "output_type": "stream",
     "text": [
      "Replacement found: means -> meaning\n",
      "Replacement found: interest -> concern\n",
      "Replacement found: belligerents -> combatants\n",
      "Replacement found: potential -> possible\n",
      "Replacement found: questionable -> dubious\n",
      "Replacement found: years -> months\n",
      "Replacement found: surgical -> orthopedic\n",
      "Replacement found: 1894 -> 1892\n",
      "Replacement found: 3 -> 2\n",
      "Replacement found: reduces -> lowers\n",
      "Replacement found: change -> shift\n",
      "Replacement found: ethanol -> biodiesel\n",
      "Replacement found: 50 -> 40\n",
      "Replacement found: greenhouse -> carbon\n",
      "Replacement found: 2003 -> 2005\n",
      "Replacement found: desecration -> koran\n"
     ]
    },
    {
     "name": "stderr",
     "output_type": "stream",
     "text": [
      "184it [00:15,  9.86it/s]"
     ]
    },
    {
     "name": "stdout",
     "output_type": "stream",
     "text": [
      "Replacement found: may -> might\n",
      "Replacement found: ongoing -> conflict\n",
      "Replacement found: university -> princeton\n",
      "Replacement found: education -> teaching\n",
      "Replacement found: allegedly -> reportedly\n",
      "Replacement found: knowledge -> understanding\n",
      "Replacement found: 2007 -> 2009\n",
      "Replacement found: allowed -> permitted\n",
      "Replacement found: tax -> income\n"
     ]
    },
    {
     "name": "stderr",
     "output_type": "stream",
     "text": [
      "190it [00:15, 14.18it/s]"
     ]
    },
    {
     "name": "stdout",
     "output_type": "stream",
     "text": [
      "Replacement found: policies -> reforms\n",
      "Replacement found: created -> formed\n",
      "Replacement found: carbon -> dioxide\n",
      "Replacement found: differentiating -> distinguishing\n",
      "Replacement found: whole -> entire\n",
      "Replacement found: considered -> regarded\n",
      "Replacement found: leader -> leadership\n",
      "Replacement found: defeated -> trounced\n",
      "Replacement found: still -> only\n",
      "Replacement found: decisive -> crucial\n",
      "Replacement found: bicycle -> bike\n",
      "Replacement found: project -> development\n"
     ]
    },
    {
     "name": "stderr",
     "output_type": "stream",
     "text": [
      "194it [00:16, 11.64it/s]"
     ]
    },
    {
     "name": "stdout",
     "output_type": "stream",
     "text": [
      "Replacement found: modeled -> modelled\n",
      "Replacement found: logistical -> logistic\n",
      "Replacement found: access -> provide\n",
      "Replacement found: pioneered -> revolutionized\n",
      "Insufficient replacements found for ['shouldice', 'pioneered']\n",
      "Replacement found: principle -> fundamental\n",
      "Replacement found: world -> time\n",
      "Replacement found: female -> young\n",
      "Replacement found: may -> might\n",
      "Replacement found: safe -> sure\n",
      "Replacement found: often -> sometimes\n",
      "Replacement found: bring -> come\n",
      "Replacement found: believe -> say\n",
      "Replacement found: clear -> sure\n"
     ]
    },
    {
     "name": "stderr",
     "output_type": "stream",
     "text": [
      "198it [00:16, 10.61it/s]"
     ]
    },
    {
     "name": "stdout",
     "output_type": "stream",
     "text": [
      "Replacement found: coercive -> repressive\n",
      "Replacement found: federal -> congressional\n",
      "Replacement found: held -> scheduled\n",
      "Replacement found: 1968 -> 1964\n",
      "Replacement found: require -> need\n",
      "Replacement found: decline -> rise\n",
      "Replacement found: projected -> forecast\n"
     ]
    },
    {
     "name": "stderr",
     "output_type": "stream",
     "text": [
      "203it [00:16, 13.70it/s]"
     ]
    },
    {
     "name": "stdout",
     "output_type": "stream",
     "text": [
      "Replacement found: continue -> continued\n",
      "Replacement found: impact -> impacts\n",
      "Replacement found: portion -> part\n",
      "Replacement found: main -> key\n",
      "Replacement found: classifies -> categorizes\n",
      "Replacement found: model -> concept\n",
      "Replacement found: encouraged -> discouraged\n",
      "Replacement found: developments -> trends\n",
      "Replacement found: number -> addition\n"
     ]
    },
    {
     "name": "stderr",
     "output_type": "stream",
     "text": [
      "207it [00:17, 11.16it/s]"
     ]
    },
    {
     "name": "stdout",
     "output_type": "stream",
     "text": [
      "Replacement found: makes -> does\n",
      "Replacement found: behind -> out\n",
      "Insufficient replacements found for ['security', 'renewable', 'number', 'nrel', 'makes', 'behind']\n",
      "Replacement found: trial -> prosecution\n",
      "Replacement found: another -> a\n",
      "Replacement found: testimony -> witness\n",
      "Replacement found: wrong -> sure\n",
      "Replacement found: defense -> defence\n",
      "Replacement found: agreed -> decided\n",
      "Replacement found: passed -> enacted\n"
     ]
    },
    {
     "name": "stderr",
     "output_type": "stream",
     "text": [
      "209it [00:17, 10.92it/s]"
     ]
    },
    {
     "name": "stdout",
     "output_type": "stream",
     "text": [
      "Replacement found: included -> featured\n",
      "Replacement found: registered -> listed\n",
      "Replacement found: prevent -> discourage\n",
      "Replacement found: activist -> campaigner\n",
      "Insufficient replacements found for ['ref', 'regardless']\n",
      "Replacement found: fines -> penalties\n",
      "Replacement found: campaign -> campaigning\n",
      "Replacement found: protect -> protected\n"
     ]
    },
    {
     "name": "stderr",
     "output_type": "stream",
     "text": [
      "214it [00:18, 11.44it/s]"
     ]
    },
    {
     "name": "stdout",
     "output_type": "stream",
     "text": [
      "Replacement found: proven -> proved\n",
      "Replacement found: causes -> occurs\n",
      "Replacement found: published -> edited\n",
      "Replacement found: freethinker -> littérateur\n",
      "Replacement found: 1997 -> 1998\n",
      "Replacement found: demolished -> rebuilt\n",
      "Replacement found: adjoining -> abutting\n"
     ]
    },
    {
     "name": "stderr",
     "output_type": "stream",
     "text": [
      "217it [00:18, 13.27it/s]"
     ]
    },
    {
     "name": "stdout",
     "output_type": "stream",
     "text": [
      "Replacement found: parents -> grandparents\n",
      "Replacement found: well -> so\n",
      "Replacement found: copies -> cds\n",
      "Insufficient replacements found for ['copies', 'headline']\n",
      "Replacement found: vegas -> las\n",
      "Replacement found: became -> was\n",
      "Replacement found: 2013 -> 2012\n",
      "Replacement found: class -> type\n"
     ]
    },
    {
     "name": "stderr",
     "output_type": "stream",
     "text": [
      "222it [00:18, 16.08it/s]"
     ]
    },
    {
     "name": "stdout",
     "output_type": "stream",
     "text": [
      "Replacement found: helps -> gives\n",
      "Insufficient replacements found for ['general', 'helps']\n",
      "Replacement found: percent -> percentage\n",
      "Replacement found: makes -> does\n",
      "Replacement found: 15 -> 20\n",
      "Replacement found: television -> tv\n",
      "Replacement found: crisis -> turmoil\n",
      "Replacement found: ever -> never\n",
      "Replacement found: higher -> weaker\n"
     ]
    },
    {
     "name": "stderr",
     "output_type": "stream",
     "text": [
      "224it [00:18, 13.50it/s]"
     ]
    },
    {
     "name": "stdout",
     "output_type": "stream",
     "text": [
      "Replacement found: lower -> weaker\n",
      "Replacement found: happiness -> contentment\n",
      "Replacement found: nothing -> anything\n",
      "Replacement found: allied -> nato\n",
      "Replacement found: control -> controlling\n",
      "Replacement found: pageants -> carnivals\n",
      "Replacement found: pageant -> contestant\n"
     ]
    },
    {
     "name": "stderr",
     "output_type": "stream",
     "text": [
      "229it [00:19, 13.49it/s]"
     ]
    },
    {
     "name": "stdout",
     "output_type": "stream",
     "text": [
      "Insufficient replacements found for ['pageants', 'pageant', 'universe', 'world']\n",
      "Replacement found: conducted -> undertaken\n",
      "Replacement found: identified -> identify\n",
      "Replacement found: gender -> ethnicity\n",
      "Replacement found: global -> worldwide\n",
      "Replacement found: along -> across\n",
      "Replacement found: religious -> secular\n",
      "Replacement found: females -> males\n",
      "Replacement found: supplies -> shipments\n",
      "Replacement found: way -> come\n"
     ]
    },
    {
     "name": "stderr",
     "output_type": "stream",
     "text": [
      "231it [00:19, 11.77it/s]"
     ]
    },
    {
     "name": "stdout",
     "output_type": "stream",
     "text": [
      "Replacement found: diversify -> diversification\n",
      "Replacement found: provinces -> regions\n",
      "Replacement found: abolition -> abolishment\n",
      "Replacement found: economy -> recession\n",
      "Insufficient replacements found for ['abolition', 'economy', 'ref', 'david']\n",
      "Replacement found: consists -> comprises\n",
      "Replacement found: requested -> asked\n"
     ]
    },
    {
     "name": "stderr",
     "output_type": "stream",
     "text": [
      "235it [00:19, 13.28it/s]"
     ]
    },
    {
     "name": "stdout",
     "output_type": "stream",
     "text": [
      "Replacement found: encouraging -> discouraging\n",
      "Replacement found: stating -> saying\n",
      "Replacement found: shelves -> stores\n",
      "Replacement found: elicit -> elicited\n",
      "Replacement found: nations -> countries\n",
      "Replacement found: global -> worldwide\n",
      "Replacement found: emitters -> polluters\n",
      "Replacement found: sun -> moon\n",
      "Insufficient replacements found for ['international']\n",
      "Replacement found: cooperatives -> co-operatives\n"
     ]
    },
    {
     "name": "stderr",
     "output_type": "stream",
     "text": [
      "237it [00:19, 12.20it/s]"
     ]
    },
    {
     "name": "stdout",
     "output_type": "stream",
     "text": [
      "Replacement found: employment -> unemployment\n",
      "Replacement found: work -> well\n",
      "Replacement found: support -> provide\n",
      "Replacement found: rare -> unusual\n",
      "Replacement found: pilots -> attendants\n",
      "Replacement found: airline -> carrier\n"
     ]
    },
    {
     "name": "stderr",
     "output_type": "stream",
     "text": [
      "239it [00:19, 12.33it/s]"
     ]
    },
    {
     "name": "stdout",
     "output_type": "stream",
     "text": [
      "Replacement found: either -> not\n",
      "Replacement found: parents -> grandparents\n",
      "Replacement found: involve -> involves\n",
      "Replacement found: improve -> enhance\n",
      "Insufficient replacements found for ['crimean', 'improve']\n",
      "Replacement found: million -> billion\n"
     ]
    },
    {
     "name": "stderr",
     "output_type": "stream",
     "text": [
      "242it [00:20, 13.01it/s]"
     ]
    },
    {
     "name": "stdout",
     "output_type": "stream",
     "text": [
      "Replacement found: government -> administration\n",
      "Insufficient replacements found for ['mississippi', 'million', 'government', 'emergency']\n",
      "Replacement found: 1983 -> 1984\n",
      "Replacement found: pollution -> ozone\n",
      "Replacement found: layer -> ozone\n",
      "Replacement found: antarctic -> whaling\n",
      "Insufficient replacements found for ['international', 'biological', '1983', 'international', 'pollution', 'agreements', 'layer', 'antarctic']\n",
      "Replacement found: identity -> identification\n",
      "Replacement found: heritage -> preservation\n"
     ]
    },
    {
     "name": "stderr",
     "output_type": "stream",
     "text": [
      "246it [00:20,  9.41it/s]"
     ]
    },
    {
     "name": "stdout",
     "output_type": "stream",
     "text": [
      "Replacement found: age -> aged\n",
      "Insufficient replacements found for ['gwen', 'age']\n",
      "Replacement found: laws -> regulations\n",
      "Replacement found: country -> nation\n",
      "Replacement found: included -> featured\n",
      "Replacement found: 1976 -> 1971\n"
     ]
    },
    {
     "name": "stderr",
     "output_type": "stream",
     "text": [
      "250it [00:20, 11.69it/s]"
     ]
    },
    {
     "name": "stdout",
     "output_type": "stream",
     "text": [
      "Insufficient replacements found for ['naples', 'jfc']\n",
      "Replacement found: party -> opposition\n",
      "Replacement found: mate -> nominee\n",
      "Replacement found: believes -> thinks\n",
      "Replacement found: running -> ran\n",
      "Replacement found: democracy -> freedom\n",
      "Replacement found: 5 -> 6\n",
      "Insufficient replacements found for ['5', 'also']\n",
      "Replacement found: used -> known\n"
     ]
    },
    {
     "name": "stderr",
     "output_type": "stream",
     "text": [
      "252it [00:21, 12.89it/s]"
     ]
    },
    {
     "name": "stdout",
     "output_type": "stream",
     "text": [
      "Replacement found: used -> known\n",
      "Insufficient replacements found for ['used', 'used']\n",
      "Replacement found: peru -> bolivia\n",
      "Replacement found: illegal -> unlawful\n",
      "Replacement found: increases -> decreases\n"
     ]
    },
    {
     "name": "stderr",
     "output_type": "stream",
     "text": [
      "254it [00:21,  9.24it/s]"
     ]
    },
    {
     "name": "stdout",
     "output_type": "stream",
     "text": [
      "Replacement found: base -> force\n",
      "Replacement found: led -> followed\n",
      "Replacement found: allowed -> permitted\n",
      "Insufficient replacements found for ['obama', 'allowed']\n",
      "Insufficient replacements found for ['greeks']\n"
     ]
    },
    {
     "name": "stderr",
     "output_type": "stream",
     "text": [
      "257it [00:21, 11.53it/s]"
     ]
    },
    {
     "name": "stdout",
     "output_type": "stream",
     "text": [
      "Replacement found: set -> put\n",
      "Insufficient replacements found for ['jack', 'set']\n",
      "Replacement found: damages -> plaintiffs\n",
      "Replacement found: never -> n't\n",
      "Replacement found: property -> estate\n",
      "Replacement found: diminish -> lessen\n",
      "Replacement found: incentive -> reward\n",
      "Replacement found: harmed -> hurt\n",
      "Replacement found: independent -> separate\n"
     ]
    },
    {
     "name": "stderr",
     "output_type": "stream",
     "text": [
      "259it [00:21, 10.80it/s]"
     ]
    },
    {
     "name": "stdout",
     "output_type": "stream",
     "text": [
      "Insufficient replacements found for ['independent', 'list', 'july']\n",
      "Replacement found: restructuring -> reorganization\n",
      "Replacement found: jobs -> workers\n",
      "Replacement found: restricting -> limiting\n",
      "Replacement found: labor -> employment\n",
      "Replacement found: significant -> substantial\n",
      "Replacement found: mothers -> babies\n",
      "Replacement found: clinical -> medical\n",
      "Replacement found: ability -> skill\n"
     ]
    },
    {
     "name": "stderr",
     "output_type": "stream",
     "text": [
      "261it [00:22,  9.64it/s]"
     ]
    },
    {
     "name": "stdout",
     "output_type": "stream",
     "text": [
      "Replacement found: mothers -> babies\n",
      "Replacement found: another -> an\n",
      "Replacement found: naturopathic -> osteopathic\n"
     ]
    },
    {
     "name": "stderr",
     "output_type": "stream",
     "text": [
      "263it [00:22,  7.41it/s]"
     ]
    },
    {
     "name": "stdout",
     "output_type": "stream",
     "text": [
      "Replacement found: radar -> missile\n",
      "Replacement found: case -> trial\n",
      "Replacement found: martin -> lockheed\n",
      "Replacement found: release -> releasing\n",
      "Replacement found: planes -> airplanes\n",
      "Replacement found: contracts -> deals\n",
      "Replacement found: involvement -> participation\n",
      "Replacement found: revision -> revising\n"
     ]
    },
    {
     "name": "stderr",
     "output_type": "stream",
     "text": [
      "265it [00:22,  9.06it/s]"
     ]
    },
    {
     "name": "stdout",
     "output_type": "stream",
     "text": [
      "Replacement found: human -> rights\n",
      "Replacement found: talent -> skill\n"
     ]
    },
    {
     "name": "stderr",
     "output_type": "stream",
     "text": [
      "267it [00:22,  8.65it/s]"
     ]
    },
    {
     "name": "stdout",
     "output_type": "stream",
     "text": [
      "Insufficient replacements found for ['talent', 'dorian', 'ref', 'east']\n",
      "Replacement found: 2007 -> 2009\n",
      "Replacement found: threaten -> threatens\n",
      "Replacement found: hypertension -> asthma\n",
      "Replacement found: rates -> increases\n",
      "Replacement found: suggested -> indicated\n"
     ]
    },
    {
     "name": "stderr",
     "output_type": "stream",
     "text": [
      "271it [00:23, 11.46it/s]"
     ]
    },
    {
     "name": "stdout",
     "output_type": "stream",
     "text": [
      "Replacement found: creation -> create\n",
      "Replacement found: televised -> telecast\n",
      "Replacement found: considerable -> substantial\n",
      "Replacement found: local -> many\n",
      "Replacement found: found -> discovered\n",
      "Replacement found: poll -> gallup\n",
      "Replacement found: taken -> take\n",
      "Replacement found: state -> government\n",
      "Replacement found: many -> few\n",
      "Replacement found: piece -> something\n",
      "Replacement found: level -> above\n",
      "Replacement found: book -> author\n",
      "Replacement found: whale -> dolphin\n",
      "Replacement found: 2006 -> 2007\n",
      "Replacement found: interpretation -> interpret\n"
     ]
    },
    {
     "name": "stderr",
     "output_type": "stream",
     "text": [
      "275it [00:23,  8.73it/s]"
     ]
    },
    {
     "name": "stdout",
     "output_type": "stream",
     "text": [
      "Replacement found: best -> most\n",
      "Replacement found: ends -> begins\n",
      "Replacement found: obtains -> acquires\n",
      "Replacement found: threatening -> warning\n",
      "Replacement found: greatly -> significantly\n",
      "Replacement found: damaged -> destroyed\n"
     ]
    },
    {
     "name": "stderr",
     "output_type": "stream",
     "text": [
      "278it [00:23, 10.41it/s]"
     ]
    },
    {
     "name": "stdout",
     "output_type": "stream",
     "text": [
      "Replacement found: presumed -> unknown\n",
      "Insufficient replacements found for ['ref', 'presumed']\n",
      "Replacement found: whales -> dolphins\n",
      "Replacement found: half -> quarter\n",
      "Insufficient replacements found for ['whales', 'agency', 'half', 'april']\n",
      "Insufficient replacements found for ['nelson']\n",
      "Insufficient replacements found for ['since']\n"
     ]
    },
    {
     "name": "stderr",
     "output_type": "stream",
     "text": [
      "281it [00:24, 12.95it/s]"
     ]
    },
    {
     "name": "stdout",
     "output_type": "stream",
     "text": [
      "Replacement found: c -> b\n",
      "Replacement found: factor -> determining\n",
      "Replacement found: however -> though\n",
      "Replacement found: wigner -> szilárd\n",
      "Replacement found: immigrated -> emigrated\n",
      "Replacement found: much -> even\n"
     ]
    },
    {
     "name": "stderr",
     "output_type": "stream",
     "text": [
      "283it [00:24, 10.91it/s]"
     ]
    },
    {
     "name": "stdout",
     "output_type": "stream",
     "text": [
      "Replacement found: number -> have\n",
      "Replacement found: wages -> salaries\n",
      "Insufficient replacements found for ['wages', 'one']\n",
      "Replacement found: researchers -> scientists\n",
      "Replacement found: expected -> predicted\n",
      "Replacement found: czech -> prague\n",
      "Replacement found: press -> briefing\n"
     ]
    },
    {
     "name": "stderr",
     "output_type": "stream",
     "text": [
      "286it [00:24, 12.53it/s]"
     ]
    },
    {
     "name": "stdout",
     "output_type": "stream",
     "text": [
      "Replacement found: wishes -> desires\n",
      "Replacement found: concerned -> worried\n",
      "Replacement found: acts -> criminal\n",
      "Insufficient replacements found for ['weekly', 'acts']\n",
      "Replacement found: illocutionary -> uncultured\n",
      "Replacement found: coordinate -> coordination\n",
      "Replacement found: lies -> is\n"
     ]
    },
    {
     "name": "stderr",
     "output_type": "stream",
     "text": [
      "290it [00:24, 12.04it/s]"
     ]
    },
    {
     "name": "stdout",
     "output_type": "stream",
     "text": [
      "Replacement found: claim -> assertion\n",
      "Replacement found: whether -> if\n",
      "Replacement found: energy -> electricity\n",
      "Replacement found: total -> estimated\n",
      "Replacement found: sources -> reports\n",
      "Replacement found: unless -> if\n",
      "Replacement found: groups -> organizations\n",
      "Insufficient replacements found for ['cola', 'groups']\n",
      "Replacement found: latin -> america\n"
     ]
    },
    {
     "name": "stderr",
     "output_type": "stream",
     "text": [
      "292it [00:25, 11.70it/s]"
     ]
    },
    {
     "name": "stdout",
     "output_type": "stream",
     "text": [
      "Replacement found: university -> professor\n",
      "Replacement found: 100 -> 200\n",
      "Replacement found: faculty -> graduate\n",
      "Replacement found: effectively -> essentially\n",
      "Replacement found: 1987 -> 1985\n",
      "Replacement found: potential -> possible\n",
      "Replacement found: specialized -> specialised\n",
      "Replacement found: follows -> comes\n",
      "Replacement found: access -> information\n"
     ]
    },
    {
     "name": "stderr",
     "output_type": "stream",
     "text": [
      "294it [00:25, 10.15it/s]"
     ]
    },
    {
     "name": "stdout",
     "output_type": "stream",
     "text": [
      "Replacement found: procedure -> method\n",
      "Replacement found: newborn -> infant\n",
      "Replacement found: outweigh -> negate\n",
      "Replacement found: lend -> lends\n",
      "Replacement found: simply -> merely\n",
      "Replacement found: dialogue -> dialog\n",
      "Replacement found: role -> character\n",
      "Replacement found: plot -> plotting\n",
      "Replacement found: 1980s -> 1970s\n"
     ]
    },
    {
     "name": "stderr",
     "output_type": "stream",
     "text": [
      "296it [00:25, 10.32it/s]"
     ]
    },
    {
     "name": "stdout",
     "output_type": "stream",
     "text": [
      "Replacement found: 5 -> 6\n",
      "Replacement found: well -> so\n",
      "Replacement found: singles -> doubles\n",
      "Replacement found: carbon -> dioxide\n",
      "Replacement found: surgeon -> physician\n"
     ]
    },
    {
     "name": "stderr",
     "output_type": "stream",
     "text": [
      "298it [00:25, 11.09it/s]"
     ]
    },
    {
     "name": "stdout",
     "output_type": "stream",
     "text": [
      "Replacement found: research -> institute\n",
      "Insufficient replacements found for ['surgeon', 'plastic', 'ramaswami', 'research']\n",
      "Replacement found: complex -> complexes\n",
      "Replacement found: members -> representatives\n",
      "Replacement found: held -> scheduled\n"
     ]
    },
    {
     "name": "stderr",
     "output_type": "stream",
     "text": [
      "300it [00:25,  8.82it/s]"
     ]
    },
    {
     "name": "stdout",
     "output_type": "stream",
     "text": [
      "Insufficient replacements found for ['members', 'duby', 'held', 'assembly', 'self']\n",
      "Replacement found: drug -> cocaine\n",
      "Replacement found: ingredients -> spices\n",
      "Replacement found: synthetic -> synthesized\n",
      "Replacement found: components -> materials\n",
      "Replacement found: president -> vice\n",
      "Replacement found: conference -> meeting\n",
      "Replacement found: conference -> meeting\n"
     ]
    },
    {
     "name": "stderr",
     "output_type": "stream",
     "text": [
      "302it [00:26,  8.29it/s]"
     ]
    },
    {
     "name": "stdout",
     "output_type": "stream",
     "text": [
      "Replacement found: complained -> objected\n",
      "Replacement found: predator -> drone\n",
      "Replacement found: red -> yellow\n",
      "Replacement found: higher -> lower\n",
      "Replacement found: contestants -> finalists\n",
      "Replacement found: air -> aircraft\n",
      "Replacement found: television -> tv\n"
     ]
    },
    {
     "name": "stderr",
     "output_type": "stream",
     "text": [
      "306it [00:26, 11.54it/s]"
     ]
    },
    {
     "name": "stdout",
     "output_type": "stream",
     "text": [
      "Replacement found: economic -> financial\n",
      "Replacement found: politics -> politicians\n",
      "Replacement found: government -> administration\n",
      "Replacement found: stewardship -> sustainability\n",
      "Replacement found: educational -> academic\n",
      "Replacement found: nationalist -> nationalists\n"
     ]
    },
    {
     "name": "stderr",
     "output_type": "stream",
     "text": [
      "308it [00:26, 12.55it/s]"
     ]
    },
    {
     "name": "stdout",
     "output_type": "stream",
     "text": [
      "Replacement found: steroid -> anabolic\n",
      "Replacement found: confirmed -> announced\n",
      "Replacement found: skills -> abilities\n",
      "Replacement found: support -> backing\n",
      "Replacement found: need -> want\n",
      "Replacement found: 34 -> 37\n"
     ]
    },
    {
     "name": "stderr",
     "output_type": "stream",
     "text": [
      "310it [00:26, 12.10it/s]"
     ]
    },
    {
     "name": "stdout",
     "output_type": "stream",
     "text": [
      "Replacement found: showed -> indicated\n",
      "Replacement found: become -> becomes\n",
      "Replacement found: complained -> criticized\n",
      "Replacement found: order -> allow\n",
      "Replacement found: credits -> programs\n",
      "Replacement found: 21 -> 22\n",
      "Replacement found: person -> someone\n"
     ]
    },
    {
     "name": "stderr",
     "output_type": "stream",
     "text": [
      "315it [00:27, 12.97it/s]"
     ]
    },
    {
     "name": "stdout",
     "output_type": "stream",
     "text": [
      "Replacement found: passage -> legislation\n",
      "Replacement found: european -> union\n",
      "Replacement found: take -> give\n",
      "Replacement found: union -> european\n",
      "Replacement found: trafficking -> smuggling\n",
      "Replacement found: 1505 -> 1504\n",
      "Replacement found: ambassadors -> diplomats\n",
      "Replacement found: sent -> dispatched\n"
     ]
    },
    {
     "name": "stderr",
     "output_type": "stream",
     "text": [
      "317it [00:27, 12.10it/s]"
     ]
    },
    {
     "name": "stdout",
     "output_type": "stream",
     "text": [
      "Replacement found: open -> round\n",
      "Insufficient replacements found for ['ref', 'open', 'stores']\n",
      "Replacement found: two -> three\n",
      "Replacement found: opponent -> foe\n",
      "Replacement found: expansion -> expanding\n",
      "Replacement found: importance -> significance\n",
      "Replacement found: peace -> accord\n",
      "Replacement found: ecological -> environmental\n",
      "Replacement found: located -> situated\n",
      "Replacement found: reported -> cited\n",
      "Replacement found: predicts -> expects\n",
      "Replacement found: analysts -> economists\n",
      "Replacement found: idea -> notion\n",
      "Replacement found: forced -> leave\n"
     ]
    },
    {
     "name": "stderr",
     "output_type": "stream",
     "text": [
      "321it [00:27,  9.78it/s]"
     ]
    },
    {
     "name": "stdout",
     "output_type": "stream",
     "text": [
      "Replacement found: public -> private\n",
      "Replacement found: even -> much\n",
      "Replacement found: debating -> discussing\n",
      "Replacement found: oliver -> holmes\n",
      "Replacement found: importance -> significance\n",
      "Insufficient replacements found for ['importance', 'society']\n",
      "Replacement found: interview -> news\n",
      "Replacement found: effect -> impact\n"
     ]
    },
    {
     "name": "stderr",
     "output_type": "stream",
     "text": [
      "323it [00:28, 10.77it/s]"
     ]
    },
    {
     "name": "stdout",
     "output_type": "stream",
     "text": [
      "Replacement found: elaborated -> expounded\n",
      "Replacement found: lower -> higher\n",
      "Insufficient replacements found for ['lower', 'ref']\n",
      "Replacement found: related -> involved\n"
     ]
    },
    {
     "name": "stderr",
     "output_type": "stream",
     "text": [
      "325it [00:28,  9.12it/s]"
     ]
    },
    {
     "name": "stdout",
     "output_type": "stream",
     "text": [
      "Replacement found: conventions -> norms\n",
      "Replacement found: play -> plays\n",
      "Insufficient replacements found for ['convention', 'related', 'khamenei', 'conventions', 'women', 'play']\n",
      "Replacement found: fund -> hedge\n",
      "Insufficient replacements found for ['fund', 'wrote']\n",
      "Insufficient replacements found for ['basketball', 'since']\n"
     ]
    },
    {
     "name": "stderr",
     "output_type": "stream",
     "text": [
      "327it [00:28,  8.38it/s]"
     ]
    },
    {
     "name": "stdout",
     "output_type": "stream",
     "text": [
      "Replacement found: abuse -> child\n",
      "Replacement found: said -> told\n",
      "Replacement found: picked -> got\n",
      "Replacement found: individuals -> persons\n",
      "Replacement found: wages -> salaries\n",
      "Replacement found: social -> political\n"
     ]
    },
    {
     "name": "stderr",
     "output_type": "stream",
     "text": [
      "331it [00:28, 11.20it/s]"
     ]
    },
    {
     "name": "stdout",
     "output_type": "stream",
     "text": [
      "Replacement found: individuals -> persons\n",
      "Replacement found: lifetime -> achievement\n",
      "Replacement found: cite -> soleil\n",
      "Insufficient replacements found for ['lawyers', 'trade']\n",
      "Replacement found: led -> followed\n",
      "Replacement found: lack -> lacking\n",
      "Replacement found: kidney -> liver\n",
      "Replacement found: sell -> buy\n"
     ]
    },
    {
     "name": "stderr",
     "output_type": "stream",
     "text": [
      "333it [00:29, 11.11it/s]"
     ]
    },
    {
     "name": "stdout",
     "output_type": "stream",
     "text": [
      "Replacement found: vulnerable -> susceptible\n",
      "Replacement found: surgeons -> physicians\n",
      "Replacement found: oral -> intravenous\n",
      "Replacement found: occupational -> osha\n",
      "Replacement found: population -> census\n",
      "Replacement found: basketball -> football\n",
      "Replacement found: based -> headquartered\n",
      "Replacement found: number -> addition\n",
      "Replacement found: increasing -> growing\n",
      "Replacement found: conventional -> unconventional\n",
      "Replacement found: high -> low\n",
      "Replacement found: shortage -> scarcity\n",
      "Replacement found: actually -> probably\n",
      "Replacement found: footprint -> size\n",
      "Replacement found: number -> addition\n"
     ]
    },
    {
     "name": "stderr",
     "output_type": "stream",
     "text": [
      "338it [00:29, 10.13it/s]"
     ]
    },
    {
     "name": "stdout",
     "output_type": "stream",
     "text": [
      "Replacement found: increases -> decreases\n",
      "Replacement found: increase -> decrease\n",
      "Replacement found: created -> formed\n",
      "Replacement found: worse -> better\n",
      "Replacement found: continuing -> ongoing\n",
      "Replacement found: even -> n't\n"
     ]
    },
    {
     "name": "stderr",
     "output_type": "stream",
     "text": [
      "340it [00:29, 11.22it/s]"
     ]
    },
    {
     "name": "stdout",
     "output_type": "stream",
     "text": [
      "Replacement found: shown -> showed\n",
      "Insufficient replacements found for ['shown', 'african']\n",
      "Replacement found: currently -> presently\n",
      "Insufficient replacements found for ['strathfoyle', 'youth', 'currently']\n",
      "Replacement found: community -> neighborhood\n",
      "Replacement found: work -> job\n",
      "Replacement found: areas -> regions\n"
     ]
    },
    {
     "name": "stderr",
     "output_type": "stream",
     "text": [
      "342it [00:29, 12.40it/s]"
     ]
    },
    {
     "name": "stdout",
     "output_type": "stream",
     "text": [
      "Replacement found: intercourse -> sexual\n",
      "Replacement found: 73 -> 74\n",
      "Replacement found: support -> assistance\n",
      "Replacement found: number -> addition\n",
      "Replacement found: effect -> impact\n"
     ]
    },
    {
     "name": "stderr",
     "output_type": "stream",
     "text": [
      "344it [00:30, 10.62it/s]"
     ]
    },
    {
     "name": "stdout",
     "output_type": "stream",
     "text": [
      "Replacement found: conventionally -> classically\n",
      "Replacement found: steroids -> amphetamines\n",
      "Replacement found: research -> institute\n",
      "Replacement found: grounded -> stranded\n",
      "Replacement found: science -> biology\n",
      "Replacement found: established -> recognized\n"
     ]
    },
    {
     "name": "stderr",
     "output_type": "stream",
     "text": [
      "346it [00:30, 10.21it/s]"
     ]
    },
    {
     "name": "stdout",
     "output_type": "stream",
     "text": [
      "Replacement found: control -> power\n",
      "Replacement found: freedom -> liberty\n",
      "Replacement found: 2007 -> 2009\n",
      "Replacement found: writer -> author\n",
      "Replacement found: staff -> employee\n"
     ]
    },
    {
     "name": "stderr",
     "output_type": "stream",
     "text": [
      "350it [00:30,  9.68it/s]"
     ]
    },
    {
     "name": "stdout",
     "output_type": "stream",
     "text": [
      "Replacement found: taking -> giving\n",
      "Insufficient replacements found for ['toffoli', 'anyone', 'taking']\n",
      "Replacement found: award -> achievement\n",
      "Replacement found: stated -> commented\n",
      "Replacement found: made -> came\n",
      "Replacement found: results -> findings\n",
      "Replacement found: inside -> outside\n",
      "Replacement found: reports -> officials\n",
      "Replacement found: benefit -> benefiting\n",
      "Replacement found: exceeded -> exceed\n"
     ]
    },
    {
     "name": "stderr",
     "output_type": "stream",
     "text": [
      "353it [00:31, 11.24it/s]"
     ]
    },
    {
     "name": "stdout",
     "output_type": "stream",
     "text": [
      "Insufficient replacements found for ['brazil']\n",
      "Replacement found: pathways -> paths\n",
      "Replacement found: disadvantaged -> underprivileged\n",
      "Insufficient replacements found for ['pathways', 'pathway', 'senior', 'disadvantaged']\n",
      "Replacement found: close -> just\n",
      "Replacement found: border -> crossing\n",
      "Replacement found: reinforced -> reinforce\n",
      "Replacement found: 2014 -> 2012\n"
     ]
    },
    {
     "name": "stderr",
     "output_type": "stream",
     "text": [
      "358it [00:31, 12.77it/s]"
     ]
    },
    {
     "name": "stdout",
     "output_type": "stream",
     "text": [
      "Insufficient replacements found for ['stated', 'walter']\n",
      "Replacement found: 17 -> 19\n",
      "Insufficient replacements found for ['adolescents', '17', 'ref']\n",
      "Replacement found: drew -> attracted\n",
      "Replacement found: polling -> voting\n",
      "Replacement found: man -> woman\n",
      "Replacement found: atheist -> agnostic\n",
      "Replacement found: leading -> including\n",
      "Replacement found: compassion -> kindness\n",
      "Replacement found: atheists -> agnostics\n",
      "Replacement found: goebbels -> bormann\n"
     ]
    },
    {
     "name": "stderr",
     "output_type": "stream",
     "text": [
      "363it [00:31, 10.63it/s]"
     ]
    },
    {
     "name": "stdout",
     "output_type": "stream",
     "text": [
      "Replacement found: groups -> organizations\n",
      "Replacement found: accomplish -> achieve\n",
      "Replacement found: certain -> particular\n",
      "Replacement found: standard -> definition\n",
      "Replacement found: percentage -> percent\n",
      "Replacement found: issue -> question\n",
      "Replacement found: different -> various\n",
      "Replacement found: brokers -> brokerages\n",
      "Replacement found: solutions -> alternatives\n",
      "Replacement found: acceptable -> unacceptable\n"
     ]
    },
    {
     "name": "stderr",
     "output_type": "stream",
     "text": [
      "365it [00:32, 11.24it/s]"
     ]
    },
    {
     "name": "stdout",
     "output_type": "stream",
     "text": [
      "Replacement found: position -> stance\n",
      "Replacement found: citing -> quoting\n",
      "Replacement found: addition -> include\n",
      "Replacement found: cases -> instances\n",
      "Replacement found: began -> started\n",
      "Replacement found: infrastructure -> transportation\n",
      "Replacement found: two -> three\n",
      "Replacement found: food -> eat\n",
      "Replacement found: pantanal -> cerrado\n",
      "Replacement found: limited -> restricted\n",
      "Replacement found: changes -> adjustments\n",
      "Replacement found: assessment -> evaluation\n",
      "Replacement found: impact -> effect\n"
     ]
    },
    {
     "name": "stderr",
     "output_type": "stream",
     "text": [
      "369it [00:32,  9.33it/s]"
     ]
    },
    {
     "name": "stdout",
     "output_type": "stream",
     "text": [
      "Replacement found: discrimination -> harassment\n",
      "Insufficient replacements found for ['ref', 'discrimination']\n",
      "Replacement found: affirmative -> discriminatory\n",
      "Replacement found: 1994 -> 1993\n",
      "Replacement found: conducted -> conduct\n",
      "Replacement found: international -> global\n",
      "Replacement found: sport -> cycling\n",
      "Replacement found: found -> discovered\n",
      "Replacement found: offseason -> off-season\n"
     ]
    },
    {
     "name": "stderr",
     "output_type": "stream",
     "text": [
      "373it [00:32, 11.92it/s]"
     ]
    },
    {
     "name": "stdout",
     "output_type": "stream",
     "text": [
      "Replacement found: members -> representatives\n",
      "Replacement found: officials -> authorities\n",
      "Insufficient replacements found for ['ref', 'lgbt']\n",
      "Replacement found: deal -> agreed\n",
      "Replacement found: cases -> instances\n",
      "Replacement found: people -> others\n"
     ]
    },
    {
     "name": "stderr",
     "output_type": "stream",
     "text": [
      "375it [00:33, 11.01it/s]"
     ]
    },
    {
     "name": "stdout",
     "output_type": "stream",
     "text": [
      "Replacement found: death -> murder\n",
      "Replacement found: penalty -> kick\n",
      "Replacement found: 28 -> 27\n",
      "Replacement found: ultimatum -> deadline\n",
      "Replacement found: presented -> submitted\n",
      "Replacement found: views -> perspectives\n",
      "Replacement found: predominant -> dominant\n",
      "Replacement found: supporting -> backing\n",
      "Replacement found: risk -> danger\n"
     ]
    },
    {
     "name": "stderr",
     "output_type": "stream",
     "text": [
      "380it [00:33, 15.48it/s]"
     ]
    },
    {
     "name": "stdout",
     "output_type": "stream",
     "text": [
      "Replacement found: mockingly -> jokingly\n",
      "Replacement found: believe -> say\n",
      "Replacement found: refoulement -> partus\n",
      "Replacement found: country -> nation\n",
      "Replacement found: girl -> boy\n",
      "Replacement found: conventions -> norms\n",
      "Replacement found: years -> months\n",
      "Replacement found: popularity -> success\n",
      "Replacement found: argue -> contend\n",
      "Replacement found: making -> putting\n"
     ]
    },
    {
     "name": "stderr",
     "output_type": "stream",
     "text": [
      "385it [00:33, 17.78it/s]"
     ]
    },
    {
     "name": "stdout",
     "output_type": "stream",
     "text": [
      "Replacement found: public -> private\n",
      "Replacement found: business -> industry\n",
      "Replacement found: generate -> produce\n",
      "Replacement found: area -> vicinity\n",
      "Replacement found: orphanages -> orphans\n",
      "Replacement found: eleven -> fourteen\n",
      "Replacement found: higher -> lower\n",
      "Replacement found: within -> inside\n",
      "Insufficient replacements found for ['within', 'examples']\n"
     ]
    },
    {
     "name": "stderr",
     "output_type": "stream",
     "text": [
      "387it [00:33, 11.89it/s]"
     ]
    },
    {
     "name": "stdout",
     "output_type": "stream",
     "text": [
      "Replacement found: bargaining -> negotiating\n",
      "Replacement found: upheld -> overturned\n",
      "Replacement found: public -> private\n",
      "Replacement found: press -> associated\n",
      "Replacement found: court -> supreme\n"
     ]
    },
    {
     "name": "stderr",
     "output_type": "stream",
     "text": [
      "389it [00:34, 12.26it/s]"
     ]
    },
    {
     "name": "stdout",
     "output_type": "stream",
     "text": [
      "Replacement found: authority -> jurisdiction\n",
      "Replacement found: death -> murder\n",
      "Replacement found: corollary -> truism\n",
      "Replacement found: responsibility -> blame\n",
      "Replacement found: single -> first\n",
      "Replacement found: valley -> river\n",
      "Replacement found: middleweight -> welterweight\n",
      "Replacement found: split -> splitting\n"
     ]
    },
    {
     "name": "stderr",
     "output_type": "stream",
     "text": [
      "393it [00:34, 13.43it/s]"
     ]
    },
    {
     "name": "stdout",
     "output_type": "stream",
     "text": [
      "Insufficient replacements found for ['middleweight', 'split', 'flores', 'mexico']\n",
      "Replacement found: work -> well\n",
      "Replacement found: limited -> available\n",
      "Replacement found: 2009 -> 2007\n",
      "Replacement found: benedict -> pope\n",
      "Replacement found: sufficient -> adequate\n"
     ]
    },
    {
     "name": "stderr",
     "output_type": "stream",
     "text": [
      "395it [00:34, 11.04it/s]"
     ]
    },
    {
     "name": "stdout",
     "output_type": "stream",
     "text": [
      "Replacement found: cases -> instances\n",
      "Insufficient replacements found for ['insular', 'ref', 'cases']\n",
      "Replacement found: said -> told\n",
      "Replacement found: females -> males\n",
      "Replacement found: founded -> established\n",
      "Replacement found: criminals -> crimes\n",
      "Replacement found: amoral -> nihilistic\n",
      "Replacement found: crime -> criminal\n"
     ]
    },
    {
     "name": "stderr",
     "output_type": "stream",
     "text": [
      "398it [00:34, 12.09it/s]"
     ]
    },
    {
     "name": "stdout",
     "output_type": "stream",
     "text": [
      "Replacement found: use -> allow\n",
      "Replacement found: evolving -> changing\n",
      "Replacement found: language -> arabic\n",
      "Replacement found: amendment -> provision\n",
      "Replacement found: napkins -> tablecloths\n",
      "Replacement found: political -> social\n",
      "Replacement found: influx -> inflow\n",
      "Replacement found: subscription -> fee\n",
      "Replacement found: poorest -> wealthiest\n",
      "Replacement found: television -> tv\n"
     ]
    },
    {
     "name": "stderr",
     "output_type": "stream",
     "text": [
      "403it [00:35, 15.89it/s]"
     ]
    },
    {
     "name": "stdout",
     "output_type": "stream",
     "text": [
      "Replacement found: little -> much\n",
      "Replacement found: 2009 -> 2007\n",
      "Replacement found: plant -> factory\n",
      "Insufficient replacements found for ['ministry', 'plant']\n",
      "Replacement found: state -> government\n",
      "Replacement found: requisite -> sufficient\n",
      "Replacement found: insane -> lunatic\n",
      "Replacement found: negates -> presupposes\n",
      "Replacement found: burden -> burdensome\n"
     ]
    },
    {
     "name": "stderr",
     "output_type": "stream",
     "text": [
      "405it [00:35, 14.48it/s]"
     ]
    },
    {
     "name": "stdout",
     "output_type": "stream",
     "text": [
      "Replacement found: ruling -> supreme\n",
      "Replacement found: convictions -> sentences\n",
      "Replacement found: host -> hosts\n",
      "Replacement found: 2020 -> 2025\n",
      "Replacement found: supported -> opposed\n",
      "Replacement found: due -> likely\n",
      "Replacement found: contract -> deal\n"
     ]
    },
    {
     "name": "stderr",
     "output_type": "stream",
     "text": [
      "410it [00:35, 15.11it/s]"
     ]
    },
    {
     "name": "stdout",
     "output_type": "stream",
     "text": [
      "Replacement found: maternal -> paternal\n",
      "Replacement found: lymphocytic -> leukemia\n",
      "Replacement found: funding -> financing\n",
      "Replacement found: bill -> legislation\n",
      "Replacement found: 14 -> 13\n",
      "Insufficient replacements found for ['boaz', '14']\n",
      "Replacement found: registration -> voter\n"
     ]
    },
    {
     "name": "stderr",
     "output_type": "stream",
     "text": [
      "412it [00:35, 14.27it/s]"
     ]
    },
    {
     "name": "stdout",
     "output_type": "stream",
     "text": [
      "Insufficient replacements found for ['mitchell', 'may', 'unionist']\n",
      "Replacement found: facility -> center\n",
      "Insufficient replacements found for ['facility', 'ref']\n",
      "Replacement found: children -> parents\n",
      "Replacement found: supported -> opposed\n",
      "Replacement found: studies -> researchers\n",
      "Replacement found: sexual -> homosexual\n"
     ]
    },
    {
     "name": "stderr",
     "output_type": "stream",
     "text": [
      "414it [00:35, 12.48it/s]"
     ]
    },
    {
     "name": "stdout",
     "output_type": "stream",
     "text": [
      "Replacement found: included -> featured\n",
      "Replacement found: activity -> growth\n",
      "Replacement found: 21 -> 22\n",
      "Replacement found: program -> programme\n",
      "Replacement found: diet -> eating\n",
      "Replacement found: results -> findings\n",
      "Insufficient replacements found for ['quigg']\n"
     ]
    },
    {
     "name": "stderr",
     "output_type": "stream",
     "text": [
      "418it [00:36, 11.68it/s]"
     ]
    },
    {
     "name": "stdout",
     "output_type": "stream",
     "text": [
      "Replacement found: type -> kind\n",
      "Replacement found: genetic -> genome\n",
      "Replacement found: slim -> slimmer\n",
      "Replacement found: bid -> takeover\n",
      "Replacement found: congestion -> traffic\n",
      "Replacement found: charging -> accusing\n",
      "Replacement found: harbor -> harbour\n",
      "Insufficient replacements found for ['harbor', 'time']\n"
     ]
    },
    {
     "name": "stderr",
     "output_type": "stream",
     "text": [
      "423it [00:36, 15.35it/s]"
     ]
    },
    {
     "name": "stdout",
     "output_type": "stream",
     "text": [
      "Replacement found: 62 -> 63\n",
      "Replacement found: loyalist -> paramilitary\n",
      "Replacement found: one -> three\n",
      "Replacement found: 2005 -> 2007\n",
      "Replacement found: exposures -> concentrations\n",
      "Replacement found: process -> implementation\n",
      "Replacement found: mcdonnell -> douglas\n",
      "Insufficient replacements found for ['mcdonnell', 'langley']\n",
      "Replacement found: trees -> shrubs\n",
      "Replacement found: animals -> humans\n",
      "Replacement found: swans -> ducks\n",
      "Replacement found: lectures -> seminars\n",
      "Replacement found: 1967 -> 1965\n"
     ]
    },
    {
     "name": "stderr",
     "output_type": "stream",
     "text": [
      "425it [00:36, 11.43it/s]"
     ]
    },
    {
     "name": "stdout",
     "output_type": "stream",
     "text": [
      "Replacement found: focusing -> concentrating\n",
      "Replacement found: day -> week\n",
      "Replacement found: cancer -> breast\n",
      "Replacement found: consumption -> decrease\n",
      "Replacement found: prostate -> tumor\n",
      "Replacement found: day -> week\n",
      "Replacement found: mare -> tranquillitatis\n"
     ]
    },
    {
     "name": "stderr",
     "output_type": "stream",
     "text": [
      "429it [00:37, 12.32it/s]"
     ]
    },
    {
     "name": "stdout",
     "output_type": "stream",
     "text": [
      "Replacement found: shocked -> stunned\n",
      "Replacement found: discover -> find\n",
      "Replacement found: favourable -> favorable\n",
      "Insufficient replacements found for ['ref', 'favourable']\n",
      "Replacement found: story -> tale\n",
      "Replacement found: differentials -> disparities\n",
      "Replacement found: factor -> determining\n",
      "Replacement found: racial -> ethnic\n",
      "Replacement found: wealth -> fortune\n",
      "Replacement found: americans -> states\n",
      "Replacement found: debate -> discussion\n",
      "Replacement found: alarmists -> ufologists\n",
      "Replacement found: issue -> question\n"
     ]
    },
    {
     "name": "stderr",
     "output_type": "stream",
     "text": [
      "433it [00:37, 10.90it/s]"
     ]
    },
    {
     "name": "stdout",
     "output_type": "stream",
     "text": [
      "Replacement found: extremely -> very\n",
      "Replacement found: gogh -> gauguin\n",
      "Replacement found: van -> gogh\n",
      "Replacement found: unequal -> inequitable\n",
      "Insufficient replacements found for ['unequal', 'ref']\n",
      "Replacement found: violence -> violent\n",
      "Replacement found: 1989 -> 1987\n",
      "Replacement found: 2008 -> 2009\n",
      "Replacement found: lounges -> discotheques\n",
      "Replacement found: schizophrenia -> psychosis\n"
     ]
    },
    {
     "name": "stderr",
     "output_type": "stream",
     "text": [
      "436it [00:37, 12.29it/s]"
     ]
    },
    {
     "name": "stdout",
     "output_type": "stream",
     "text": [
      "Replacement found: mental -> psychiatric\n",
      "Replacement found: evidence -> testimony\n",
      "Replacement found: pharmacological -> neuroprotective\n",
      "Replacement found: ways -> things\n",
      "Replacement found: production -> output\n",
      "Replacement found: made -> came\n",
      "Replacement found: expansion -> expanding\n",
      "Replacement found: loss -> losing\n",
      "Replacement found: air -> force\n"
     ]
    },
    {
     "name": "stderr",
     "output_type": "stream",
     "text": [
      "441it [00:38, 13.32it/s]"
     ]
    },
    {
     "name": "stdout",
     "output_type": "stream",
     "text": [
      "Replacement found: impossible -> difficult\n",
      "Insufficient replacements found for ['impossible', 'board']\n",
      "Replacement found: voted -> approved\n",
      "Replacement found: engage -> conduct\n",
      "Replacement found: hate -> racist\n",
      "Replacement found: misinformation -> disinformation\n",
      "Replacement found: instigating -> inciting\n",
      "Replacement found: violence -> violent\n",
      "Replacement found: memory -> dram\n",
      "Replacement found: health -> care\n",
      "Replacement found: present -> current\n",
      "Replacement found: well -> so\n",
      "Replacement found: associated -> contributed\n"
     ]
    },
    {
     "name": "stderr",
     "output_type": "stream",
     "text": [
      "443it [00:38, 10.50it/s]"
     ]
    },
    {
     "name": "stdout",
     "output_type": "stream",
     "text": [
      "Replacement found: organs -> kidneys\n",
      "Replacement found: 1987 -> 1985\n",
      "Replacement found: development -> project\n",
      "Replacement found: producers -> distributors\n",
      "Replacement found: reviews -> reviewers\n",
      "Replacement found: ensure -> assure\n",
      "Replacement found: perpetuate -> legitimise\n"
     ]
    },
    {
     "name": "stderr",
     "output_type": "stream",
     "text": [
      "447it [00:38, 10.73it/s]"
     ]
    },
    {
     "name": "stdout",
     "output_type": "stream",
     "text": [
      "Replacement found: studies -> researchers\n",
      "Replacement found: substantial -> significant\n",
      "Replacement found: science -> biology\n",
      "Replacement found: unrelated -> similar\n",
      "Replacement found: social -> political\n",
      "Replacement found: obedience -> unquestioning\n",
      "Insufficient replacements found for ['obedience', 'hirata']\n",
      "Replacement found: successful -> unsuccessful\n",
      "Replacement found: organization -> organisation\n"
     ]
    },
    {
     "name": "stderr",
     "output_type": "stream",
     "text": [
      "449it [00:38, 11.31it/s]"
     ]
    },
    {
     "name": "stdout",
     "output_type": "stream",
     "text": [
      "Replacement found: amateur -> golfer\n",
      "Replacement found: common -> similar\n",
      "Replacement found: twelve -> fourteen\n",
      "Replacement found: 2000 -> 2001\n",
      "Replacement found: began -> started\n",
      "Replacement found: discusses -> examines\n",
      "Replacement found: economic -> financial\n",
      "Replacement found: problem -> solve\n"
     ]
    },
    {
     "name": "stderr",
     "output_type": "stream",
     "text": [
      "451it [00:39, 12.67it/s]"
     ]
    },
    {
     "name": "stdout",
     "output_type": "stream",
     "text": [
      "Replacement found: fantasy -> fiction\n",
      "Replacement found: authors -> scholars\n",
      "Replacement found: chapter -> bankruptcy\n",
      "Replacement found: counseling -> psychotherapy\n",
      "Replacement found: older -> newer\n"
     ]
    },
    {
     "name": "stderr",
     "output_type": "stream",
     "text": [
      "453it [00:39, 10.35it/s]"
     ]
    },
    {
     "name": "stdout",
     "output_type": "stream",
     "text": [
      "Replacement found: television -> tv\n",
      "Insufficient replacements found for ['tyler', 'older', 'television', 'following']\n",
      "Replacement found: large -> small\n",
      "Replacement found: rising -> surging\n",
      "Replacement found: roads -> highways\n",
      "Replacement found: near -> at\n"
     ]
    },
    {
     "name": "stderr",
     "output_type": "stream",
     "text": [
      "455it [00:39,  8.21it/s]"
     ]
    },
    {
     "name": "stdout",
     "output_type": "stream",
     "text": [
      "Replacement found: conducted -> performed\n",
      "Replacement found: particularly -> especially\n",
      "Replacement found: 1990s -> 1980s\n",
      "Replacement found: communities -> neighborhoods\n",
      "Replacement found: 2010 -> 2011\n",
      "Replacement found: megawatts -> kilowatts\n",
      "Replacement found: 3000 -> 4000\n",
      "Replacement found: considered -> deemed\n",
      "Replacement found: mishaps -> accidents\n"
     ]
    },
    {
     "name": "stderr",
     "output_type": "stream",
     "text": [
      "457it [00:39,  9.68it/s]"
     ]
    },
    {
     "name": "stdout",
     "output_type": "stream",
     "text": [
      "Replacement found: parents -> children\n",
      "Replacement found: graduation -> graduating\n",
      "Replacement found: physician -> doctor\n",
      "Replacement found: already -> so\n",
      "Insufficient replacements found for ['proudhon', 'already']\n",
      "Replacement found: legal -> constitutional\n",
      "Replacement found: separate -> separately\n",
      "Replacement found: voters -> polls\n"
     ]
    },
    {
     "name": "stderr",
     "output_type": "stream",
     "text": [
      "461it [00:40, 10.71it/s]"
     ]
    },
    {
     "name": "stdout",
     "output_type": "stream",
     "text": [
      "Replacement found: 31 -> 28\n",
      "Replacement found: friends -> parents\n",
      "Replacement found: created -> formed\n",
      "Replacement found: pageant -> titleholder\n",
      "Replacement found: small -> large\n",
      "Replacement found: located -> built\n",
      "Replacement found: maintaining -> keeping\n",
      "Replacement found: asked -> wanted\n",
      "Replacement found: conduct -> undertake\n",
      "Replacement found: wind -> storm\n",
      "Replacement found: billion -> million\n",
      "Replacement found: 2010 -> 2011\n",
      "Replacement found: installations -> facilities\n",
      "Replacement found: installed -> upgraded\n",
      "Replacement found: new -> same\n"
     ]
    },
    {
     "name": "stderr",
     "output_type": "stream",
     "text": [
      "464it [00:40,  7.45it/s]"
     ]
    },
    {
     "name": "stdout",
     "output_type": "stream",
     "text": [
      "Replacement found: used -> known\n",
      "Replacement found: house -> senate\n",
      "Replacement found: 29 -> 28\n",
      "Replacement found: 2010 -> 2011\n",
      "Replacement found: known -> named\n"
     ]
    },
    {
     "name": "stderr",
     "output_type": "stream",
     "text": [
      "466it [00:41,  7.82it/s]"
     ]
    },
    {
     "name": "stdout",
     "output_type": "stream",
     "text": [
      "Replacement found: obsolete -> unusable\n",
      "Replacement found: decentralized -> decentralised\n",
      "Replacement found: energy -> gas\n",
      "Replacement found: quicker -> faster\n",
      "Replacement found: electricity -> gas\n"
     ]
    },
    {
     "name": "stderr",
     "output_type": "stream",
     "text": [
      "467it [00:41,  5.91it/s]"
     ]
    },
    {
     "name": "stdout",
     "output_type": "stream",
     "text": [
      "Replacement found: becoming -> making\n",
      "Replacement found: electricity -> gas\n",
      "Replacement found: payroll -> income\n",
      "Replacement found: conventions -> norms\n"
     ]
    },
    {
     "name": "stderr",
     "output_type": "stream",
     "text": [
      "469it [00:41,  6.97it/s]"
     ]
    },
    {
     "name": "stdout",
     "output_type": "stream",
     "text": [
      "Replacement found: commanded -> cavalry\n",
      "Replacement found: majority -> minority\n",
      "Replacement found: extensive -> substantial\n",
      "Replacement found: efforts -> initiatives\n",
      "Replacement found: temperature -> humidity\n",
      "Replacement found: encouraging -> discouraging\n"
     ]
    },
    {
     "name": "stderr",
     "output_type": "stream",
     "text": [
      "473it [00:41,  9.40it/s]"
     ]
    },
    {
     "name": "stdout",
     "output_type": "stream",
     "text": [
      "Replacement found: research -> institute\n",
      "Replacement found: aberrations -> anomalies\n",
      "Replacement found: fetal -> foetal\n",
      "Replacement found: differences -> disagreements\n",
      "Replacement found: swing -> swinging\n",
      "Replacement found: vote -> voting\n",
      "Replacement found: replacing -> retiring\n",
      "Replacement found: use -> allow\n",
      "Replacement found: drug -> cocaine\n",
      "Replacement found: contain -> produce\n",
      "Replacement found: top -> senior\n",
      "Replacement found: drug -> cocaine\n",
      "Replacement found: royal -> navy\n",
      "Insufficient replacements found for ['iceland', 'british', 'may', 'royal']\n"
     ]
    },
    {
     "name": "stderr",
     "output_type": "stream",
     "text": [
      "475it [00:42,  8.49it/s]"
     ]
    },
    {
     "name": "stdout",
     "output_type": "stream",
     "text": [
      "Replacement found: overhears -> informs\n",
      "Replacement found: immigrants -> migrants\n",
      "Replacement found: reported -> quoted\n",
      "Replacement found: press -> news\n"
     ]
    },
    {
     "name": "stderr",
     "output_type": "stream",
     "text": [
      "480it [00:42, 10.58it/s]"
     ]
    },
    {
     "name": "stdout",
     "output_type": "stream",
     "text": [
      "Replacement found: murder -> slaying\n",
      "Insufficient replacements found for ['press', 'journalists', 'north', 'murder']\n",
      "Replacement found: called -> referred\n",
      "Replacement found: pope -> benedict\n",
      "Replacement found: people -> others\n",
      "Replacement found: claim -> claimed\n",
      "Replacement found: tried -> attempted\n",
      "Replacement found: lottery -> jackpot\n",
      "Replacement found: massive -> huge\n",
      "Insufficient replacements found for ['caperton']\n",
      "Replacement found: lowest -> highest\n"
     ]
    },
    {
     "name": "stderr",
     "output_type": "stream",
     "text": [
      "483it [00:42, 11.04it/s]"
     ]
    },
    {
     "name": "stdout",
     "output_type": "stream",
     "text": [
      "Replacement found: hectares -> acres\n",
      "Replacement found: eradicate -> eradication\n",
      "Replacement found: years -> months\n",
      "Replacement found: efforts -> initiatives\n",
      "Replacement found: grounded -> fly\n",
      "Replacement found: levels -> increases\n"
     ]
    },
    {
     "name": "stderr",
     "output_type": "stream",
     "text": [
      "485it [00:42, 10.81it/s]"
     ]
    },
    {
     "name": "stdout",
     "output_type": "stream",
     "text": [
      "Insufficient replacements found for ['grounded', 'levels', 'benedict', 'anderson']\n",
      "Replacement found: votes -> ballots\n",
      "Replacement found: million -> billion\n",
      "Replacement found: 2008 -> 2009\n",
      "Replacement found: inside -> out\n"
     ]
    },
    {
     "name": "stderr",
     "output_type": "stream",
     "text": [
      "490it [00:43, 13.73it/s]"
     ]
    },
    {
     "name": "stdout",
     "output_type": "stream",
     "text": [
      "Replacement found: chicken -> meat\n",
      "Insufficient replacements found for ['inside', 'hurley', 'tanaka', 'chicken']\n",
      "Replacement found: allowed -> permitted\n",
      "Replacement found: found -> discovered\n",
      "Insufficient replacements found for ['found', 'harvard']\n",
      "Replacement found: healthy -> stable\n",
      "Replacement found: websites -> sites\n",
      "Replacement found: new -> first\n"
     ]
    },
    {
     "name": "stderr",
     "output_type": "stream",
     "text": [
      "492it [00:43, 10.82it/s]"
     ]
    },
    {
     "name": "stdout",
     "output_type": "stream",
     "text": [
      "Replacement found: ethics -> rules\n",
      "Replacement found: professor -> lecturer\n",
      "Replacement found: specialist -> expert\n",
      "Replacement found: professor -> lecturer\n",
      "Insufficient replacements found for ['cumberland', 'david', 'ethics', 'professor', 'specialist', 'professor']\n",
      "Replacement found: able -> unable\n",
      "Replacement found: centuries -> decades\n",
      "Replacement found: fossil -> fossils\n",
      "Replacement found: would -> could\n",
      "Replacement found: binding -> nonbinding\n",
      "Replacement found: outlawing -> banning\n"
     ]
    },
    {
     "name": "stderr",
     "output_type": "stream",
     "text": [
      "494it [00:43, 10.60it/s]"
     ]
    },
    {
     "name": "stdout",
     "output_type": "stream",
     "text": [
      "Replacement found: ahmadiyya -> muslim\n",
      "Replacement found: program -> programme\n",
      "Replacement found: cancer -> prostate\n",
      "Replacement found: mutations -> genes\n",
      "Insufficient replacements found for ['britain', 'emailing']\n",
      "Replacement found: perform -> participate\n",
      "Replacement found: 2008 -> 2009\n",
      "Replacement found: study -> research\n"
     ]
    },
    {
     "name": "stderr",
     "output_type": "stream",
     "text": [
      "498it [00:44, 12.34it/s]"
     ]
    },
    {
     "name": "stdout",
     "output_type": "stream",
     "text": [
      "Replacement found: supreme -> court\n",
      "Insufficient replacements found for ['supreme', 'missouri']\n",
      "Replacement found: april -> march\n",
      "Insufficient replacements found for ['michaelhouse', 'april']\n",
      "Replacement found: authoritarian -> autocratic\n",
      "Replacement found: celibacy -> chastity\n",
      "Replacement found: allegations -> accusations\n",
      "Replacement found: members -> representatives\n"
     ]
    },
    {
     "name": "stderr",
     "output_type": "stream",
     "text": [
      "500it [00:44, 11.30it/s]"
     ]
    },
    {
     "name": "stdout",
     "output_type": "stream",
     "text": [
      "Replacement found: together -> up\n",
      "Replacement found: 1993 -> 1994\n",
      "Replacement found: showed -> indicated\n",
      "Replacement found: disagreed -> concurred\n",
      "Replacement found: survey -> poll\n",
      "Insufficient replacements found for ['ref']\n",
      "Replacement found: cards -> passports\n",
      "Replacement found: recruiting -> hiring\n"
     ]
    },
    {
     "name": "stderr",
     "output_type": "stream",
     "text": [
      "503it [00:44, 12.56it/s]"
     ]
    },
    {
     "name": "stdout",
     "output_type": "stream",
     "text": [
      "Replacement found: counties -> townships\n",
      "Replacement found: college -> school\n",
      "Replacement found: continue -> continued\n",
      "Replacement found: provide -> provided\n",
      "Replacement found: pursue -> pursued\n",
      "Replacement found: la -> en\n",
      "Replacement found: commanded -> brigade\n"
     ]
    },
    {
     "name": "stderr",
     "output_type": "stream",
     "text": [
      "505it [00:44,  9.66it/s]"
     ]
    },
    {
     "name": "stdout",
     "output_type": "stream",
     "text": [
      "Insufficient replacements found for ['foreign', 'la', 'commanded', 'franz', 'cancer', 'terre']\n",
      "Insufficient replacements found for ['western']\n",
      "Replacement found: well -> so\n",
      "Replacement found: usually -> typically\n",
      "Replacement found: 1988 -> 1984\n",
      "Replacement found: easily -> quickly\n",
      "Replacement found: 1979 -> 1978\n",
      "Replacement found: able -> unable\n",
      "Replacement found: longer -> less\n"
     ]
    },
    {
     "name": "stderr",
     "output_type": "stream",
     "text": [
      "509it [00:45, 10.27it/s]"
     ]
    },
    {
     "name": "stdout",
     "output_type": "stream",
     "text": [
      "Replacement found: publication -> publishing\n",
      "Replacement found: meet -> met\n",
      "Replacement found: political -> social\n",
      "Replacement found: due -> likely\n",
      "Replacement found: money -> cash\n",
      "Replacement found: large -> small\n",
      "Replacement found: gambling -> gaming\n"
     ]
    },
    {
     "name": "stderr",
     "output_type": "stream",
     "text": [
      "511it [00:45, 10.15it/s]"
     ]
    },
    {
     "name": "stdout",
     "output_type": "stream",
     "text": [
      "Replacement found: variability -> variation\n",
      "Insufficient replacements found for ['vary', 'variability']\n",
      "Replacement found: audience -> crowd\n",
      "Replacement found: provide -> give\n",
      "Replacement found: broader -> narrower\n",
      "Replacement found: world -> time\n",
      "Insufficient replacements found for ['diego']\n",
      "Replacement found: utilized -> utilised\n"
     ]
    },
    {
     "name": "stderr",
     "output_type": "stream",
     "text": [
      "514it [00:45, 12.79it/s]"
     ]
    },
    {
     "name": "stdout",
     "output_type": "stream",
     "text": [
      "Insufficient replacements found for ['utilized', 'tea']\n",
      "Replacement found: center -> centre\n",
      "Replacement found: technologies -> systems\n",
      "Replacement found: company -> subsidiary\n",
      "Insufficient replacements found for ['cork', 'company']\n",
      "Replacement found: supported -> backed\n",
      "Replacement found: poll -> gallup\n"
     ]
    },
    {
     "name": "stderr",
     "output_type": "stream",
     "text": [
      "518it [00:45, 12.16it/s]"
     ]
    },
    {
     "name": "stdout",
     "output_type": "stream",
     "text": [
      "Replacement found: renovation -> refurbishment\n",
      "Replacement found: would -> could\n",
      "Replacement found: communications -> telecommunications\n",
      "Replacement found: encouraged -> discouraged\n",
      "Replacement found: production -> output\n",
      "Replacement found: recognized -> recognised\n"
     ]
    },
    {
     "name": "stderr",
     "output_type": "stream",
     "text": [
      "520it [00:46, 12.12it/s]"
     ]
    },
    {
     "name": "stdout",
     "output_type": "stream",
     "text": [
      "Insufficient replacements found for ['recognized', 'iowa', 'upper']\n",
      "Replacement found: controversial -> contentious\n",
      "Replacement found: vs -> v\n",
      "Replacement found: additional -> extra\n",
      "Replacement found: achieve -> achieved\n",
      "Replacement found: artificial -> synthetic\n",
      "Replacement found: contraception -> contraceptive\n",
      "Replacement found: methods -> techniques\n",
      "Replacement found: groups -> organizations\n"
     ]
    },
    {
     "name": "stderr",
     "output_type": "stream",
     "text": [
      "524it [00:46, 12.93it/s]"
     ]
    },
    {
     "name": "stdout",
     "output_type": "stream",
     "text": [
      "Replacement found: advent -> introduction\n",
      "Replacement found: beneficial -> harmful\n",
      "Replacement found: may -> might\n",
      "Replacement found: wine -> grape\n",
      "Replacement found: parts -> components\n",
      "Replacement found: 63 -> 62\n",
      "Replacement found: citizens -> americans\n",
      "Replacement found: shopping -> mall\n",
      "Replacement found: tackle -> tackled\n"
     ]
    },
    {
     "name": "stderr",
     "output_type": "stream",
     "text": [
      "529it [00:46, 14.72it/s]"
     ]
    },
    {
     "name": "stdout",
     "output_type": "stream",
     "text": [
      "Insufficient replacements found for ['tackle', 'protocol']\n",
      "Replacement found: popular -> favorite\n",
      "Replacement found: sole -> lone\n",
      "Replacement found: politically -> economically\n",
      "Replacement found: country -> nation\n",
      "Replacement found: could -> would\n",
      "Replacement found: achieved -> achieve\n",
      "Replacement found: corrupt -> incompetent\n",
      "Replacement found: perfect -> good\n",
      "Replacement found: way -> come\n"
     ]
    },
    {
     "name": "stderr",
     "output_type": "stream",
     "text": [
      "531it [00:46, 13.88it/s]"
     ]
    },
    {
     "name": "stdout",
     "output_type": "stream",
     "text": [
      "Replacement found: expanded -> broadened\n",
      "Replacement found: mandate -> extend\n",
      "Replacement found: omnipresent -> omnipotent\n",
      "Replacement found: affect -> affecting\n",
      "Replacement found: fifteen -> fourteen\n",
      "Replacement found: knowledge -> understanding\n",
      "Replacement found: folding -> tandem\n"
     ]
    },
    {
     "name": "stderr",
     "output_type": "stream",
     "text": [
      "533it [00:46, 12.90it/s]"
     ]
    },
    {
     "name": "stdout",
     "output_type": "stream",
     "text": [
      "Replacement found: likes -> loves\n",
      "Replacement found: hired -> recruited\n",
      "Replacement found: generally -> usually\n",
      "Replacement found: scientifically -> empirically\n",
      "Replacement found: illegitimate -> half-brother\n",
      "Replacement found: many -> few\n",
      "Replacement found: response -> reaction\n"
     ]
    },
    {
     "name": "stderr",
     "output_type": "stream",
     "text": [
      "535it [00:47, 11.30it/s]"
     ]
    },
    {
     "name": "stdout",
     "output_type": "stream",
     "text": [
      "Replacement found: alcohol -> liquor\n",
      "Replacement found: problems -> difficulties\n",
      "Replacement found: eminent -> prominent\n",
      "Replacement found: grand -> slam\n"
     ]
    },
    {
     "name": "stderr",
     "output_type": "stream",
     "text": [
      "538it [00:47, 11.30it/s]"
     ]
    },
    {
     "name": "stdout",
     "output_type": "stream",
     "text": [
      "Replacement found: validation -> validating\n",
      "Insufficient replacements found for ['environmental', 'environmental', 'based', 'validation', 'etv']\n",
      "Replacement found: de -> en\n",
      "Replacement found: protect -> protected\n",
      "Replacement found: contained -> found\n",
      "Replacement found: de -> en\n",
      "Replacement found: grounds -> reasons\n"
     ]
    },
    {
     "name": "stderr",
     "output_type": "stream",
     "text": [
      "543it [00:47, 13.23it/s]"
     ]
    },
    {
     "name": "stdout",
     "output_type": "stream",
     "text": [
      "Replacement found: awarded -> received\n",
      "Replacement found: thing -> something\n",
      "Replacement found: residents -> citizens\n",
      "Replacement found: accounts -> savings\n",
      "Insufficient replacements found for ['windows', 'accounts']\n",
      "Replacement found: young -> talented\n",
      "Insufficient replacements found for ['marie', 'young']\n",
      "Replacement found: broad -> wide\n"
     ]
    },
    {
     "name": "stderr",
     "output_type": "stream",
     "text": [
      "545it [00:47, 12.62it/s]"
     ]
    },
    {
     "name": "stdout",
     "output_type": "stream",
     "text": [
      "Replacement found: introduction -> introducing\n",
      "Replacement found: convincing -> compelling\n",
      "Replacement found: deregulation -> liberalization\n",
      "Replacement found: washington -> d.c.\n",
      "Replacement found: claimed -> believed\n",
      "Replacement found: 18 -> 17\n"
     ]
    },
    {
     "name": "stderr",
     "output_type": "stream",
     "text": [
      "547it [00:48, 12.22it/s]"
     ]
    },
    {
     "name": "stdout",
     "output_type": "stream",
     "text": [
      "Insufficient replacements found for ['18', 'rusty', 'north', 'january']\n",
      "Replacement found: resolutions -> sanctions\n",
      "Replacement found: crudes -> goalkicks\n",
      "Replacement found: processing -> processor\n",
      "Replacement found: arising -> stemming\n",
      "Replacement found: liquids -> gels\n",
      "Replacement found: chemical -> chemistry\n"
     ]
    },
    {
     "name": "stderr",
     "output_type": "stream",
     "text": [
      "549it [00:48, 11.20it/s]"
     ]
    },
    {
     "name": "stdout",
     "output_type": "stream",
     "text": [
      "Replacement found: property -> estate\n",
      "Replacement found: environment -> climate\n",
      "Replacement found: 1993 -> 1994\n",
      "Replacement found: response -> respond\n",
      "Replacement found: celebratory -> celebration\n"
     ]
    },
    {
     "name": "stderr",
     "output_type": "stream",
     "text": [
      "553it [00:48, 11.77it/s]"
     ]
    },
    {
     "name": "stdout",
     "output_type": "stream",
     "text": [
      "Replacement found: growth -> economy\n",
      "Replacement found: mounting -> escalating\n",
      "Replacement found: period -> beginning\n",
      "Replacement found: strongly -> vehemently\n",
      "Replacement found: noteworthy -> notable\n",
      "Replacement found: felt -> thought\n",
      "Insufficient replacements found for ['snyderman', 'felt']\n",
      "Replacement found: decertified -> retrained\n",
      "Replacement found: 2007 -> 2009\n"
     ]
    },
    {
     "name": "stderr",
     "output_type": "stream",
     "text": [
      "555it [00:48, 10.82it/s]"
     ]
    },
    {
     "name": "stdout",
     "output_type": "stream",
     "text": [
      "Replacement found: 2007 -> 2009\n",
      "Insufficient replacements found for ['decertified', '2007', '2007', 'state']\n",
      "Replacement found: annual -> monthly\n",
      "Replacement found: bill -> legislation\n",
      "Replacement found: 2007 -> 2009\n",
      "Replacement found: steps -> measures\n",
      "Replacement found: provide -> provided\n"
     ]
    },
    {
     "name": "stderr",
     "output_type": "stream",
     "text": [
      "559it [00:49, 12.01it/s]"
     ]
    },
    {
     "name": "stdout",
     "output_type": "stream",
     "text": [
      "Replacement found: students -> teachers\n",
      "Insufficient replacements found for ['ref']\n",
      "Replacement found: negative -> positive\n",
      "Replacement found: journal -> atlanta\n",
      "Replacement found: supply -> shortage\n",
      "Replacement found: sales -> profits\n",
      "Replacement found: existing -> expanding\n"
     ]
    },
    {
     "name": "stderr",
     "output_type": "stream",
     "text": [
      "561it [00:49, 13.27it/s]"
     ]
    },
    {
     "name": "stdout",
     "output_type": "stream",
     "text": [
      "Replacement found: eliminated -> defeated\n",
      "Replacement found: could -> would\n",
      "Replacement found: solicitous -> courteous\n",
      "Replacement found: legitimate -> illegitimate\n",
      "Replacement found: congressional -> republican\n"
     ]
    },
    {
     "name": "stderr",
     "output_type": "stream",
     "text": [
      "565it [00:49, 12.63it/s]"
     ]
    },
    {
     "name": "stdout",
     "output_type": "stream",
     "text": [
      "Replacement found: fewer -> more\n",
      "Replacement found: introduced -> reintroduced\n",
      "Insufficient replacements found for ['introduced', 'sessions']\n",
      "Replacement found: country -> nation\n",
      "Replacement found: indicates -> suggests\n",
      "Replacement found: commonly -> usually\n",
      "Replacement found: day -> week\n"
     ]
    },
    {
     "name": "stderr",
     "output_type": "stream",
     "text": [
      "567it [00:49, 10.80it/s]"
     ]
    },
    {
     "name": "stdout",
     "output_type": "stream",
     "text": [
      "Replacement found: trade -> export\n",
      "Replacement found: attempt -> attempts\n",
      "Replacement found: externalities -> side-effects\n",
      "Replacement found: cost -> costing\n",
      "Replacement found: object -> particular\n",
      "Replacement found: wealth -> income\n"
     ]
    },
    {
     "name": "stderr",
     "output_type": "stream",
     "text": [
      "569it [00:50,  9.67it/s]"
     ]
    },
    {
     "name": "stdout",
     "output_type": "stream",
     "text": [
      "Insufficient replacements found for ['press', 'sun', 'commission']\n",
      "Replacement found: expensive -> costly\n",
      "Replacement found: oil -> petroleum\n",
      "Replacement found: cent -> percent\n",
      "Replacement found: private -> public\n",
      "Replacement found: club -> clubs\n"
     ]
    },
    {
     "name": "stderr",
     "output_type": "stream",
     "text": [
      "573it [00:50, 12.62it/s]"
     ]
    },
    {
     "name": "stdout",
     "output_type": "stream",
     "text": [
      "Replacement found: city -> town\n",
      "Replacement found: particularly -> especially\n",
      "Insufficient replacements found for ['carlos', 'particularly']\n",
      "Replacement found: procedure -> method\n",
      "Replacement found: purely -> solely\n",
      "Replacement found: projected -> forecast\n"
     ]
    },
    {
     "name": "stderr",
     "output_type": "stream",
     "text": [
      "577it [00:50, 13.57it/s]"
     ]
    },
    {
     "name": "stdout",
     "output_type": "stream",
     "text": [
      "Insufficient replacements found for ['international', 'projected', 'agency']\n",
      "Replacement found: expected -> predicted\n",
      "Replacement found: although -> though\n",
      "Replacement found: limited -> restricted\n",
      "Replacement found: render -> renders\n",
      "Replacement found: necessity -> imperative\n",
      "Insufficient replacements found for ['government', 'necessity']\n"
     ]
    },
    {
     "name": "stderr",
     "output_type": "stream",
     "text": [
      "579it [00:50, 12.14it/s]"
     ]
    },
    {
     "name": "stdout",
     "output_type": "stream",
     "text": [
      "Replacement found: 16 -> 14\n",
      "Insufficient replacements found for ['canada', '16']\n",
      "Replacement found: keep -> kept\n",
      "Replacement found: aviv -> tel\n",
      "Replacement found: preaching -> preach\n",
      "Replacement found: using -> utilizing\n",
      "Replacement found: protect -> safeguard\n",
      "Replacement found: manage -> managed\n",
      "Replacement found: digital -> audio\n"
     ]
    },
    {
     "name": "stderr",
     "output_type": "stream",
     "text": [
      "583it [00:51, 13.42it/s]"
     ]
    },
    {
     "name": "stdout",
     "output_type": "stream",
     "text": [
      "Insufficient replacements found for ['scholars', 'time']\n",
      "Replacement found: improved -> increased\n",
      "Replacement found: development -> project\n",
      "Replacement found: might -> could\n",
      "Replacement found: signalled -> signaled\n",
      "Replacement found: 17 -> 19\n",
      "Replacement found: much -> even\n",
      "Replacement found: teenage -> teenager\n",
      "Replacement found: later -> subsequently\n",
      "Replacement found: coast -> coastal\n"
     ]
    },
    {
     "name": "stderr",
     "output_type": "stream",
     "text": [
      "585it [00:51, 13.38it/s]"
     ]
    },
    {
     "name": "stdout",
     "output_type": "stream",
     "text": [
      "Replacement found: fishers -> anglers\n",
      "Replacement found: interest -> borrowing\n",
      "Replacement found: recent -> last\n",
      "Replacement found: recognises -> recognizes\n",
      "Replacement found: outlook -> gloomy\n",
      "Replacement found: atheistic -> anti-religious\n",
      "Replacement found: 37 -> 38\n"
     ]
    },
    {
     "name": "stderr",
     "output_type": "stream",
     "text": [
      "587it [00:51, 10.88it/s]"
     ]
    },
    {
     "name": "stdout",
     "output_type": "stream",
     "text": [
      "Replacement found: penal -> servitude\n",
      "Replacement found: abortion -> contraception\n",
      "Replacement found: begins -> continues\n",
      "Replacement found: breaks -> cuts\n",
      "Replacement found: disease -> infection\n",
      "Replacement found: acceptable -> unacceptable\n",
      "Replacement found: peace -> conflict\n"
     ]
    },
    {
     "name": "stderr",
     "output_type": "stream",
     "text": [
      "590it [00:52,  7.62it/s]"
     ]
    },
    {
     "name": "stdout",
     "output_type": "stream",
     "text": [
      "Replacement found: attorney -> case\n",
      "Insufficient replacements found for ['unit', 'statewide', 'bureau', 'computer', 'licensing', 'attorney', 'state', 'statewide']\n",
      "Replacement found: language -> word\n",
      "Replacement found: suspected -> alleged\n",
      "Replacement found: pluripotency -> self-renewal\n",
      "Replacement found: potential -> possible\n",
      "Replacement found: million -> billion\n"
     ]
    },
    {
     "name": "stderr",
     "output_type": "stream",
     "text": [
      "593it [00:52,  9.83it/s]"
     ]
    },
    {
     "name": "stdout",
     "output_type": "stream",
     "text": [
      "Replacement found: liposuction -> augmentation\n",
      "Replacement found: undergo -> undergone\n",
      "Replacement found: first -> second\n",
      "Replacement found: one -> two\n",
      "Replacement found: modern -> contemporary\n",
      "Replacement found: capital -> investment\n",
      "Replacement found: states -> countries\n",
      "Replacement found: subscribe -> subscribed\n",
      "Replacement found: membership -> participation\n",
      "Replacement found: agreements -> accords\n"
     ]
    },
    {
     "name": "stderr",
     "output_type": "stream",
     "text": [
      "597it [00:52, 10.42it/s]"
     ]
    },
    {
     "name": "stdout",
     "output_type": "stream",
     "text": [
      "Replacement found: starting -> beginning\n",
      "Replacement found: criteria -> requirements\n",
      "Replacement found: protect -> protected\n",
      "Replacement found: according -> citing\n",
      "Replacement found: leads -> wins\n",
      "Replacement found: reproductive -> digestive\n",
      "Insufficient replacements found for ['reproductive', 'may']\n",
      "Replacement found: articles -> essays\n",
      "Replacement found: written -> penned\n"
     ]
    },
    {
     "name": "stderr",
     "output_type": "stream",
     "text": [
      "599it [00:52, 11.17it/s]"
     ]
    },
    {
     "name": "stdout",
     "output_type": "stream",
     "text": [
      "Replacement found: development -> project\n",
      "Replacement found: human -> environmental\n",
      "Replacement found: 52 -> 54\n",
      "Replacement found: 2010 -> 2011\n",
      "Insufficient replacements found for ['also']\n"
     ]
    },
    {
     "name": "stderr",
     "output_type": "stream",
     "text": [
      "601it [00:53,  9.21it/s]"
     ]
    },
    {
     "name": "stdout",
     "output_type": "stream",
     "text": [
      "Replacement found: related -> involved\n",
      "Replacement found: type -> kind\n",
      "Insufficient replacements found for ['consortium', 'international', 'related', 'type', 'cancer']\n",
      "Replacement found: billion -> million\n",
      "Replacement found: 40 -> 50\n",
      "Replacement found: half -> quarter\n",
      "Replacement found: programs -> programmes\n",
      "Replacement found: susquehanna -> schuylkill\n",
      "Replacement found: used -> known\n",
      "Replacement found: college -> harvard\n"
     ]
    },
    {
     "name": "stderr",
     "output_type": "stream",
     "text": [
      "603it [00:53,  8.19it/s]"
     ]
    },
    {
     "name": "stdout",
     "output_type": "stream",
     "text": [
      "Replacement found: parties -> factions\n",
      "Insufficient replacements found for ['parties', 'americas']\n",
      "Replacement found: leading -> including\n"
     ]
    },
    {
     "name": "stderr",
     "output_type": "stream",
     "text": [
      "605it [00:53,  7.99it/s]"
     ]
    },
    {
     "name": "stdout",
     "output_type": "stream",
     "text": [
      "Insufficient replacements found for ['leading', 'sooner', 'russell', 'john']\n",
      "Replacement found: organization -> organisation\n",
      "Replacement found: standards -> requirements\n",
      "Replacement found: communist -> socialist\n",
      "Replacement found: secretaries -> chairmen\n",
      "Insufficient replacements found for ['communist', 'east', 'gorbachev', 'secretaries']\n"
     ]
    },
    {
     "name": "stderr",
     "output_type": "stream",
     "text": [
      "610it [00:54, 11.75it/s]"
     ]
    },
    {
     "name": "stdout",
     "output_type": "stream",
     "text": [
      "Replacement found: higher -> lower\n",
      "Replacement found: along -> across\n",
      "Replacement found: proposed -> propose\n",
      "Replacement found: debate -> discussion\n",
      "Replacement found: alternative -> alternate\n",
      "Replacement found: evidence -> testimony\n",
      "Replacement found: undermine -> undercut\n",
      "Replacement found: motivation -> reason\n",
      "Replacement found: safe -> sure\n",
      "Replacement found: states -> america\n",
      "Replacement found: released -> self-titled\n",
      "Replacement found: voiced -> expressed\n",
      "Replacement found: veto -> vetoes\n"
     ]
    },
    {
     "name": "stderr",
     "output_type": "stream",
     "text": [
      "614it [00:54,  9.91it/s]"
     ]
    },
    {
     "name": "stdout",
     "output_type": "stream",
     "text": [
      "Replacement found: death -> murder\n",
      "Replacement found: two -> three\n",
      "Replacement found: desk -> drawer\n",
      "Replacement found: expressive -> evocative\n",
      "Replacement found: naked -> clothed\n",
      "Replacement found: expressive -> evocative\n",
      "Replacement found: argument -> arguing\n",
      "Insufficient replacements found for ['utah']\n",
      "Replacement found: interest -> borrowing\n"
     ]
    },
    {
     "name": "stderr",
     "output_type": "stream",
     "text": [
      "616it [00:54, 11.28it/s]"
     ]
    },
    {
     "name": "stdout",
     "output_type": "stream",
     "text": [
      "Replacement found: public -> private\n",
      "Replacement found: reject -> accept\n",
      "Replacement found: launch -> launching\n",
      "Replacement found: social -> political\n",
      "Replacement found: users -> customers\n",
      "Replacement found: sharing -> discussing\n",
      "Replacement found: immaturity -> inexperience\n"
     ]
    },
    {
     "name": "stderr",
     "output_type": "stream",
     "text": [
      "618it [00:54, 12.22it/s]"
     ]
    },
    {
     "name": "stdout",
     "output_type": "stream",
     "text": [
      "Replacement found: time -> before\n",
      "Replacement found: temperature -> humidity\n",
      "Replacement found: 1969 -> 1970\n",
      "Replacement found: large -> small\n",
      "Replacement found: analysis -> study\n",
      "Replacement found: statistical -> mathematical\n",
      "Replacement found: disadvantaged -> marginalized\n"
     ]
    },
    {
     "name": "stderr",
     "output_type": "stream",
     "text": [
      "620it [00:55, 10.96it/s]"
     ]
    },
    {
     "name": "stdout",
     "output_type": "stream",
     "text": [
      "Replacement found: criminals -> crimes\n",
      "Replacement found: favored -> favoured\n",
      "Replacement found: mandate -> mandates\n",
      "Replacement found: providing -> supplying\n",
      "Replacement found: wing -> fighter\n"
     ]
    },
    {
     "name": "stderr",
     "output_type": "stream",
     "text": [
      "625it [00:55, 12.57it/s]"
     ]
    },
    {
     "name": "stdout",
     "output_type": "stream",
     "text": [
      "Replacement found: units -> battalions\n",
      "Replacement found: physically -> mentally\n",
      "Insufficient replacements found for ['physically', 'estimated']\n",
      "Replacement found: malnutrition -> malnourishment\n",
      "Replacement found: result -> resulted\n",
      "Replacement found: export -> import\n",
      "Replacement found: begin -> start\n",
      "Replacement found: states -> countries\n",
      "Insufficient replacements found for ['states', 'district']\n"
     ]
    },
    {
     "name": "stderr",
     "output_type": "stream",
     "text": [
      "627it [00:55, 13.80it/s]"
     ]
    },
    {
     "name": "stdout",
     "output_type": "stream",
     "text": [
      "Replacement found: schools -> colleges\n",
      "Replacement found: improve -> enhance\n",
      "Replacement found: attention -> focus\n",
      "Replacement found: around -> about\n",
      "Replacement found: people -> others\n",
      "Replacement found: described -> referred\n",
      "Insufficient replacements found for ['todd', 'described', 'compton']\n"
     ]
    },
    {
     "name": "stderr",
     "output_type": "stream",
     "text": [
      "631it [00:55, 12.52it/s]"
     ]
    },
    {
     "name": "stdout",
     "output_type": "stream",
     "text": [
      "Insufficient replacements found for ['said', 'ref']\n",
      "Replacement found: hunters -> trappers\n",
      "Replacement found: unlike -> like\n",
      "Replacement found: livelihoods -> ecosystems\n",
      "Replacement found: estimates -> forecasts\n",
      "Replacement found: freedom -> liberty\n"
     ]
    },
    {
     "name": "stderr",
     "output_type": "stream",
     "text": [
      "633it [00:56, 12.19it/s]"
     ]
    },
    {
     "name": "stdout",
     "output_type": "stream",
     "text": [
      "Replacement found: interests -> aspirations\n",
      "Replacement found: children -> parents\n",
      "Replacement found: gambling -> gaming\n",
      "Replacement found: desire -> willingness\n",
      "Replacement found: career -> professional\n",
      "Replacement found: avoid -> avoided\n",
      "Replacement found: research -> institute\n",
      "Replacement found: months -> weeks\n",
      "Replacement found: practical -> useful\n"
     ]
    },
    {
     "name": "stderr",
     "output_type": "stream",
     "text": [
      "637it [00:56, 10.89it/s]"
     ]
    },
    {
     "name": "stdout",
     "output_type": "stream",
     "text": [
      "Replacement found: illegal -> illicit\n",
      "Replacement found: immediately -> soon\n",
      "Replacement found: presence -> force\n",
      "Replacement found: took -> came\n",
      "Replacement found: events -> competitions\n",
      "Replacement found: largest -> biggest\n",
      "Replacement found: passed -> enacted\n",
      "Replacement found: studying -> teaching\n",
      "Replacement found: equivalent -> comparable\n",
      "Replacement found: research -> institute\n",
      "Replacement found: skin -> hair\n",
      "Replacement found: 1968 -> 1964\n",
      "Replacement found: paz -> bolivia\n",
      "Replacement found: insulting -> defaming\n",
      "Replacement found: doctors -> physicians\n",
      "Replacement found: conscience -> moral\n"
     ]
    },
    {
     "name": "stderr",
     "output_type": "stream",
     "text": [
      "641it [00:56, 10.82it/s]"
     ]
    },
    {
     "name": "stdout",
     "output_type": "stream",
     "text": [
      "Replacement found: preferred -> choose\n",
      "Replacement found: trailed -> outscored\n",
      "Replacement found: 16 -> 14\n",
      "Replacement found: finance -> ministry\n",
      "Replacement found: taxpayers -> taxes\n",
      "Replacement found: often -> sometimes\n",
      "Replacement found: flaws -> shortcomings\n"
     ]
    },
    {
     "name": "stderr",
     "output_type": "stream",
     "text": [
      "643it [00:56, 11.00it/s]"
     ]
    },
    {
     "name": "stdout",
     "output_type": "stream",
     "text": [
      "Replacement found: number -> have\n",
      "Replacement found: validated -> validate\n",
      "Replacement found: stating -> saying\n",
      "Replacement found: system -> mechanism\n",
      "Replacement found: 2014 -> 2012\n",
      "Replacement found: technology -> tech\n",
      "Replacement found: brookings -> institution\n",
      "Replacement found: cost -> amount\n",
      "Insufficient replacements found for ['determined', 'net', '2014', 'low', 'technology', 'brookings', 'cost']\n"
     ]
    },
    {
     "name": "stderr",
     "output_type": "stream",
     "text": [
      "645it [00:57,  7.02it/s]"
     ]
    },
    {
     "name": "stdout",
     "output_type": "stream",
     "text": [
      "Replacement found: source -> official\n",
      "Replacement found: tax -> income\n",
      "Insufficient replacements found for ['source', 'israeli', 'tax', 'new']\n",
      "Replacement found: types -> kinds\n",
      "Replacement found: raises -> lowers\n",
      "Replacement found: absolute -> utter\n"
     ]
    },
    {
     "name": "stderr",
     "output_type": "stream",
     "text": [
      "647it [00:57,  8.06it/s]"
     ]
    },
    {
     "name": "stdout",
     "output_type": "stream",
     "text": [
      "Replacement found: generated -> fueled\n",
      "Replacement found: energy -> gas\n",
      "Replacement found: attract -> lure\n",
      "Replacement found: generation -> power\n",
      "Replacement found: farmers -> growers\n",
      "Replacement found: take -> give\n",
      "Replacement found: aerial -> unmanned\n"
     ]
    },
    {
     "name": "stderr",
     "output_type": "stream",
     "text": [
      "649it [00:57,  8.01it/s]"
     ]
    },
    {
     "name": "stdout",
     "output_type": "stream",
     "text": [
      "Replacement found: yugoslavia -> yugoslav\n",
      "Replacement found: mostly -> mainly\n",
      "Replacement found: insurgents -> militants\n",
      "Replacement found: despite -> after\n",
      "Replacement found: measures -> steps\n",
      "Replacement found: take -> give\n",
      "Replacement found: reports -> officials\n"
     ]
    },
    {
     "name": "stderr",
     "output_type": "stream",
     "text": [
      "652it [00:58,  9.72it/s]"
     ]
    },
    {
     "name": "stdout",
     "output_type": "stream",
     "text": [
      "Replacement found: person -> someone\n",
      "Insufficient replacements found for ['article', 'person']\n",
      "Replacement found: expressed -> voiced\n",
      "Replacement found: environmental -> ecological\n",
      "Replacement found: school -> college\n",
      "Replacement found: remained -> remain\n",
      "Replacement found: find -> get\n",
      "Replacement found: funded -> funding\n",
      "Replacement found: national -> public\n",
      "Replacement found: marijuana -> hashish\n"
     ]
    },
    {
     "name": "stderr",
     "output_type": "stream",
     "text": [
      "654it [00:58,  7.99it/s]"
     ]
    },
    {
     "name": "stdout",
     "output_type": "stream",
     "text": [
      "Replacement found: annually -> yearly\n",
      "Replacement found: towards -> northwards\n",
      "Replacement found: soon -> eventually\n",
      "Replacement found: developed -> evolved\n",
      "Replacement found: acceptable -> unacceptable\n",
      "Replacement found: general -> lieutenant\n",
      "Replacement found: probable -> possible\n",
      "Insufficient replacements found for ['despite']\n"
     ]
    },
    {
     "name": "stderr",
     "output_type": "stream",
     "text": [
      "657it [00:58, 11.15it/s]"
     ]
    },
    {
     "name": "stdout",
     "output_type": "stream",
     "text": [
      "Replacement found: provided -> supplied\n",
      "Replacement found: 50 -> 40\n",
      "Replacement found: account -> own\n",
      "Replacement found: seven -> eight\n"
     ]
    },
    {
     "name": "stderr",
     "output_type": "stream",
     "text": [
      "659it [00:58,  8.83it/s]"
     ]
    },
    {
     "name": "stdout",
     "output_type": "stream",
     "text": [
      "Replacement found: unscom -> un\n",
      "Replacement found: species -> subspecies\n",
      "Replacement found: public -> government\n",
      "Replacement found: survival -> survive\n",
      "Replacement found: chain -> store\n",
      "Replacement found: breeding -> breed\n",
      "Replacement found: perfectly -> beautifully\n",
      "Replacement found: gender -> ethnicity\n",
      "Replacement found: nothing -> anything\n",
      "Replacement found: past -> recent\n"
     ]
    },
    {
     "name": "stderr",
     "output_type": "stream",
     "text": [
      "664it [00:59, 13.21it/s]"
     ]
    },
    {
     "name": "stdout",
     "output_type": "stream",
     "text": [
      "Replacement found: year -> month\n",
      "Replacement found: seeing -> coming\n",
      "Replacement found: postures -> asanas\n",
      "Replacement found: yoga -> qigong\n",
      "Replacement found: 1834 -> 1833\n",
      "Insufficient replacements found for ['japan']\n",
      "Replacement found: face -> stiff\n",
      "Replacement found: countries -> nations\n",
      "Replacement found: increase -> decrease\n"
     ]
    },
    {
     "name": "stderr",
     "output_type": "stream",
     "text": [
      "667it [00:59, 14.96it/s]"
     ]
    },
    {
     "name": "stdout",
     "output_type": "stream",
     "text": [
      "Replacement found: networks -> channels\n",
      "Replacement found: election -> vote\n",
      "Replacement found: hired -> hire\n",
      "Replacement found: favorite -> favourite\n",
      "Replacement found: reduced -> increased\n",
      "Insufficient replacements found for ['ref', 'reduced']\n",
      "Replacement found: 2012 -> 2013\n",
      "Replacement found: driving -> car\n",
      "Replacement found: section -> portion\n"
     ]
    },
    {
     "name": "stderr",
     "output_type": "stream",
     "text": [
      "670it [00:59, 13.86it/s]"
     ]
    },
    {
     "name": "stdout",
     "output_type": "stream",
     "text": [
      "Replacement found: disfigurement -> deformity\n",
      "Replacement found: violates -> prohibits\n",
      "Replacement found: stated -> commented\n",
      "Replacement found: person -> someone\n",
      "Replacement found: 2 -> 4\n",
      "Replacement found: programs -> programmes\n",
      "Replacement found: rising -> soaring\n",
      "Replacement found: made -> make\n",
      "Replacement found: could -> would\n"
     ]
    },
    {
     "name": "stderr",
     "output_type": "stream",
     "text": [
      "673it [00:59, 14.61it/s]"
     ]
    },
    {
     "name": "stdout",
     "output_type": "stream",
     "text": [
      "Replacement found: institutions -> universities\n",
      "Replacement found: different -> various\n",
      "Replacement found: plentiful -> abundant\n",
      "Replacement found: one -> three\n",
      "Replacement found: attached -> placed\n",
      "Replacement found: separate -> separately\n"
     ]
    },
    {
     "name": "stderr",
     "output_type": "stream",
     "text": [
      "675it [01:00, 11.86it/s]"
     ]
    },
    {
     "name": "stdout",
     "output_type": "stream",
     "text": [
      "Replacement found: manhattan -> hudson\n",
      "Replacement found: reported -> quoted\n",
      "Replacement found: apartments -> condominiums\n",
      "Replacement found: prevent -> avoid\n",
      "Replacement found: failure -> failing\n",
      "Replacement found: one -> three\n",
      "Replacement found: defeated -> beat\n"
     ]
    },
    {
     "name": "stderr",
     "output_type": "stream",
     "text": [
      "677it [01:00, 11.40it/s]"
     ]
    },
    {
     "name": "stdout",
     "output_type": "stream",
     "text": [
      "Replacement found: helped -> tried\n",
      "Replacement found: role -> character\n",
      "Replacement found: regulated -> unregulated\n",
      "Insufficient replacements found for ['country', 'field']\n"
     ]
    },
    {
     "name": "stderr",
     "output_type": "stream",
     "text": [
      "681it [01:00, 11.56it/s]"
     ]
    },
    {
     "name": "stdout",
     "output_type": "stream",
     "text": [
      "Replacement found: poetry -> literature\n",
      "Insufficient replacements found for ['ref', 'poetry']\n",
      "Replacement found: understand -> know\n",
      "Replacement found: partners -> firms\n",
      "Insufficient replacements found for ['site', 'maritime']\n",
      "Replacement found: vs -> v\n"
     ]
    },
    {
     "name": "stderr",
     "output_type": "stream",
     "text": [
      "684it [01:00, 13.21it/s]"
     ]
    },
    {
     "name": "stdout",
     "output_type": "stream",
     "text": [
      "Replacement found: fully -> properly\n",
      "Replacement found: could -> would\n",
      "Replacement found: immense -> enormous\n",
      "Replacement found: organizations -> organisations\n",
      "Replacement found: assist -> assistance\n",
      "Replacement found: forth -> back\n",
      "Replacement found: atheists -> agnostics\n"
     ]
    },
    {
     "name": "stderr",
     "output_type": "stream",
     "text": [
      "686it [01:00, 12.38it/s]"
     ]
    },
    {
     "name": "stdout",
     "output_type": "stream",
     "text": [
      "Replacement found: supreme -> court\n",
      "Replacement found: harm -> endanger\n",
      "Replacement found: treating -> diagnosing\n",
      "Replacement found: antiretrovirals -> retrovirals\n",
      "Replacement found: role -> character\n",
      "Replacement found: important -> crucial\n"
     ]
    },
    {
     "name": "stderr",
     "output_type": "stream",
     "text": [
      "688it [01:01, 13.48it/s]"
     ]
    },
    {
     "name": "stdout",
     "output_type": "stream",
     "text": [
      "Insufficient replacements found for ['inspection', 'november']\n",
      "Replacement found: made -> came\n",
      "Replacement found: passed -> enacted\n",
      "Replacement found: passage -> provision\n",
      "Replacement found: presses -> pushes\n"
     ]
    },
    {
     "name": "stderr",
     "output_type": "stream",
     "text": [
      "690it [01:01, 10.20it/s]"
     ]
    },
    {
     "name": "stdout",
     "output_type": "stream",
     "text": [
      "Replacement found: fronts -> offensives\n",
      "Replacement found: effort -> attempt\n",
      "Replacement found: workplace -> harassment\n",
      "Replacement found: united -> u.s.\n",
      "Replacement found: state -> department\n",
      "Insufficient replacements found for ['amnesty', 'state']\n",
      "Replacement found: ownership -> owning\n",
      "Replacement found: golden -> yellow\n"
     ]
    },
    {
     "name": "stderr",
     "output_type": "stream",
     "text": [
      "695it [01:01, 12.95it/s]"
     ]
    },
    {
     "name": "stdout",
     "output_type": "stream",
     "text": [
      "Replacement found: solicitations -> mailings\n",
      "Insufficient replacements found for ['like']\n",
      "Replacement found: censorship -> censor\n",
      "Replacement found: mobile -> phones\n",
      "Replacement found: approach -> strategy\n",
      "Replacement found: choice -> choosing\n",
      "Replacement found: radio -> broadcast\n",
      "Replacement found: western -> eastern\n"
     ]
    },
    {
     "name": "stderr",
     "output_type": "stream",
     "text": [
      "697it [01:01, 12.68it/s]"
     ]
    },
    {
     "name": "stdout",
     "output_type": "stream",
     "text": [
      "Insufficient replacements found for ['western', 'quantitative']\n",
      "Replacement found: 2006 -> 2007\n",
      "Insufficient replacements found for ['south', '2006', 'africans']\n",
      "Replacement found: legal -> constitutional\n",
      "Replacement found: changed -> altered\n",
      "Replacement found: law -> legislation\n",
      "Replacement found: another -> a\n"
     ]
    },
    {
     "name": "stderr",
     "output_type": "stream",
     "text": [
      "699it [01:02, 12.36it/s]"
     ]
    },
    {
     "name": "stdout",
     "output_type": "stream",
     "text": [
      "Replacement found: building -> built\n",
      "Replacement found: complex -> intricate\n",
      "Replacement found: sometimes -> often\n",
      "Insufficient replacements found for ['american']\n",
      "Replacement found: yorba -> linda\n",
      "Replacement found: potential -> possible\n",
      "Replacement found: political -> social\n",
      "Replacement found: involves -> entails\n"
     ]
    },
    {
     "name": "stderr",
     "output_type": "stream",
     "text": [
      "702it [01:02, 14.73it/s]"
     ]
    },
    {
     "name": "stdout",
     "output_type": "stream",
     "text": [
      "Replacement found: papadopoulos -> georgios\n",
      "Replacement found: financing -> funding\n",
      "Replacement found: procedures -> regulations\n",
      "Replacement found: espoused -> advocated\n",
      "Replacement found: opposed -> supported\n",
      "Replacement found: calling -> urging\n"
     ]
    },
    {
     "name": "stderr",
     "output_type": "stream",
     "text": [
      "707it [01:02, 12.32it/s]"
     ]
    },
    {
     "name": "stdout",
     "output_type": "stream",
     "text": [
      "Replacement found: running -> going\n",
      "Insufficient replacements found for ['greek', 'prithu']\n",
      "Replacement found: arts -> humanities\n",
      "Replacement found: soon -> eventually\n",
      "Replacement found: chance -> opportunity\n",
      "Replacement found: unlawful -> lawful\n"
     ]
    },
    {
     "name": "stderr",
     "output_type": "stream",
     "text": [
      "709it [01:03,  9.23it/s]"
     ]
    },
    {
     "name": "stdout",
     "output_type": "stream",
     "text": [
      "Replacement found: freedom -> liberty\n",
      "Replacement found: sometimes -> often\n",
      "Replacement found: advertisement -> advert\n",
      "Replacement found: nuns -> monks\n",
      "Insufficient replacements found for ['free', 'october', 'freedom', 'sometimes', 'catholic', 'advertisement', 'nuns']\n",
      "Replacement found: negating -> nullifying\n",
      "Replacement found: first -> second\n",
      "Replacement found: acted -> behaved\n",
      "Replacement found: lessen -> diminish\n",
      "Replacement found: magazine -> editor\n"
     ]
    },
    {
     "name": "stderr",
     "output_type": "stream",
     "text": [
      "711it [01:03,  7.60it/s]"
     ]
    },
    {
     "name": "stdout",
     "output_type": "stream",
     "text": [
      "Replacement found: staff -> employee\n",
      "Replacement found: helping -> assisting\n",
      "Replacement found: subsequent -> resulted\n",
      "Replacement found: several -> numerous\n",
      "Replacement found: biased -> prejudiced\n",
      "Replacement found: report -> reporting\n",
      "Replacement found: take -> give\n"
     ]
    },
    {
     "name": "stderr",
     "output_type": "stream",
     "text": [
      "713it [01:03,  8.71it/s]"
     ]
    },
    {
     "name": "stdout",
     "output_type": "stream",
     "text": [
      "Replacement found: expedition -> antarctic\n",
      "Replacement found: legitimacy -> credibility\n",
      "Replacement found: event -> tournament\n",
      "Replacement found: run -> runs\n",
      "Replacement found: heart -> brain\n",
      "Replacement found: disease -> infection\n",
      "Replacement found: falls -> rises\n"
     ]
    },
    {
     "name": "stderr",
     "output_type": "stream",
     "text": [
      "715it [01:03,  9.24it/s]"
     ]
    },
    {
     "name": "stdout",
     "output_type": "stream",
     "text": [
      "Replacement found: academic -> educational\n",
      "Replacement found: average -> percent\n",
      "Replacement found: attending -> meeting\n",
      "Replacement found: officials -> authorities\n",
      "Replacement found: affiliations -> allegiances\n",
      "Replacement found: entire -> whole\n",
      "Replacement found: preceding -> preceded\n"
     ]
    },
    {
     "name": "stderr",
     "output_type": "stream",
     "text": [
      "718it [01:04,  8.27it/s]"
     ]
    },
    {
     "name": "stdout",
     "output_type": "stream",
     "text": [
      "Replacement found: provides -> offers\n",
      "Replacement found: technical -> technological\n",
      "Replacement found: institutes -> institute\n",
      "Replacement found: workers -> employees\n",
      "Replacement found: del -> valle\n",
      "Replacement found: 26 -> 27\n"
     ]
    },
    {
     "name": "stderr",
     "output_type": "stream",
     "text": [
      "723it [01:04, 11.88it/s]"
     ]
    },
    {
     "name": "stdout",
     "output_type": "stream",
     "text": [
      "Replacement found: sell -> buy\n",
      "Replacement found: permission -> permit\n",
      "Replacement found: mental -> psychiatric\n",
      "Replacement found: disorder -> schizophrenia\n",
      "Replacement found: counties -> townships\n",
      "Replacement found: funds -> investments\n",
      "Insufficient replacements found for ['furthermore']\n",
      "Replacement found: positive -> encouraging\n"
     ]
    },
    {
     "name": "stderr",
     "output_type": "stream",
     "text": [
      "725it [01:04, 11.03it/s]"
     ]
    },
    {
     "name": "stdout",
     "output_type": "stream",
     "text": [
      "Replacement found: position -> stance\n",
      "Replacement found: fruit -> citrus\n",
      "Replacement found: negative -> adverse\n",
      "Replacement found: bible -> scripture\n",
      "Replacement found: juices -> vegetables\n",
      "Replacement found: held -> hold\n",
      "Replacement found: code -> penal\n",
      "Replacement found: written -> penned\n"
     ]
    },
    {
     "name": "stderr",
     "output_type": "stream",
     "text": [
      "728it [01:04, 12.57it/s]"
     ]
    },
    {
     "name": "stdout",
     "output_type": "stream",
     "text": [
      "Replacement found: local -> many\n",
      "Replacement found: spending -> budget\n",
      "Replacement found: known -> referred\n",
      "Replacement found: also -> well\n",
      "Replacement found: sand -> gravel\n",
      "Replacement found: presidential -> gubernatorial\n"
     ]
    },
    {
     "name": "stderr",
     "output_type": "stream",
     "text": [
      "730it [01:05, 10.86it/s]"
     ]
    },
    {
     "name": "stdout",
     "output_type": "stream",
     "text": [
      "Replacement found: elections -> polls\n",
      "Insufficient replacements found for ['presidential', 'united', 'elections', 'states']\n",
      "Replacement found: 5 -> 6\n",
      "Replacement found: las -> vegas\n",
      "Replacement found: vegas -> las\n",
      "Replacement found: plot -> conspiracy\n",
      "Replacement found: sources -> reports\n",
      "Replacement found: health -> care\n",
      "Replacement found: conclusion -> conclude\n",
      "Replacement found: enforcement -> fbi\n",
      "Replacement found: maintenance -> repair\n"
     ]
    },
    {
     "name": "stderr",
     "output_type": "stream",
     "text": [
      "732it [01:05,  8.08it/s]"
     ]
    },
    {
     "name": "stdout",
     "output_type": "stream",
     "text": [
      "Replacement found: budgets -> cutbacks\n",
      "Replacement found: secondary -> tertiary\n",
      "Replacement found: government -> administration\n",
      "Replacement found: plant -> factory\n",
      "Insufficient replacements found for ['plant', 'american', 'erythroxylon']\n",
      "Replacement found: effects -> impacts\n",
      "Replacement found: criticizing -> criticising\n"
     ]
    },
    {
     "name": "stderr",
     "output_type": "stream",
     "text": [
      "737it [01:05, 11.56it/s]"
     ]
    },
    {
     "name": "stdout",
     "output_type": "stream",
     "text": [
      "Replacement found: seven -> eight\n",
      "Replacement found: initially -> originally\n",
      "Replacement found: welfare -> reform\n",
      "Replacement found: dependence -> dependency\n",
      "Replacement found: people -> others\n",
      "Replacement found: groups -> organizations\n",
      "Replacement found: teams -> players\n",
      "Replacement found: economic -> financial\n",
      "Insufficient replacements found for ['economic', 'india']\n"
     ]
    },
    {
     "name": "stderr",
     "output_type": "stream",
     "text": [
      "742it [01:06, 14.65it/s]"
     ]
    },
    {
     "name": "stdout",
     "output_type": "stream",
     "text": [
      "Replacement found: though -> although\n",
      "Replacement found: farmer -> farm\n",
      "Replacement found: blow -> blows\n",
      "Replacement found: 2010 -> 2011\n",
      "Replacement found: tore -> ripped\n",
      "Replacement found: interrupted -> disrupted\n",
      "Replacement found: still -> now\n",
      "Replacement found: grounds -> reasons\n",
      "Replacement found: applicable -> relevant\n"
     ]
    },
    {
     "name": "stderr",
     "output_type": "stream",
     "text": [
      "744it [01:06, 14.62it/s]"
     ]
    },
    {
     "name": "stdout",
     "output_type": "stream",
     "text": [
      "Replacement found: public -> private\n",
      "Replacement found: body -> head\n",
      "Replacement found: modifications -> alterations\n",
      "Replacement found: concepts -> ideas\n",
      "Replacement found: democratic -> republican\n",
      "Replacement found: expression -> emotion\n",
      "Replacement found: microchip -> semiconductor\n"
     ]
    },
    {
     "name": "stderr",
     "output_type": "stream",
     "text": [
      "749it [01:06, 14.71it/s]"
     ]
    },
    {
     "name": "stdout",
     "output_type": "stream",
     "text": [
      "Insufficient replacements found for ['microchip', 'world', 'max']\n",
      "Replacement found: others -> people\n",
      "Replacement found: curricular -> co-curricular\n",
      "Replacement found: point -> one\n",
      "Replacement found: sophisticated -> smart\n",
      "Replacement found: intelligent -> articulate\n",
      "Replacement found: take -> make\n",
      "Replacement found: brothels -> prostitutes\n"
     ]
    },
    {
     "name": "stderr",
     "output_type": "stream",
     "text": [
      "751it [01:06, 14.38it/s]"
     ]
    },
    {
     "name": "stdout",
     "output_type": "stream",
     "text": [
      "Replacement found: opium -> heroin\n",
      "Replacement found: scenes -> images\n",
      "Replacement found: harmful -> detrimental\n",
      "Replacement found: natural -> mineral\n",
      "Replacement found: means -> is\n",
      "Replacement found: control -> prevent\n"
     ]
    },
    {
     "name": "stderr",
     "output_type": "stream",
     "text": [
      "753it [01:06, 13.88it/s]"
     ]
    },
    {
     "name": "stdout",
     "output_type": "stream",
     "text": [
      "Replacement found: system -> mechanism\n",
      "Replacement found: political -> social\n",
      "Replacement found: boss -> manager\n",
      "Replacement found: dan -> bob\n"
     ]
    },
    {
     "name": "stderr",
     "output_type": "stream",
     "text": [
      "755it [01:07,  7.33it/s]"
     ]
    },
    {
     "name": "stdout",
     "output_type": "stream",
     "text": [
      "Replacement found: frank -> bob\n",
      "Insufficient replacements found for ['adubato', 'political', 'city', 'joe', 'boss', 'dan', 'senator', 'assemblyman', 'frank']\n",
      "Replacement found: lower -> higher\n",
      "Replacement found: concern -> worry\n",
      "Replacement found: leaving -> returning\n",
      "Replacement found: although -> though\n"
     ]
    },
    {
     "name": "stderr",
     "output_type": "stream",
     "text": [
      "757it [01:07,  7.04it/s]"
     ]
    },
    {
     "name": "stdout",
     "output_type": "stream",
     "text": [
      "Insufficient replacements found for ['leaving', 'elain', 'although', 'franklin']\n",
      "Replacement found: clean -> enough\n",
      "Replacement found: creating -> establishing\n",
      "Replacement found: 2009 -> 2007\n",
      "Replacement found: funding -> financing\n",
      "Replacement found: significant -> substantial\n"
     ]
    },
    {
     "name": "stderr",
     "output_type": "stream",
     "text": [
      "759it [01:08,  7.71it/s]"
     ]
    },
    {
     "name": "stdout",
     "output_type": "stream",
     "text": [
      "Replacement found: designed -> intended\n",
      "Replacement found: conditions -> circumstances\n",
      "Insufficient replacements found for ['interior', 'conditions', 'ref']\n",
      "Replacement found: research -> institute\n",
      "Replacement found: 67 -> 68\n",
      "Replacement found: political -> social\n",
      "Replacement found: movement -> militant\n"
     ]
    },
    {
     "name": "stderr",
     "output_type": "stream",
     "text": [
      "762it [01:08, 10.59it/s]"
     ]
    },
    {
     "name": "stdout",
     "output_type": "stream",
     "text": [
      "Replacement found: permits -> licenses\n",
      "Replacement found: managers -> executives\n",
      "Replacement found: work -> worked\n"
     ]
    },
    {
     "name": "stderr",
     "output_type": "stream",
     "text": [
      "766it [01:08, 10.53it/s]"
     ]
    },
    {
     "name": "stdout",
     "output_type": "stream",
     "text": [
      "Replacement found: disease -> infection\n",
      "Replacement found: suffering -> suffer\n",
      "Insufficient replacements found for ['managers', 'health', 'work', 'health', 'health', 'disease', 'suffering']\n",
      "Replacement found: argued -> contended\n",
      "Replacement found: indecent -> obscene\n",
      "Replacement found: cases -> instances\n",
      "Replacement found: modern -> contemporary\n",
      "Replacement found: alternative -> viable\n",
      "Replacement found: agricultural -> industrial\n"
     ]
    },
    {
     "name": "stderr",
     "output_type": "stream",
     "text": [
      "768it [01:08, 11.49it/s]"
     ]
    },
    {
     "name": "stdout",
     "output_type": "stream",
     "text": [
      "Replacement found: little -> few\n",
      "Replacement found: standards -> requirements\n",
      "Replacement found: became -> remained\n",
      "Replacement found: offering -> providing\n",
      "Insufficient replacements found for ['constitutional', 'center']\n",
      "Replacement found: social -> political\n",
      "Replacement found: population -> census\n"
     ]
    },
    {
     "name": "stderr",
     "output_type": "stream",
     "text": [
      "770it [01:08, 12.02it/s]"
     ]
    },
    {
     "name": "stdout",
     "output_type": "stream",
     "text": [
      "Replacement found: pollution -> smog\n",
      "Replacement found: deaths -> fatalities\n",
      "Replacement found: hence -> —\n",
      "Replacement found: researchers -> scientists\n",
      "Replacement found: racism -> homophobia\n",
      "Replacement found: cause -> caused\n",
      "Replacement found: assumptions -> notions\n"
     ]
    },
    {
     "name": "stderr",
     "output_type": "stream",
     "text": [
      "772it [01:09, 11.42it/s]"
     ]
    },
    {
     "name": "stdout",
     "output_type": "stream",
     "text": [
      "Replacement found: found -> discovered\n",
      "Insufficient replacements found for ['studies', 'found']\n",
      "Replacement found: conservative -> liberal\n",
      "Insufficient replacements found for ['mary', 'pride', 'calvin', 'conservative']\n"
     ]
    },
    {
     "name": "stderr",
     "output_type": "stream",
     "text": [
      "776it [01:09, 11.52it/s]"
     ]
    },
    {
     "name": "stdout",
     "output_type": "stream",
     "text": [
      "Replacement found: notes -> copious\n",
      "Replacement found: reverse -> reversed\n",
      "Replacement found: strong -> weak\n",
      "Replacement found: loss -> losing\n",
      "Replacement found: growth -> economy\n",
      "Replacement found: south -> north\n",
      "Replacement found: 50 -> 40\n",
      "Replacement found: fields -> areas\n"
     ]
    },
    {
     "name": "stderr",
     "output_type": "stream",
     "text": [
      "778it [01:09, 10.05it/s]"
     ]
    },
    {
     "name": "stdout",
     "output_type": "stream",
     "text": [
      "Replacement found: second -> third\n",
      "Replacement found: power -> electricity\n",
      "Replacement found: match -> matches\n",
      "Replacement found: interference -> flagrant\n",
      "Replacement found: prohibition -> ban\n",
      "Replacement found: spouses -> husbands\n",
      "Replacement found: new -> first\n",
      "Replacement found: cameras -> microphones\n"
     ]
    },
    {
     "name": "stderr",
     "output_type": "stream",
     "text": [
      "780it [01:09, 11.79it/s]"
     ]
    },
    {
     "name": "stdout",
     "output_type": "stream",
     "text": [
      "Replacement found: years -> months\n",
      "Insufficient replacements found for ['las', 'years']\n",
      "Replacement found: immigration -> naturalization\n",
      "Replacement found: spoken -> speak\n",
      "Replacement found: restrictions -> regulations\n",
      "Replacement found: controversially -> sensationally\n",
      "Replacement found: initiative -> plan\n",
      "Replacement found: also -> well\n"
     ]
    },
    {
     "name": "stderr",
     "output_type": "stream",
     "text": [
      "785it [01:10, 14.24it/s]"
     ]
    },
    {
     "name": "stdout",
     "output_type": "stream",
     "text": [
      "Replacement found: commented -> remarked\n",
      "Replacement found: wetland -> ecosystem\n",
      "Replacement found: economics -> physics\n",
      "Replacement found: greater -> larger\n",
      "Replacement found: curricula -> curriculum\n",
      "Replacement found: editorial -> newspaper\n"
     ]
    },
    {
     "name": "stderr",
     "output_type": "stream",
     "text": [
      "787it [01:10, 12.37it/s]"
     ]
    },
    {
     "name": "stdout",
     "output_type": "stream",
     "text": [
      "Replacement found: concluding -> conclude\n",
      "Replacement found: programs -> projects\n",
      "Replacement found: fetal -> foetal\n",
      "Replacement found: primary -> secondary\n",
      "Replacement found: countries -> nations\n",
      "Replacement found: argued -> contended\n"
     ]
    },
    {
     "name": "stderr",
     "output_type": "stream",
     "text": [
      "789it [01:10, 12.93it/s]"
     ]
    },
    {
     "name": "stdout",
     "output_type": "stream",
     "text": [
      "Replacement found: evidence -> testimony\n",
      "Insufficient replacements found for ['argued', 'paris', 'evidence', 'suhard']\n",
      "Replacement found: dioxide -> co2\n",
      "Replacement found: provides -> provide\n",
      "Replacement found: information -> knowledge\n",
      "Replacement found: invalid -> valid\n",
      "Replacement found: holding -> taking\n",
      "Replacement found: incentives -> rebates\n",
      "Replacement found: rates -> increases\n"
     ]
    },
    {
     "name": "stderr",
     "output_type": "stream",
     "text": [
      "792it [01:10, 12.03it/s]"
     ]
    },
    {
     "name": "stdout",
     "output_type": "stream",
     "text": [
      "Replacement found: electricity -> megawatts\n",
      "Replacement found: ready -> prepared\n",
      "Replacement found: vehicle -> car\n",
      "Replacement found: employers -> workers\n",
      "Insufficient replacements found for ['schmidt', 'employers']\n",
      "Replacement found: produced -> manufactured\n"
     ]
    },
    {
     "name": "stderr",
     "output_type": "stream",
     "text": [
      "794it [01:10, 12.98it/s]"
     ]
    },
    {
     "name": "stdout",
     "output_type": "stream",
     "text": [
      "Insufficient replacements found for ['produced', 'ref']\n",
      "Replacement found: located -> built\n",
      "Replacement found: high -> low\n",
      "Replacement found: country -> nation\n",
      "Replacement found: users -> customers\n",
      "Replacement found: provide -> help\n"
     ]
    },
    {
     "name": "stderr",
     "output_type": "stream",
     "text": [
      "797it [01:11, 11.18it/s]"
     ]
    },
    {
     "name": "stdout",
     "output_type": "stream",
     "text": [
      "Replacement found: nobel -> prize-winning\n",
      "Replacement found: support -> provide\n",
      "Replacement found: 14 -> 13\n",
      "Replacement found: montagnier -> luc\n",
      "Replacement found: responded -> reacted\n",
      "Replacement found: said -> told\n"
     ]
    },
    {
     "name": "stderr",
     "output_type": "stream",
     "text": [
      "\n"
     ]
    },
    {
     "ename": "KeyboardInterrupt",
     "evalue": "",
     "output_type": "error",
     "traceback": [
      "\u001b[31m---------------------------------------------------------------------------\u001b[39m",
      "\u001b[31mKeyboardInterrupt\u001b[39m                         Traceback (most recent call last)",
      "\u001b[36mCell\u001b[39m\u001b[36m \u001b[39m\u001b[32mIn[81]\u001b[39m\u001b[32m, line 151\u001b[39m\n\u001b[32m    148\u001b[39m         synyonm_replaced_df.to_csv(\u001b[33m'\u001b[39m\u001b[33mdata/train_augmented_synonyms.csv\u001b[39m\u001b[33m'\u001b[39m, index=\u001b[38;5;28;01mFalse\u001b[39;00m, mode=mode, header=header)\n\u001b[32m    150\u001b[39m \u001b[38;5;66;03m# Run the augmentation\u001b[39;00m\n\u001b[32m--> \u001b[39m\u001b[32m151\u001b[39m \u001b[43maugment_data\u001b[49m\u001b[43m(\u001b[49m\u001b[43mtrain_df\u001b[49m\u001b[43m,\u001b[49m\u001b[43m \u001b[49m\u001b[43mpreprocessed_evidences\u001b[49m\u001b[43m,\u001b[49m\u001b[43m \u001b[49m\u001b[43mcorresponding_claim\u001b[49m\u001b[43m,\u001b[49m\u001b[43m \u001b[49m\u001b[43moriginal_evidences\u001b[49m\u001b[43m,\u001b[49m\u001b[43m \u001b[49m\u001b[43moriginal_evidences_pos\u001b[49m\u001b[43m)\u001b[49m\n",
      "\u001b[36mCell\u001b[39m\u001b[36m \u001b[39m\u001b[32mIn[81]\u001b[39m\u001b[32m, line 108\u001b[39m, in \u001b[36maugment_data\u001b[39m\u001b[34m(train_df, preprocessed_evidences, corresponding_claim, original_evidences, original_pos_tags, batch_size)\u001b[39m\n\u001b[32m    105\u001b[39m final_word_replacement_map = {}\n\u001b[32m    107\u001b[39m \u001b[38;5;28;01mfor\u001b[39;00m word \u001b[38;5;129;01min\u001b[39;00m words_to_replace:\n\u001b[32m--> \u001b[39m\u001b[32m108\u001b[39m     synonyms = \u001b[43mget_synonyms\u001b[49m\u001b[43m(\u001b[49m\u001b[43mword\u001b[49m\u001b[43m,\u001b[49m\u001b[43m \u001b[49m\u001b[43mnoise_level\u001b[49m\u001b[43m=\u001b[49m\u001b[32;43m0.0001\u001b[39;49m\u001b[43m,\u001b[49m\u001b[43m \u001b[49m\u001b[43mtopn\u001b[49m\u001b[43m=\u001b[49m\u001b[32;43m20\u001b[39;49m\u001b[43m)\u001b[49m\n\u001b[32m    109\u001b[39m     found, synonym = find_valid_replacements(\n\u001b[32m    110\u001b[39m         word, synonyms, original_evidences[idx], pos_tags_dict\n\u001b[32m    111\u001b[39m     )\n\u001b[32m    112\u001b[39m     \u001b[38;5;28;01mif\u001b[39;00m found:\n",
      "\u001b[36mCell\u001b[39m\u001b[36m \u001b[39m\u001b[32mIn[66]\u001b[39m\u001b[32m, line 15\u001b[39m, in \u001b[36mget_synonyms\u001b[39m\u001b[34m(word, noise_level, topn)\u001b[39m\n\u001b[32m     11\u001b[39m noisy_vec = original_vec + noise\n\u001b[32m     13\u001b[39m \u001b[38;5;66;03m# Retrieve the topn + 1 words (as one of them will be the word itself) closest to the noisy vector\u001b[39;00m\n\u001b[32m     14\u001b[39m \u001b[38;5;66;03m# This will return a list of tuples (word, similarity)\u001b[39;00m\n\u001b[32m---> \u001b[39m\u001b[32m15\u001b[39m similar_words = \u001b[43mglove_embeddings\u001b[49m\u001b[43m.\u001b[49m\u001b[43mmost_similar\u001b[49m\u001b[43m(\u001b[49m\u001b[43mpositive\u001b[49m\u001b[43m=\u001b[49m\u001b[43m[\u001b[49m\u001b[43mnoisy_vec\u001b[49m\u001b[43m]\u001b[49m\u001b[43m,\u001b[49m\u001b[43m \u001b[49m\u001b[43mtopn\u001b[49m\u001b[43m=\u001b[49m\u001b[43mtopn\u001b[49m\u001b[43m \u001b[49m\u001b[43m+\u001b[49m\u001b[43m \u001b[49m\u001b[32;43m1\u001b[39;49m\u001b[43m)\u001b[49m\n\u001b[32m     17\u001b[39m \u001b[38;5;66;03m# Return just the words from the list of tuples\u001b[39;00m\n\u001b[32m     18\u001b[39m \u001b[38;5;28;01mreturn\u001b[39;00m [syn \u001b[38;5;28;01mfor\u001b[39;00m syn, similarity \u001b[38;5;129;01min\u001b[39;00m similar_words \u001b[38;5;28;01mif\u001b[39;00m syn != word]\n",
      "\u001b[36mFile \u001b[39m\u001b[32mc:\\Users\\willi\\Desktop\\Uni\\3rd_year\\NLU\\comp38412-not-broken\\.venv\\Lib\\site-packages\\gensim\\models\\keyedvectors.py:852\u001b[39m, in \u001b[36mKeyedVectors.most_similar\u001b[39m\u001b[34m(self, positive, negative, topn, clip_start, clip_end, restrict_vocab, indexer)\u001b[39m\n\u001b[32m    850\u001b[39m \u001b[38;5;28;01mif\u001b[39;00m \u001b[38;5;129;01mnot\u001b[39;00m topn:\n\u001b[32m    851\u001b[39m     \u001b[38;5;28;01mreturn\u001b[39;00m dists\n\u001b[32m--> \u001b[39m\u001b[32m852\u001b[39m best = \u001b[43mmatutils\u001b[49m\u001b[43m.\u001b[49m\u001b[43margsort\u001b[49m\u001b[43m(\u001b[49m\u001b[43mdists\u001b[49m\u001b[43m,\u001b[49m\u001b[43m \u001b[49m\u001b[43mtopn\u001b[49m\u001b[43m=\u001b[49m\u001b[43mtopn\u001b[49m\u001b[43m \u001b[49m\u001b[43m+\u001b[49m\u001b[43m \u001b[49m\u001b[38;5;28;43mlen\u001b[39;49m\u001b[43m(\u001b[49m\u001b[43mall_keys\u001b[49m\u001b[43m)\u001b[49m\u001b[43m,\u001b[49m\u001b[43m \u001b[49m\u001b[43mreverse\u001b[49m\u001b[43m=\u001b[49m\u001b[38;5;28;43;01mTrue\u001b[39;49;00m\u001b[43m)\u001b[49m\n\u001b[32m    853\u001b[39m \u001b[38;5;66;03m# ignore (don't return) keys from the input\u001b[39;00m\n\u001b[32m    854\u001b[39m result = [\n\u001b[32m    855\u001b[39m     (\u001b[38;5;28mself\u001b[39m.index_to_key[sim + clip_start], \u001b[38;5;28mfloat\u001b[39m(dists[sim]))\n\u001b[32m    856\u001b[39m     \u001b[38;5;28;01mfor\u001b[39;00m sim \u001b[38;5;129;01min\u001b[39;00m best \u001b[38;5;28;01mif\u001b[39;00m (sim + clip_start) \u001b[38;5;129;01mnot\u001b[39;00m \u001b[38;5;129;01min\u001b[39;00m all_keys\n\u001b[32m    857\u001b[39m ]\n",
      "\u001b[36mFile \u001b[39m\u001b[32mc:\\Users\\willi\\Desktop\\Uni\\3rd_year\\NLU\\comp38412-not-broken\\.venv\\Lib\\site-packages\\gensim\\matutils.py:81\u001b[39m, in \u001b[36margsort\u001b[39m\u001b[34m(x, topn, reverse)\u001b[39m\n\u001b[32m     79\u001b[39m     \u001b[38;5;28;01mreturn\u001b[39;00m np.argsort(x)[:topn]\n\u001b[32m     80\u001b[39m \u001b[38;5;66;03m# np >= 1.8 has a fast partial argsort, use that!\u001b[39;00m\n\u001b[32m---> \u001b[39m\u001b[32m81\u001b[39m most_extreme = \u001b[43mnp\u001b[49m\u001b[43m.\u001b[49m\u001b[43margpartition\u001b[49m\u001b[43m(\u001b[49m\u001b[43mx\u001b[49m\u001b[43m,\u001b[49m\u001b[43m \u001b[49m\u001b[43mtopn\u001b[49m\u001b[43m)\u001b[49m[:topn]\n\u001b[32m     82\u001b[39m \u001b[38;5;28;01mreturn\u001b[39;00m most_extreme.take(np.argsort(x.take(most_extreme)))\n",
      "\u001b[36mFile \u001b[39m\u001b[32mc:\\Users\\willi\\Desktop\\Uni\\3rd_year\\NLU\\comp38412-not-broken\\.venv\\Lib\\site-packages\\numpy\\core\\fromnumeric.py:858\u001b[39m, in \u001b[36margpartition\u001b[39m\u001b[34m(a, kth, axis, kind, order)\u001b[39m\n\u001b[32m    779\u001b[39m \u001b[38;5;129m@array_function_dispatch\u001b[39m(_argpartition_dispatcher)\n\u001b[32m    780\u001b[39m \u001b[38;5;28;01mdef\u001b[39;00m\u001b[38;5;250m \u001b[39m\u001b[34margpartition\u001b[39m(a, kth, axis=-\u001b[32m1\u001b[39m, kind=\u001b[33m'\u001b[39m\u001b[33mintroselect\u001b[39m\u001b[33m'\u001b[39m, order=\u001b[38;5;28;01mNone\u001b[39;00m):\n\u001b[32m    781\u001b[39m \u001b[38;5;250m    \u001b[39m\u001b[33;03m\"\"\"\u001b[39;00m\n\u001b[32m    782\u001b[39m \u001b[33;03m    Perform an indirect partition along the given axis using the\u001b[39;00m\n\u001b[32m    783\u001b[39m \u001b[33;03m    algorithm specified by the `kind` keyword. It returns an array of\u001b[39;00m\n\u001b[32m   (...)\u001b[39m\u001b[32m    856\u001b[39m \n\u001b[32m    857\u001b[39m \u001b[33;03m    \"\"\"\u001b[39;00m\n\u001b[32m--> \u001b[39m\u001b[32m858\u001b[39m     \u001b[38;5;28;01mreturn\u001b[39;00m \u001b[43m_wrapfunc\u001b[49m\u001b[43m(\u001b[49m\u001b[43ma\u001b[49m\u001b[43m,\u001b[49m\u001b[43m \u001b[49m\u001b[33;43m'\u001b[39;49m\u001b[33;43margpartition\u001b[39;49m\u001b[33;43m'\u001b[39;49m\u001b[43m,\u001b[49m\u001b[43m \u001b[49m\u001b[43mkth\u001b[49m\u001b[43m,\u001b[49m\u001b[43m \u001b[49m\u001b[43maxis\u001b[49m\u001b[43m=\u001b[49m\u001b[43maxis\u001b[49m\u001b[43m,\u001b[49m\u001b[43m \u001b[49m\u001b[43mkind\u001b[49m\u001b[43m=\u001b[49m\u001b[43mkind\u001b[49m\u001b[43m,\u001b[49m\u001b[43m \u001b[49m\u001b[43morder\u001b[49m\u001b[43m=\u001b[49m\u001b[43morder\u001b[49m\u001b[43m)\u001b[49m\n",
      "\u001b[36mFile \u001b[39m\u001b[32mc:\\Users\\willi\\Desktop\\Uni\\3rd_year\\NLU\\comp38412-not-broken\\.venv\\Lib\\site-packages\\numpy\\core\\fromnumeric.py:59\u001b[39m, in \u001b[36m_wrapfunc\u001b[39m\u001b[34m(obj, method, *args, **kwds)\u001b[39m\n\u001b[32m     56\u001b[39m     \u001b[38;5;28;01mreturn\u001b[39;00m _wrapit(obj, method, *args, **kwds)\n\u001b[32m     58\u001b[39m \u001b[38;5;28;01mtry\u001b[39;00m:\n\u001b[32m---> \u001b[39m\u001b[32m59\u001b[39m     \u001b[38;5;28;01mreturn\u001b[39;00m \u001b[43mbound\u001b[49m\u001b[43m(\u001b[49m\u001b[43m*\u001b[49m\u001b[43margs\u001b[49m\u001b[43m,\u001b[49m\u001b[43m \u001b[49m\u001b[43m*\u001b[49m\u001b[43m*\u001b[49m\u001b[43mkwds\u001b[49m\u001b[43m)\u001b[49m\n\u001b[32m     60\u001b[39m \u001b[38;5;28;01mexcept\u001b[39;00m \u001b[38;5;167;01mTypeError\u001b[39;00m:\n\u001b[32m     61\u001b[39m     \u001b[38;5;66;03m# A TypeError occurs if the object does have such a method in its\u001b[39;00m\n\u001b[32m     62\u001b[39m     \u001b[38;5;66;03m# class, but its signature is not identical to that of NumPy's. This\u001b[39;00m\n\u001b[32m   (...)\u001b[39m\u001b[32m     66\u001b[39m     \u001b[38;5;66;03m# Call _wrapit from within the except clause to ensure a potential\u001b[39;00m\n\u001b[32m     67\u001b[39m     \u001b[38;5;66;03m# exception has a traceback chain.\u001b[39;00m\n\u001b[32m     68\u001b[39m     \u001b[38;5;28;01mreturn\u001b[39;00m _wrapit(obj, method, *args, **kwds)\n",
      "\u001b[31mKeyboardInterrupt\u001b[39m: "
     ]
    }
   ],
   "source": [
    "def process_evidence_words(claim_words: set, \n",
    "                           evidence_words: list, \n",
    "                           original_pos_tags: dict) -> list:\n",
    "    \"\"\"\n",
    "    Filter evidence words to find potential replacement candidates.\n",
    "    \n",
    "    Args:\n",
    "        claim_words (set): Set of words in the claim.\n",
    "        evidence_words (list): List of words in the evidence.\n",
    "        original_pos_tags (dict): Dictionary of POS tags for the original evidence.\n",
    "        \n",
    "    Returns:\n",
    "        list: List of potential replacement candidates.\n",
    "    \"\"\"\n",
    "    common_words = set(evidence_words) & claim_words\n",
    "    potential_replacements = []\n",
    "    \n",
    "    for word in evidence_words:\n",
    "        # Skip if word is:\n",
    "        # 1. Common between claim and evidence\n",
    "        # 2. Substring of any claim word or vice versa\n",
    "        # 3. Not in POS tags dictionary\n",
    "        if (word in common_words or\n",
    "            any(word in claim_word or claim_word in word for claim_word in claim_words) or\n",
    "            word not in original_pos_tags):\n",
    "            continue\n",
    "        potential_replacements.append(word)\n",
    "    \n",
    "    return potential_replacements\n",
    "\n",
    "def find_valid_replacements(word_to_replace: str, \n",
    "                            synonyms: list, \n",
    "                            original_evidence: str, \n",
    "                            original_pos_tags: dict) -> tuple[bool, str]:\n",
    "    \"\"\"\n",
    "    Find a valid synonym replacement that maintains POS tag.\n",
    "    \n",
    "    Args:\n",
    "        word_to_replace (str): The word to replace.\n",
    "        synonyms (list): List of synonyms to choose from.\n",
    "        original_evidence (str): The original evidence.\n",
    "        original_pos_tags_dict (dict): Dictionary of POS tags for the original evidence.\n",
    "        \n",
    "    Returns:\n",
    "        tuple[bool, str]: A tuple containing a boolean indicating if a valid replacement was found and the replacement word.\n",
    "    \"\"\"\n",
    "    for synonym in synonyms:\n",
    "        # Replace word in evidence\n",
    "        pattern = r'\\b' + re.escape(word_to_replace) + r'\\b'\n",
    "        new_evidence = re.sub(pattern, synonym, original_evidence)\n",
    "        \n",
    "        # Get POS tags for new evidence\n",
    "        new_evidence_pos = nltk.pos_tag(nltk.word_tokenize(new_evidence))\n",
    "        new_evidence_pos_dict = {word.lower(): [] for word, _ in new_evidence_pos}\n",
    "        for word, tag in new_evidence_pos:\n",
    "            new_evidence_pos_dict[word.lower()].append(tag)\n",
    "        \n",
    "        # Check if POS tags match\n",
    "        if (word_to_replace in original_pos_tags and \n",
    "            synonym.lower() in new_evidence_pos_dict and \n",
    "            original_pos_tags[word_to_replace] == new_evidence_pos_dict[synonym.lower()]):\n",
    "            return True, synonym\n",
    "            \n",
    "    return False, \"\"\n",
    "\n",
    "def augment_data(train_df: pd.DataFrame, \n",
    "                 preprocessed_evidences: list, \n",
    "                 corresponding_claim: list, \n",
    "                 original_evidences: list, \n",
    "                 original_pos_tags: list, \n",
    "                 batch_size: int = 1000):\n",
    "    \"\"\"\n",
    "    Main function to create augmented dataset with synonym replacements.\n",
    "    \n",
    "    Args:\n",
    "        train_df (pd.DataFrame): The training dataframe.\n",
    "        preprocessed_evidences (list): List of preprocessed evidences.\n",
    "        corresponding_claim (list): List of claims corresponding to the preprocessed evidences.\n",
    "        original_evidences (list): List of original evidences.\n",
    "        original_pos_tags (list): List of original POS tags.\n",
    "        batch_size (int): The batch size for saving to CSV.\n",
    "    \"\"\"\n",
    "    synyonm_replaced_df = pd.DataFrame(columns=[\"Claim\", \"Evidence\", \"label\"])\n",
    "    batch_counter = 0\n",
    "    \n",
    "    for idx, (claim, evidence) in tqdm(enumerate(zip(corresponding_claim, preprocessed_evidences))):\n",
    "        # Prepare POS tags dictionary\n",
    "        pos_tags = original_pos_tags[idx]\n",
    "        pos_tags_dict = {word.lower(): [] for word, _ in pos_tags}\n",
    "        for word, tag in pos_tags:\n",
    "            pos_tags_dict[word.lower()].append(tag)\n",
    "        \n",
    "        # Get potential words to replace\n",
    "        claim_words = set(claim.split())\n",
    "        evidence_words = evidence.split()\n",
    "        potential_replacements = process_evidence_words(claim_words, evidence_words, pos_tags_dict)\n",
    "        \n",
    "        # Skip if not enough words to replace\n",
    "        number_of_replacements = len(potential_replacements) // 5\n",
    "        if number_of_replacements < 1:\n",
    "            continue\n",
    "        \n",
    "        # Find replacements\n",
    "        words_to_replace = random.sample(potential_replacements, k=number_of_replacements)\n",
    "        final_word_replacement_map = {}\n",
    "        \n",
    "        for word in words_to_replace:\n",
    "            synonyms = get_synonyms(word, noise_level=0.0001, topn=20)\n",
    "            found, synonym = find_valid_replacements(\n",
    "                word, synonyms, original_evidences[idx], pos_tags_dict\n",
    "            )\n",
    "            if found:\n",
    "                # print(f\"Replacement found: {word} -> {synonym}\")\n",
    "                final_word_replacement_map[word] = synonym\n",
    "        \n",
    "        # Skip if not enough valid replacements found\n",
    "        if len(final_word_replacement_map) < len(words_to_replace) * 0.6:\n",
    "            # print(f\"Insufficient replacements found for {words_to_replace}\")\n",
    "            continue\n",
    "        \n",
    "        # Create new evidence with replacements\n",
    "        new_evidence = original_evidences[idx]\n",
    "        for word, replacement in final_word_replacement_map.items():\n",
    "            pattern = r'\\b' + re.escape(word) + r'\\b'\n",
    "            new_evidence = re.sub(pattern, replacement, new_evidence)\n",
    "        \n",
    "        # Add to dataframe\n",
    "        new_row = pd.DataFrame({\n",
    "            \"Claim\": [train_df['Claim'][idx]],\n",
    "            \"Evidence\": [new_evidence],\n",
    "            \"label\": [train_df['label'][idx]]\n",
    "        })\n",
    "        synyonm_replaced_df = pd.concat([synyonm_replaced_df, new_row], ignore_index=True)\n",
    "        \n",
    "        # Save batch if size threshold reached\n",
    "        if len(synyonm_replaced_df) >= batch_size:\n",
    "            mode = 'w' if batch_counter == 0 else 'a'\n",
    "            header = batch_counter == 0\n",
    "            synyonm_replaced_df.to_csv('data/train_augmented_synonyms.csv', index=False, mode=mode, header=header)\n",
    "            synyonm_replaced_df = pd.DataFrame(columns=[\"Claim\", \"Evidence\", \"label\"])\n",
    "            batch_counter += 1\n",
    "    \n",
    "    # Save any remaining data\n",
    "    if len(synyonm_replaced_df) > 0:\n",
    "        mode = 'w' if batch_counter == 0 else 'a'\n",
    "        header = batch_counter == 0\n",
    "        \n",
    "        synyonm_replaced_df.to_csv('data/train_augmented_synonyms.csv', index=False, mode=mode, header=header)\n",
    "\n",
    "# Run the augmentation\n",
    "augment_data(train_df, preprocessed_evidences, corresponding_claim, original_evidences, original_evidences_pos)"
   ]
  },
  {
   "cell_type": "code",
   "execution_count": 75,
   "metadata": {},
   "outputs": [
    {
     "name": "stderr",
     "output_type": "stream",
     "text": [
      "1it [00:00,  8.97it/s]"
     ]
    },
    {
     "name": "stdout",
     "output_type": "stream",
     "text": [
      "Replacement found: community -> neighborhood\n",
      "Replacement found: alternative -> viable\n",
      "Replacement found: many -> few\n",
      "Replacement found: student -> teacher\n",
      "Replacement found: following -> followed\n",
      "No replacement found for ['exchange', 'following']\n",
      "Replacement found: hefner -> hugh\n",
      "No replacement found for ['festival', 'hefner', 'polk']\n"
     ]
    },
    {
     "name": "stderr",
     "output_type": "stream",
     "text": [
      "3it [00:00, 10.50it/s]"
     ]
    },
    {
     "name": "stdout",
     "output_type": "stream",
     "text": [
      "Replacement found: survey -> poll\n",
      "No replacement found for ['auspices']\n",
      "Replacement found: fishers -> anglers\n",
      "Replacement found: 2009 -> 2007\n"
     ]
    },
    {
     "name": "stderr",
     "output_type": "stream",
     "text": [
      "8it [00:00, 14.07it/s]"
     ]
    },
    {
     "name": "stdout",
     "output_type": "stream",
     "text": [
      "Replacement found: increased -> decreased\n",
      "Replacement found: abstinence -> contraception\n",
      "Replacement found: received -> receive\n",
      "Replacement found: contraceptives -> condoms\n",
      "No replacement found for ['states', 'station', 'united']\n",
      "Replacement found: minister -> prime\n",
      "Replacement found: former -> ex\n"
     ]
    },
    {
     "name": "stderr",
     "output_type": "stream",
     "text": [
      "10it [00:00, 13.41it/s]"
     ]
    },
    {
     "name": "stdout",
     "output_type": "stream",
     "text": [
      "Replacement found: publicly -> openly\n",
      "Replacement found: might -> could\n",
      "Replacement found: plans -> proposals\n",
      "Replacement found: alludes -> relates\n"
     ]
    },
    {
     "name": "stderr",
     "output_type": "stream",
     "text": [
      "14it [00:01, 10.13it/s]"
     ]
    },
    {
     "name": "stdout",
     "output_type": "stream",
     "text": [
      "Replacement found: sought -> tried\n",
      "Replacement found: apply -> applied\n",
      "Replacement found: benefits -> pensions\n",
      "Replacement found: core -> focus\n",
      "Replacement found: later -> subsequently\n",
      "Replacement found: fear -> worry\n",
      "Replacement found: sets -> pair\n"
     ]
    },
    {
     "name": "stderr",
     "output_type": "stream",
     "text": [
      "16it [00:01,  9.90it/s]"
     ]
    },
    {
     "name": "stdout",
     "output_type": "stream",
     "text": [
      "Replacement found: struck -> hit\n",
      "Replacement found: engagement -> constructive\n",
      "Replacement found: jet -> plane\n",
      "Replacement found: equality -> gender\n",
      "Replacement found: couples -> marriages\n",
      "Replacement found: violated -> breached\n",
      "No replacement found for ['biden']\n"
     ]
    },
    {
     "name": "stderr",
     "output_type": "stream",
     "text": [
      "21it [00:01, 12.61it/s]"
     ]
    },
    {
     "name": "stdout",
     "output_type": "stream",
     "text": [
      "Replacement found: amendment -> bill\n",
      "Replacement found: senate -> bill\n",
      "No replacement found for ['december', 'amendment', 'royal', 'senate']\n",
      "Replacement found: right -> left\n",
      "No replacement found for ['dst']\n",
      "Replacement found: legislation -> bill\n",
      "Replacement found: areas -> regions\n",
      "Replacement found: television -> tv\n"
     ]
    },
    {
     "name": "stderr",
     "output_type": "stream",
     "text": [
      "23it [00:02, 11.70it/s]"
     ]
    },
    {
     "name": "stdout",
     "output_type": "stream",
     "text": [
      "Replacement found: power -> electricity\n",
      "Replacement found: issue -> question\n",
      "Replacement found: cases -> instances\n",
      "Replacement found: interstate -> i-95\n",
      "Replacement found: stream -> flow\n",
      "Replacement found: distinction -> distinguish\n",
      "Replacement found: finance -> financing\n",
      "Replacement found: agreed -> decided\n",
      "Replacement found: study -> research\n",
      "Replacement found: 1996 -> 1998\n",
      "Replacement found: martian -> meteorite\n"
     ]
    },
    {
     "name": "stderr",
     "output_type": "stream",
     "text": [
      "27it [00:02, 12.68it/s]"
     ]
    },
    {
     "name": "stdout",
     "output_type": "stream",
     "text": [
      "Replacement found: closer -> better\n",
      "Replacement found: advocates -> proponents\n",
      "Replacement found: patriotism -> nationalism\n",
      "Replacement found: symptom -> symptomatic\n",
      "No replacement found for ['inception']\n",
      "Replacement found: food -> eat\n",
      "Replacement found: consider -> recommend\n",
      "Replacement found: pollution -> smog\n",
      "Replacement found: substances -> chemicals\n",
      "Replacement found: enormous -> immense\n"
     ]
    },
    {
     "name": "stderr",
     "output_type": "stream",
     "text": [
      "29it [00:02, 11.93it/s]"
     ]
    },
    {
     "name": "stdout",
     "output_type": "stream",
     "text": [
      "Replacement found: put -> come\n",
      "Replacement found: acquire -> acquired\n",
      "Replacement found: lived -> resided\n",
      "Replacement found: ate -> eaten\n",
      "Replacement found: influence -> exert\n",
      "Replacement found: work -> works\n",
      "Replacement found: chairman -> executive\n",
      "Replacement found: interference -> interfering\n",
      "Replacement found: law -> legislation\n",
      "Replacement found: county -> sheriff\n",
      "Replacement found: letters -> messages\n"
     ]
    },
    {
     "name": "stderr",
     "output_type": "stream",
     "text": [
      "34it [00:02, 15.34it/s]"
     ]
    },
    {
     "name": "stdout",
     "output_type": "stream",
     "text": [
      "Replacement found: check -> checks\n",
      "Replacement found: work -> working\n",
      "Replacement found: responses -> reactions\n",
      "Replacement found: practice -> time\n",
      "Replacement found: provide -> help\n",
      "Replacement found: support -> supported\n",
      "Replacement found: intervention -> intervene\n"
     ]
    },
    {
     "name": "stderr",
     "output_type": "stream",
     "text": [
      "36it [00:03, 11.91it/s]"
     ]
    },
    {
     "name": "stdout",
     "output_type": "stream",
     "text": [
      "Replacement found: outwardly -> inwardly\n",
      "Replacement found: also -> well\n",
      "Replacement found: elites -> aristocrats\n",
      "No replacement found for ['conflict', 'outwardly', 'also', 'ref', 'analysis', 'elites']\n",
      "Replacement found: companies -> firms\n",
      "Replacement found: requires -> require\n"
     ]
    },
    {
     "name": "stderr",
     "output_type": "stream",
     "text": [
      "38it [00:03,  9.79it/s]"
     ]
    },
    {
     "name": "stdout",
     "output_type": "stream",
     "text": [
      "Replacement found: policies -> reforms\n",
      "Replacement found: allow -> enable\n",
      "No replacement found for ['many', 'beyond', 'policies', 'allow']\n",
      "Replacement found: various -> numerous\n",
      "Replacement found: lds -> church\n",
      "Replacement found: well -> so\n",
      "Replacement found: colonies -> colonists\n"
     ]
    },
    {
     "name": "stderr",
     "output_type": "stream",
     "text": [
      "40it [00:03,  8.64it/s]"
     ]
    },
    {
     "name": "stdout",
     "output_type": "stream",
     "text": [
      "No replacement found for ['neck', 'immediato', 'ref', 'school']\n",
      "No replacement found for ['protect', 'freedom']\n",
      "Replacement found: governments -> nations\n"
     ]
    },
    {
     "name": "stderr",
     "output_type": "stream",
     "text": [
      "42it [00:03,  8.69it/s]"
     ]
    },
    {
     "name": "stdout",
     "output_type": "stream",
     "text": [
      "No replacement found for ['health', 'governments', 'agency', 'forum', 'russian']\n",
      "Replacement found: running -> going\n",
      "No replacement found for ['hundreds']\n",
      "Replacement found: acceptable -> unacceptable\n",
      "Replacement found: work -> job\n",
      "Replacement found: spot -> spots\n",
      "Replacement found: increase -> decrease\n",
      "Replacement found: net -> pretax\n",
      "Replacement found: effect -> impact\n"
     ]
    },
    {
     "name": "stderr",
     "output_type": "stream",
     "text": [
      "50it [00:04, 15.18it/s]"
     ]
    },
    {
     "name": "stdout",
     "output_type": "stream",
     "text": [
      "Replacement found: period -> beginning\n",
      "Replacement found: view -> viewed\n",
      "Replacement found: exemption -> exempt\n",
      "Replacement found: teach -> learn\n",
      "Replacement found: social -> political\n",
      "Replacement found: article -> page\n",
      "Replacement found: fit -> fits\n",
      "Replacement found: stated -> commented\n"
     ]
    },
    {
     "name": "stderr",
     "output_type": "stream",
     "text": [
      "51it [00:04, 11.23it/s]"
     ]
    },
    {
     "name": "stdout",
     "output_type": "stream",
     "text": [
      "Replacement found: number -> have\n"
     ]
    },
    {
     "name": "stderr",
     "output_type": "stream",
     "text": [
      "\n"
     ]
    },
    {
     "ename": "KeyboardInterrupt",
     "evalue": "",
     "output_type": "error",
     "traceback": [
      "\u001b[31m---------------------------------------------------------------------------\u001b[39m",
      "\u001b[31mKeyboardInterrupt\u001b[39m                         Traceback (most recent call last)",
      "\u001b[36mCell\u001b[39m\u001b[36m \u001b[39m\u001b[32mIn[75]\u001b[39m\u001b[32m, line 53\u001b[39m\n\u001b[32m     50\u001b[39m new_evidence = re.sub(pattern, synonym, original_evidence)\n\u001b[32m     52\u001b[39m \u001b[38;5;66;03m# POS tag the new evidence\u001b[39;00m\n\u001b[32m---> \u001b[39m\u001b[32m53\u001b[39m new_evidence_pos = \u001b[43mnltk\u001b[49m\u001b[43m.\u001b[49m\u001b[43mpos_tag\u001b[49m\u001b[43m(\u001b[49m\u001b[43mnltk\u001b[49m\u001b[43m.\u001b[49m\u001b[43mword_tokenize\u001b[49m\u001b[43m(\u001b[49m\u001b[43mnew_evidence\u001b[49m\u001b[43m)\u001b[49m\u001b[43m)\u001b[49m\n\u001b[32m     55\u001b[39m new_evidence_pos_dict: \u001b[38;5;28mdict\u001b[39m[\u001b[38;5;28mstr\u001b[39m, \u001b[38;5;28mlist\u001b[39m[\u001b[38;5;28mstr\u001b[39m]] = {word.lower(): [] \u001b[38;5;28;01mfor\u001b[39;00m (word, _) \u001b[38;5;129;01min\u001b[39;00m new_evidence_pos}\n\u001b[32m     56\u001b[39m \u001b[38;5;28;01mfor\u001b[39;00m word, tag \u001b[38;5;129;01min\u001b[39;00m new_evidence_pos:\n",
      "\u001b[36mFile \u001b[39m\u001b[32mc:\\Users\\willi\\Desktop\\Uni\\3rd_year\\NLU\\comp38412-not-broken\\.venv\\Lib\\site-packages\\nltk\\tag\\__init__.py:169\u001b[39m, in \u001b[36mpos_tag\u001b[39m\u001b[34m(tokens, tagset, lang)\u001b[39m\n\u001b[32m    144\u001b[39m \u001b[38;5;250m\u001b[39m\u001b[33;03m\"\"\"\u001b[39;00m\n\u001b[32m    145\u001b[39m \u001b[33;03mUse NLTK's currently recommended part of speech tagger to\u001b[39;00m\n\u001b[32m    146\u001b[39m \u001b[33;03mtag the given list of tokens.\u001b[39;00m\n\u001b[32m   (...)\u001b[39m\u001b[32m    166\u001b[39m \u001b[33;03m:rtype: list(tuple(str, str))\u001b[39;00m\n\u001b[32m    167\u001b[39m \u001b[33;03m\"\"\"\u001b[39;00m\n\u001b[32m    168\u001b[39m tagger = _get_tagger(lang)\n\u001b[32m--> \u001b[39m\u001b[32m169\u001b[39m \u001b[38;5;28;01mreturn\u001b[39;00m \u001b[43m_pos_tag\u001b[49m\u001b[43m(\u001b[49m\u001b[43mtokens\u001b[49m\u001b[43m,\u001b[49m\u001b[43m \u001b[49m\u001b[43mtagset\u001b[49m\u001b[43m,\u001b[49m\u001b[43m \u001b[49m\u001b[43mtagger\u001b[49m\u001b[43m,\u001b[49m\u001b[43m \u001b[49m\u001b[43mlang\u001b[49m\u001b[43m)\u001b[49m\n",
      "\u001b[36mFile \u001b[39m\u001b[32mc:\\Users\\willi\\Desktop\\Uni\\3rd_year\\NLU\\comp38412-not-broken\\.venv\\Lib\\site-packages\\nltk\\tag\\__init__.py:126\u001b[39m, in \u001b[36m_pos_tag\u001b[39m\u001b[34m(tokens, tagset, tagger, lang)\u001b[39m\n\u001b[32m    123\u001b[39m     \u001b[38;5;28;01mraise\u001b[39;00m \u001b[38;5;167;01mTypeError\u001b[39;00m(\u001b[33m\"\u001b[39m\u001b[33mtokens: expected a list of strings, got a string\u001b[39m\u001b[33m\"\u001b[39m)\n\u001b[32m    125\u001b[39m \u001b[38;5;28;01melse\u001b[39;00m:\n\u001b[32m--> \u001b[39m\u001b[32m126\u001b[39m     tagged_tokens = \u001b[43mtagger\u001b[49m\u001b[43m.\u001b[49m\u001b[43mtag\u001b[49m\u001b[43m(\u001b[49m\u001b[43mtokens\u001b[49m\u001b[43m)\u001b[49m\n\u001b[32m    127\u001b[39m     \u001b[38;5;28;01mif\u001b[39;00m tagset:  \u001b[38;5;66;03m# Maps to the specified tagset.\u001b[39;00m\n\u001b[32m    128\u001b[39m         \u001b[38;5;28;01mif\u001b[39;00m lang == \u001b[33m\"\u001b[39m\u001b[33meng\u001b[39m\u001b[33m\"\u001b[39m:\n",
      "\u001b[36mFile \u001b[39m\u001b[32mc:\\Users\\willi\\Desktop\\Uni\\3rd_year\\NLU\\comp38412-not-broken\\.venv\\Lib\\site-packages\\nltk\\tag\\perceptron.py:201\u001b[39m, in \u001b[36mPerceptronTagger.tag\u001b[39m\u001b[34m(self, tokens, return_conf, use_tagdict)\u001b[39m\n\u001b[32m    199\u001b[39m \u001b[38;5;28;01mif\u001b[39;00m \u001b[38;5;129;01mnot\u001b[39;00m tag:\n\u001b[32m    200\u001b[39m     features = \u001b[38;5;28mself\u001b[39m._get_features(i, word, context, prev, prev2)\n\u001b[32m--> \u001b[39m\u001b[32m201\u001b[39m     tag, conf = \u001b[38;5;28;43mself\u001b[39;49m\u001b[43m.\u001b[49m\u001b[43mmodel\u001b[49m\u001b[43m.\u001b[49m\u001b[43mpredict\u001b[49m\u001b[43m(\u001b[49m\u001b[43mfeatures\u001b[49m\u001b[43m,\u001b[49m\u001b[43m \u001b[49m\u001b[43mreturn_conf\u001b[49m\u001b[43m)\u001b[49m\n\u001b[32m    202\u001b[39m output.append((word, tag, conf) \u001b[38;5;28;01mif\u001b[39;00m return_conf == \u001b[38;5;28;01mTrue\u001b[39;00m \u001b[38;5;28;01melse\u001b[39;00m (word, tag))\n\u001b[32m    204\u001b[39m prev2 = prev\n",
      "\u001b[36mFile \u001b[39m\u001b[32mc:\\Users\\willi\\Desktop\\Uni\\3rd_year\\NLU\\comp38412-not-broken\\.venv\\Lib\\site-packages\\nltk\\tag\\perceptron.py:83\u001b[39m, in \u001b[36mAveragedPerceptron.predict\u001b[39m\u001b[34m(self, features, return_conf)\u001b[39m\n\u001b[32m     81\u001b[39m     weights = \u001b[38;5;28mself\u001b[39m.weights[feat]\n\u001b[32m     82\u001b[39m     \u001b[38;5;28;01mfor\u001b[39;00m label, weight \u001b[38;5;129;01min\u001b[39;00m weights.items():\n\u001b[32m---> \u001b[39m\u001b[32m83\u001b[39m         scores[label] += value * weight\n\u001b[32m     85\u001b[39m \u001b[38;5;66;03m# Do a secondary alphabetic sort, for stability\u001b[39;00m\n\u001b[32m     86\u001b[39m best_label = \u001b[38;5;28mmax\u001b[39m(\u001b[38;5;28mself\u001b[39m.classes, key=\u001b[38;5;28;01mlambda\u001b[39;00m label: (scores[label], label))\n",
      "\u001b[31mKeyboardInterrupt\u001b[39m: "
     ]
    }
   ],
   "source": [
    "# BATCH_SIZE = 1000\n",
    "# batch_counter = 0\n",
    "\n",
    "\n",
    "# for idx, (claim, evidence) in tqdm(enumerate(zip(corresponding_claim, evidences))):    \n",
    "#     claim_words = claim.split()\n",
    "#     evidence_words = evidence.split()\n",
    "    \n",
    "#     pos_tags = original_evidences_pos[idx]\n",
    "#     pos_tags_dict: dict[str, list[str]] = {word.lower(): [] for (word, _) in pos_tags}\n",
    "#     for word, tag in pos_tags:\n",
    "#         pos_tags_dict[word.lower()].append(tag)\n",
    "    \n",
    "#     # Words that appear in both claim and evidence should not be replaced\n",
    "#     common_words = set(claim_words) & set(evidence_words)\n",
    "#     # Find words in evidence that are not in the claim\n",
    "#     potential_replacements = []\n",
    "#     # Pre-compute claim words set for faster lookups\n",
    "#     claim_words = set(claim_words)\n",
    "    \n",
    "#     for word in evidence_words:\n",
    "#         if word in common_words:\n",
    "#             continue\n",
    "#         # Skip words that are substrings of claim words or vice versa\n",
    "#         if any(word in claim_word or claim_word in word for claim_word in claim_words):\n",
    "#             continue\n",
    "#         # Skip words that are not in the pos_tags_dict as we cannot reliably replace them\n",
    "#         if word not in pos_tags_dict:\n",
    "#             continue\n",
    "        \n",
    "  \n",
    "#         potential_replacements.append(word)\n",
    "    \n",
    "#     number_of_replacements = len(potential_replacements) // 5\n",
    "#     # If the length of potential replacements is less than 5, then no replacements can be made, so skip\n",
    "#     if number_of_replacements < 1:\n",
    "#         continue\n",
    "    \n",
    "#     words_to_replace = random.sample(potential_replacements, k=number_of_replacements) \n",
    "#     word_replacement_map = {word: get_synonyms(word, noise_level=0.0001, topn=20) for word in words_to_replace}\n",
    "    \n",
    "#     final_word_replacement_map = {}\n",
    "    \n",
    "#     for word_to_be_replaced, synonyms in word_replacement_map.items():\n",
    "#         replacement_found = False\n",
    "        \n",
    "#         for synonym in synonyms:\n",
    "#             original_evidence = original_evidences[idx]\n",
    "#             pattern = r'\\b' + re.escape(word_to_be_replaced) + r'\\b'\n",
    "#             new_evidence = re.sub(pattern, synonym, original_evidence)\n",
    "            \n",
    "#             # POS tag the new evidence\n",
    "#             new_evidence_pos = nltk.pos_tag(nltk.word_tokenize(new_evidence))\n",
    "            \n",
    "#             new_evidence_pos_dict: dict[str, list[str]] = {word.lower(): [] for (word, _) in new_evidence_pos}\n",
    "#             for word, tag in new_evidence_pos:\n",
    "#                 new_evidence_pos_dict[word.lower()].append(tag)\n",
    "            \n",
    "#             # Check if both words exist in their respective dictionaries\n",
    "#             if (word_to_be_replaced in pos_tags_dict and \n",
    "#                 synonym.lower() in new_evidence_pos_dict and \n",
    "#                 pos_tags_dict[word_to_be_replaced] == new_evidence_pos_dict[synonym.lower()]):\n",
    "#                 replacement_found = True\n",
    "#                 final_word_replacement_map[word_to_be_replaced] = synonym\n",
    "#                 break\n",
    "                \n",
    "#         if replacement_found:\n",
    "#             print(f\"Replacement found: {word_to_be_replaced} -> {synonym}\")\n",
    "#             final_word_replacement_map[word_to_be_replaced] = synonym\n",
    "        \n",
    "#     # If less than 60% of the words have been replaced, skip\n",
    "#     if len(final_word_replacement_map) < len(words_to_replace) * 0.6:\n",
    "#         print(f\"No replacement found for {words_to_replace}\")\n",
    "#         continue\n",
    "\n",
    "#     # Create a new evidence by replacing words with their synonyms\n",
    "#     new_evidence = original_evidences[idx]\n",
    "#     for word, replacement in final_word_replacement_map.items():\n",
    "#         pattern = r'\\b' + re.escape(word) + r'\\b'\n",
    "#         new_evidence = re.sub(pattern, replacement, new_evidence)\n",
    "    \n",
    "#     # Add to the dataframe with the corresponding claim and label\n",
    "#     new_row = pd.DataFrame({\n",
    "#         \"Claim\": [train_df['Claim'][idx]],\n",
    "#         \"Evidence\": [new_evidence],\n",
    "#         \"label\": [train_df['label'][idx]]\n",
    "#     })\n",
    "#     synyonm_replaced_df = pd.concat([synyonm_replaced_df, new_row], ignore_index=True)     \n",
    "    \n",
    "#     # When batch size is reached, save to CSV and clear DataFrame\n",
    "#     if len(synyonm_replaced_df) >= BATCH_SIZE:\n",
    "#         if batch_counter == 0:\n",
    "#             # First batch: create new file\n",
    "#             synyonm_replaced_df.to_csv('data/train_augmented_synonyms.csv', index=False, mode='w')\n",
    "#         else:\n",
    "#             # Subsequent batches: append to existing file\n",
    "#             synyonm_replaced_df.to_csv('data/train_augmented_synonyms.csv', index=False, mode='a', header=False)\n",
    "        \n",
    "#         # Clear DataFrame and increment batch counter\n",
    "#         synyonm_replaced_df = pd.DataFrame(columns=[\"Claim\", \"Evidence\", \"label\"])\n",
    "#         batch_counter += 1  \n",
    "        \n",
    "# # Save any remaining data in the final batch\n",
    "# if len(synyonm_replaced_df) > 0:\n",
    "#     if batch_counter == 0:\n",
    "#         synyonm_replaced_df.to_csv('data/train_augmented_synonyms.csv', index=False, mode='w')\n",
    "#     else:\n",
    "#         synyonm_replaced_df.to_csv('data/train_augmented_synonyms.csv', index=False, mode='a', header=False) "
   ]
  },
  {
   "cell_type": "code",
   "execution_count": 119,
   "metadata": {},
   "outputs": [],
   "source": [
    "synyonm_replaced_df.to_csv('data/train_augmented_synonyms.csv', index=False)"
   ]
  },
  {
   "cell_type": "code",
   "execution_count": 117,
   "metadata": {},
   "outputs": [
    {
     "name": "stdout",
     "output_type": "stream",
     "text": [
      "Among the many educational legislation efforts, such as provisions schools, school vouchers, magnet schools, and alternatives schools, the full-service community school model is one of many educational legislation efforts that are intended to increasing student achievement, but the full-service community school model specifically focuses on the development of the community as a whole.\n",
      "Among the many educational reform efforts, such as charter schools, school vouchers, magnet schools, and alternative schools, the full-service community school model is one of many educational reform efforts that are intended to increase student achievement, but the full-service community school model specifically focuses on the development of the community as a whole.\n",
      "\n",
      "The U.S. Securities and Exchange Commission was established the following year, which helped combat insider trading and reducing transaction risky.  \n",
      "The U.S. Securities and Exchange Commission was established the following year, which helped combat insider trading and reducing transaction risk.  \n",
      "\n",
      "The film won an Emmy Award (1980), George Polk Award[REF] for investigative journalism on TV, Hugh M. Hefner First Amendment Award,[REF] and Best Documentary at the Mannheim Film Festival [REF].\n",
      "The film won an Emmy Award (1980), George Polk Award[REF] for investigative journalism on TV, Hugh M. Hefner First Amendment Award,[REF] and Best Documentary at the Mannheim Film Festival [REF].\n",
      "\n",
      "a 2002 survey by the European Commission found that \"only 10.1 percent of Europeans lieutenants the nuclear industry\n",
      "a 2001 survey by the European Commission found that \"only 10.1 percent of Europeans trusted the nuclear industry\n",
      "\n",
      "The US and several other u.n. are whaling under aboriginal whaling auspices.\n",
      "The US and several other nations are whaling under aboriginal whaling auspices.\n",
      "\n",
      "The semi-nomadic eco-centred Inuit were fishers and hunters harvesting lakes, seas, ice rigs and tundra.\n",
      "The semi-nomadic eco-centred Inuit were fishers and hunters harvesting lakes, seas, ice platforms and tundra.\n",
      "\n",
      "Total number of abortions in 2010 was 40 528 [REF][REF] of which 14 629 (i.e.\n",
      "Total number of abortions in 2009 was 40 528 [REF][REF] of which 14 629 (i.e.\n",
      "\n",
      "Virginity pledges and sexual abstinence education programs are usually promoted in lieu of contraceptives and safe-sex education programs. This may entail exposing some teenagers to increased risk of sexually virus infections, because about 60 percent of teenagers who pledge potency until marriage do engage in pre-marital sex and are then one-third less likely to use contraceptives than their peers who have received more conventional sex education [REF\n",
      "Virginity pledges and sexual abstinence education programs are often promoted in lieu of contraceptives and safe-sex education programs. This may entail exposing some teenagers to increased risk of sexually transmitted infections, because about 60 percent of teenagers who pledge virginity until marriage do engage in pre-marital sex and are then one-third less likely to use contraceptives than their peers who have received more conventional sex education [REF\n",
      "\n",
      "Antarctica's largest scientific base, the United States' McMurdo Station, as so as the New Zealand Scott Base are on the southeastern shore of the island.\n",
      "Antarctica's largest scientific base, the United States' McMurdo Station, as well as the New Zealand Scott Base are on the southern shore of the island.\n",
      "\n",
      "The former laws head health minister, Christopher Pyne, asked fast food outlets to reduce their trans fat usage.\n",
      "The former federal assistant health minister, Christopher Pyne, asked fast food outlets to reduce their trans fat usage.\n",
      "\n"
     ]
    }
   ],
   "source": [
    "for i in range(10):\n",
    "    print(f\"{synyonm_replaced_df.iloc[i]['Evidence']}\\n{original_evidences[i]}\\n\")"
   ]
  }
 ],
 "metadata": {
  "kernelspec": {
   "display_name": ".venv",
   "language": "python",
   "name": "python3"
  },
  "language_info": {
   "codemirror_mode": {
    "name": "ipython",
    "version": 3
   },
   "file_extension": ".py",
   "mimetype": "text/x-python",
   "name": "python",
   "nbconvert_exporter": "python",
   "pygments_lexer": "ipython3",
   "version": "3.11.2"
  }
 },
 "nbformat": 4,
 "nbformat_minor": 2
}
